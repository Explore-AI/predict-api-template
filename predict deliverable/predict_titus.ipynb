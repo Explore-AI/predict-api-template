{
 "cells": [
  {
   "cell_type": "markdown",
   "metadata": {},
   "source": [
    "# Introduction"
   ]
  },
  {
   "cell_type": "markdown",
   "metadata": {
    "heading_collapsed": true
   },
   "source": [
    "## Context\n",
    "\n",
    "Sendy, in partnership with insight2impact facility, is hosting a Zindi challenge to predict the estimated time of delivery of orders, from the point of driver pickup to the point of arrival at final destination.\n",
    "\n",
    "The solution will help Sendy enhance customer communication and improve the reliability of its service; which will ultimately improve customer experience. In addition, the solution will enable Sendy to realise cost savings, and ultimately reduce the cost of doing business, through improved resource management and planning for order scheduling.\n",
    "\n",
    "Sendy helps men and women behind every type of business to trade easily, deliver more competitively, and build extraordinary businesses.\n",
    "\n",
    "## Problem Statement\n",
    "\n",
    "Data is a critical component in helping Sendy to build more efficient, affordable and accessible solutions. Given the details of a Sendy order, can we use historic data to predict an accurate time for the arrival of the rider at the destination of a package? In this competition, we’re challenging you to build a model that predicts an accurate delivery time, from picking up a package to arriving at the final destination. An accurate arrival time prediction will help all businesses to improve their logistics and communicate an accurate time to their customers."
   ]
  },
  {
   "cell_type": "markdown",
   "metadata": {
    "hide_input": true
   },
   "source": [
    "# Data Exploration"
   ]
  },
  {
   "cell_type": "markdown",
   "metadata": {},
   "source": [
    "###### Import packages and load data files"
   ]
  },
  {
   "cell_type": "code",
   "execution_count": 1,
   "metadata": {},
   "outputs": [],
   "source": [
    "# import packages\n",
    "import pprint\n",
    "import pandas as pd\n",
    "import numpy as np\n",
    "import itertools\n",
    "import statsmodels.api as sm\n",
    "\n",
    "import matplotlib.pyplot as plt\n",
    "import seaborn as sns\n",
    "sns.set_style('darkgrid')\n",
    "\n",
    "%matplotlib inline\n",
    "\n",
    "pp = pprint.PrettyPrinter()"
   ]
  },
  {
   "cell_type": "code",
   "execution_count": 2,
   "metadata": {},
   "outputs": [],
   "source": [
    "# load data\n",
    "train_data = pd.read_csv(r'C:\\Users\\tbndo\\Google Drive\\Projects\\regression-predict-api-template\\predict deliverable\\data\\Train.csv')\n",
    "test_data = pd.read_csv(r'C:\\Users\\tbndo\\Google Drive\\Projects\\regression-predict-api-template\\predict deliverable\\data\\Test.csv')\n",
    "riders_data = pd.read_csv(r'C:\\Users\\tbndo\\Google Drive\\Projects\\regression-predict-api-template\\predict deliverable\\data\\Riders.csv')"
   ]
  },
  {
   "cell_type": "markdown",
   "metadata": {},
   "source": [
    "###### display variable descriptions\n",
    "\n",
    "Variable descriptions are stored in the csv Variable definations. Here we load that csv and print out each row."
   ]
  },
  {
   "cell_type": "code",
   "execution_count": 3,
   "metadata": {},
   "outputs": [
    {
     "name": "stdout",
     "output_type": "stream",
     "text": [
      "User Id:  Unique number identifying the customer on a platform\n",
      "Vehicle Type:  For this competition limited to bikes, however in practice Sendy service extends to trucks and vans\n",
      "Platform Type:  Platform used to place the order, there are 4 types\n",
      "Personal or Business:  Customer type\n",
      "Placement - Day of Month:  Placement - Day of Month i.e 1-31\n",
      "Placement - Weekday (Mo = 1):  Placement - Weekday (Monday = 1)\n",
      "Placement - Time:  Placement - Time - Time of day the order was placed\n",
      "Confirmation - Day of Month:  Confirmation - Day of Month i.e 1-31\n",
      "Confirmation - Weekday (Mo = 1):  Confirmation - Weekday (Monday = 1)\n",
      "Confirmation - Time:  Confirmation - Time - Time of day the order was confirmed by a rider\n",
      "Arrival at Pickup - Day of Month:  Arrival at Pickup - Day of Month i.e 1-31\n",
      "Arrival at Pickup - Weekday (Mo = 1):  Arrival at Pickup - Weekday (Monday = 1)\n",
      "Arrival at Pickup - Time:  Time of day the the rider arrived at the location to pick up the order - as marked by the rider through the Sendy application\n",
      "Pickup - Day of Month:  Pickup - Day of Month i.e 1-31\n",
      "Pickup - Weekday (Mo = 1):  Pickup - Weekday (Monday = 1)\n",
      "Pickup - Time:  Pickup - Time - Time of day the the rider picked up the order - as marked by the rider through the Sendy application\n",
      "Arrival at Destination - Day of Month:  Arrival at Delivery - Day of Month i.e 1-31\n",
      "Arrival at Destination - Weekday (Mo = 1):  Arrival at Delivery - Weekday (Monday = 1)\n",
      "Arrival at Destination - Time:  Arrival at Delivery Time - Time of day the rider arrived at the destination to deliver the order - as marked by the rider through the Sendy application\n",
      "Distance (KM):  The distance from Pickup to Destination\n",
      "Temperature:  Temperature at the time of order placement in Degrees Celsius (measured every three hours)\n",
      "Precipitation in millimeters:   Precipitation at the time of order placement (measured every three hours)\n",
      "Pickup Lat:  Latitude of pick up location\n",
      "Pickup Long:  Longitude of pick up location\n",
      "Destination Lat:  Latitude of delivery location\n",
      "Destination Long:  Longitude of delivery location\n",
      "Rider Id:   ID of the Rider who accepted the order\n",
      "Time from Pickup to Arrival:  Time in seconds between 'Pickup' and 'Arrival at Destination' - calculated from the columns for the purpose of facilitating the task\n",
      "Rider Metrics:  nan\n",
      "No_Of_Orders:   Number of Orders the rider has delivered\n",
      "Age:  Number of days since the rider delivered the first order\n",
      "Average_Rating:  Average rating of the rider\n",
      "No_of_Ratings:   Number of ratings the rider has received. Rating an order is optional for the customer.\n"
     ]
    }
   ],
   "source": [
    "\n",
    "variable_defs = pd.read_csv(r'C:\\Users\\tbndo\\Google Drive\\Projects\\regression-predict-api-template\\predict deliverable\\data\\VariableDefinitions.csv')\n",
    "variable_defs = variable_defs.drop_duplicates(subset = 'Order No').dropna(how = 'all')\n",
    "variable_defs.set_index('Order No', inplace = True)\n",
    "for feature in variable_defs.index:\n",
    "    print('{}: '.format(feature), variable_defs.loc[feature, :][0])"
   ]
  },
  {
   "cell_type": "markdown",
   "metadata": {},
   "source": [
    "###### Display the shape of train and test data\n",
    "Train consists of 21201 orders and 29 features. Test_data consists of orders and 25 features. This makes sense as the train data should contain extra columns that are not available in the test data i.e the target. Lets do further investigation of this."
   ]
  },
  {
   "cell_type": "code",
   "execution_count": 4,
   "metadata": {},
   "outputs": [
    {
     "name": "stdout",
     "output_type": "stream",
     "text": [
      "Train rows and columns : (21201, 29)\n",
      "Test rows and columns : (7068, 25)\n"
     ]
    }
   ],
   "source": [
    "print('Train rows and columns :', train_data.shape)\n",
    "print('Test rows and columns :', test_data.shape)"
   ]
  },
  {
   "cell_type": "markdown",
   "metadata": {},
   "source": [
    "###### Investigating the target. \n",
    "We find that really train_data has 4 extra columns that relate to the target. These are displayed in the output below and stored in a set object named target_vars"
   ]
  },
  {
   "cell_type": "code",
   "execution_count": 5,
   "metadata": {},
   "outputs": [
    {
     "name": "stdout",
     "output_type": "stream",
     "text": [
      "Target columns\n",
      "{'Time from Pickup to Arrival', 'Arrival at Destination - Day of Month', 'Arrival at Destination - Time', 'Arrival at Destination - Weekday (Mo = 1)'}\n"
     ]
    }
   ],
   "source": [
    "train_column_names = train_data.columns.values # get the train column names \n",
    "test_column_names = test_data.columns.values # het the test column names\n",
    "target_vars = set(train_column_names) - set(test_column_names) # the difference between train and test column names leaves the trget column names \n",
    "print('Target columns')\n",
    "print(target_vars)"
   ]
  },
  {
   "cell_type": "markdown",
   "metadata": {},
   "source": [
    "We are also provided with a Riders csv file. Given that a single rider can make multiple deliveries we do not expect the length of this file to be the same as that of our training or testing datasets. Below we display the total number of riders (960). Of these 960, 924 have appearance in train_data while 822 make appearance in test_data. 952 make apperance in both train and test data, meaning 8 riders are not are not have not made any deliveries in the provided datasets."
   ]
  },
  {
   "cell_type": "code",
   "execution_count": 6,
   "metadata": {},
   "outputs": [
    {
     "name": "stdout",
     "output_type": "stream",
     "text": [
      " Total Riders : 960 \n",
      " Riders in train data : 924 \n",
      " Riders in test data : 822 \n",
      " Intersection between train & test data : 952\n"
     ]
    }
   ],
   "source": [
    "print(' Total Riders :', riders_data['Rider Id'].nunique(), \n",
    "      '\\n Riders in train data :',train_data['Rider Id'].nunique(),\n",
    "      '\\n Riders in test data :',test_data['Rider Id'].nunique(),\n",
    "      '\\n Intersection between train & test data :', pd.Series(test_data['Rider Id'].to_list() + train_data['Rider Id'].to_list()).nunique()\n",
    "     )"
   ]
  },
  {
   "cell_type": "markdown",
   "metadata": {},
   "source": [
    "###### task: Join the riders_data with both train and test data. \n",
    "Prioritise observation in train and test data. See the how parameter of pd.merge in the cell below."
   ]
  },
  {
   "cell_type": "code",
   "execution_count": 7,
   "metadata": {},
   "outputs": [],
   "source": [
    "train_data = pd.merge(\n",
    "                left = train_data,\n",
    "                right = riders_data,\n",
    "                how = 'left'\n",
    "            )\n",
    "\n",
    "test_data = pd.merge(\n",
    "                left = test_data,\n",
    "                right = riders_data,\n",
    "                how = 'left'\n",
    "            )"
   ]
  },
  {
   "cell_type": "code",
   "execution_count": 8,
   "metadata": {},
   "outputs": [
    {
     "data": {
      "text/html": [
       "<div>\n",
       "<style scoped>\n",
       "    .dataframe tbody tr th:only-of-type {\n",
       "        vertical-align: middle;\n",
       "    }\n",
       "\n",
       "    .dataframe tbody tr th {\n",
       "        vertical-align: top;\n",
       "    }\n",
       "\n",
       "    .dataframe thead th {\n",
       "        text-align: right;\n",
       "    }\n",
       "</style>\n",
       "<table border=\"1\" class=\"dataframe\">\n",
       "  <thead>\n",
       "    <tr style=\"text-align: right;\">\n",
       "      <th></th>\n",
       "      <th>Order No</th>\n",
       "      <th>User Id</th>\n",
       "      <th>Vehicle Type</th>\n",
       "      <th>Platform Type</th>\n",
       "      <th>Personal or Business</th>\n",
       "      <th>Placement - Day of Month</th>\n",
       "      <th>Placement - Weekday (Mo = 1)</th>\n",
       "      <th>Placement - Time</th>\n",
       "      <th>Confirmation - Day of Month</th>\n",
       "      <th>Confirmation - Weekday (Mo = 1)</th>\n",
       "      <th>...</th>\n",
       "      <th>Pickup Lat</th>\n",
       "      <th>Pickup Long</th>\n",
       "      <th>Destination Lat</th>\n",
       "      <th>Destination Long</th>\n",
       "      <th>Rider Id</th>\n",
       "      <th>Time from Pickup to Arrival</th>\n",
       "      <th>No_Of_Orders</th>\n",
       "      <th>Age</th>\n",
       "      <th>Average_Rating</th>\n",
       "      <th>No_of_Ratings</th>\n",
       "    </tr>\n",
       "  </thead>\n",
       "  <tbody>\n",
       "    <tr>\n",
       "      <th>0</th>\n",
       "      <td>Order_No_4211</td>\n",
       "      <td>User_Id_633</td>\n",
       "      <td>Bike</td>\n",
       "      <td>3</td>\n",
       "      <td>Business</td>\n",
       "      <td>9</td>\n",
       "      <td>5</td>\n",
       "      <td>9:35:46 AM</td>\n",
       "      <td>9</td>\n",
       "      <td>5</td>\n",
       "      <td>...</td>\n",
       "      <td>-1.317755</td>\n",
       "      <td>36.830370</td>\n",
       "      <td>-1.300406</td>\n",
       "      <td>36.829741</td>\n",
       "      <td>Rider_Id_432</td>\n",
       "      <td>745</td>\n",
       "      <td>1637</td>\n",
       "      <td>1309</td>\n",
       "      <td>13.8</td>\n",
       "      <td>549</td>\n",
       "    </tr>\n",
       "    <tr>\n",
       "      <th>1</th>\n",
       "      <td>Order_No_25375</td>\n",
       "      <td>User_Id_2285</td>\n",
       "      <td>Bike</td>\n",
       "      <td>3</td>\n",
       "      <td>Personal</td>\n",
       "      <td>12</td>\n",
       "      <td>5</td>\n",
       "      <td>11:16:16 AM</td>\n",
       "      <td>12</td>\n",
       "      <td>5</td>\n",
       "      <td>...</td>\n",
       "      <td>-1.351453</td>\n",
       "      <td>36.899315</td>\n",
       "      <td>-1.295004</td>\n",
       "      <td>36.814358</td>\n",
       "      <td>Rider_Id_856</td>\n",
       "      <td>1993</td>\n",
       "      <td>396</td>\n",
       "      <td>339</td>\n",
       "      <td>13.6</td>\n",
       "      <td>69</td>\n",
       "    </tr>\n",
       "    <tr>\n",
       "      <th>2</th>\n",
       "      <td>Order_No_1899</td>\n",
       "      <td>User_Id_265</td>\n",
       "      <td>Bike</td>\n",
       "      <td>3</td>\n",
       "      <td>Business</td>\n",
       "      <td>30</td>\n",
       "      <td>2</td>\n",
       "      <td>12:39:25 PM</td>\n",
       "      <td>30</td>\n",
       "      <td>2</td>\n",
       "      <td>...</td>\n",
       "      <td>-1.308284</td>\n",
       "      <td>36.843419</td>\n",
       "      <td>-1.300921</td>\n",
       "      <td>36.828195</td>\n",
       "      <td>Rider_Id_155</td>\n",
       "      <td>455</td>\n",
       "      <td>1023</td>\n",
       "      <td>242</td>\n",
       "      <td>12.5</td>\n",
       "      <td>114</td>\n",
       "    </tr>\n",
       "    <tr>\n",
       "      <th>3</th>\n",
       "      <td>Order_No_9336</td>\n",
       "      <td>User_Id_1402</td>\n",
       "      <td>Bike</td>\n",
       "      <td>3</td>\n",
       "      <td>Business</td>\n",
       "      <td>15</td>\n",
       "      <td>5</td>\n",
       "      <td>9:25:34 AM</td>\n",
       "      <td>15</td>\n",
       "      <td>5</td>\n",
       "      <td>...</td>\n",
       "      <td>-1.281301</td>\n",
       "      <td>36.832396</td>\n",
       "      <td>-1.257147</td>\n",
       "      <td>36.795063</td>\n",
       "      <td>Rider_Id_855</td>\n",
       "      <td>1341</td>\n",
       "      <td>886</td>\n",
       "      <td>283</td>\n",
       "      <td>14.5</td>\n",
       "      <td>113</td>\n",
       "    </tr>\n",
       "    <tr>\n",
       "      <th>4</th>\n",
       "      <td>Order_No_27883</td>\n",
       "      <td>User_Id_1737</td>\n",
       "      <td>Bike</td>\n",
       "      <td>1</td>\n",
       "      <td>Personal</td>\n",
       "      <td>13</td>\n",
       "      <td>1</td>\n",
       "      <td>9:55:18 AM</td>\n",
       "      <td>13</td>\n",
       "      <td>1</td>\n",
       "      <td>...</td>\n",
       "      <td>-1.266597</td>\n",
       "      <td>36.792118</td>\n",
       "      <td>-1.295041</td>\n",
       "      <td>36.809817</td>\n",
       "      <td>Rider_Id_770</td>\n",
       "      <td>1214</td>\n",
       "      <td>2311</td>\n",
       "      <td>872</td>\n",
       "      <td>14.1</td>\n",
       "      <td>533</td>\n",
       "    </tr>\n",
       "  </tbody>\n",
       "</table>\n",
       "<p>5 rows × 33 columns</p>\n",
       "</div>"
      ],
      "text/plain": [
       "         Order No       User Id Vehicle Type  Platform Type  \\\n",
       "0   Order_No_4211   User_Id_633         Bike              3   \n",
       "1  Order_No_25375  User_Id_2285         Bike              3   \n",
       "2   Order_No_1899   User_Id_265         Bike              3   \n",
       "3   Order_No_9336  User_Id_1402         Bike              3   \n",
       "4  Order_No_27883  User_Id_1737         Bike              1   \n",
       "\n",
       "  Personal or Business  Placement - Day of Month  \\\n",
       "0             Business                         9   \n",
       "1             Personal                        12   \n",
       "2             Business                        30   \n",
       "3             Business                        15   \n",
       "4             Personal                        13   \n",
       "\n",
       "   Placement - Weekday (Mo = 1) Placement - Time  Confirmation - Day of Month  \\\n",
       "0                             5       9:35:46 AM                            9   \n",
       "1                             5      11:16:16 AM                           12   \n",
       "2                             2      12:39:25 PM                           30   \n",
       "3                             5       9:25:34 AM                           15   \n",
       "4                             1       9:55:18 AM                           13   \n",
       "\n",
       "   Confirmation - Weekday (Mo = 1)  ... Pickup Lat  Pickup Long  \\\n",
       "0                                5  ...  -1.317755    36.830370   \n",
       "1                                5  ...  -1.351453    36.899315   \n",
       "2                                2  ...  -1.308284    36.843419   \n",
       "3                                5  ...  -1.281301    36.832396   \n",
       "4                                1  ...  -1.266597    36.792118   \n",
       "\n",
       "   Destination Lat Destination Long      Rider Id  \\\n",
       "0        -1.300406        36.829741  Rider_Id_432   \n",
       "1        -1.295004        36.814358  Rider_Id_856   \n",
       "2        -1.300921        36.828195  Rider_Id_155   \n",
       "3        -1.257147        36.795063  Rider_Id_855   \n",
       "4        -1.295041        36.809817  Rider_Id_770   \n",
       "\n",
       "   Time from Pickup to Arrival No_Of_Orders   Age  Average_Rating  \\\n",
       "0                          745         1637  1309            13.8   \n",
       "1                         1993          396   339            13.6   \n",
       "2                          455         1023   242            12.5   \n",
       "3                         1341          886   283            14.5   \n",
       "4                         1214         2311   872            14.1   \n",
       "\n",
       "  No_of_Ratings  \n",
       "0           549  \n",
       "1            69  \n",
       "2           114  \n",
       "3           113  \n",
       "4           533  \n",
       "\n",
       "[5 rows x 33 columns]"
      ]
     },
     "execution_count": 8,
     "metadata": {},
     "output_type": "execute_result"
    }
   ],
   "source": [
    "# print train_data\n",
    "train_data.head()"
   ]
  },
  {
   "cell_type": "code",
   "execution_count": 9,
   "metadata": {},
   "outputs": [
    {
     "data": {
      "text/html": [
       "<div>\n",
       "<style scoped>\n",
       "    .dataframe tbody tr th:only-of-type {\n",
       "        vertical-align: middle;\n",
       "    }\n",
       "\n",
       "    .dataframe tbody tr th {\n",
       "        vertical-align: top;\n",
       "    }\n",
       "\n",
       "    .dataframe thead th {\n",
       "        text-align: right;\n",
       "    }\n",
       "</style>\n",
       "<table border=\"1\" class=\"dataframe\">\n",
       "  <thead>\n",
       "    <tr style=\"text-align: right;\">\n",
       "      <th></th>\n",
       "      <th>Order No</th>\n",
       "      <th>User Id</th>\n",
       "      <th>Vehicle Type</th>\n",
       "      <th>Platform Type</th>\n",
       "      <th>Personal or Business</th>\n",
       "      <th>Placement - Day of Month</th>\n",
       "      <th>Placement - Weekday (Mo = 1)</th>\n",
       "      <th>Placement - Time</th>\n",
       "      <th>Confirmation - Day of Month</th>\n",
       "      <th>Confirmation - Weekday (Mo = 1)</th>\n",
       "      <th>...</th>\n",
       "      <th>Precipitation in millimeters</th>\n",
       "      <th>Pickup Lat</th>\n",
       "      <th>Pickup Long</th>\n",
       "      <th>Destination Lat</th>\n",
       "      <th>Destination Long</th>\n",
       "      <th>Rider Id</th>\n",
       "      <th>No_Of_Orders</th>\n",
       "      <th>Age</th>\n",
       "      <th>Average_Rating</th>\n",
       "      <th>No_of_Ratings</th>\n",
       "    </tr>\n",
       "  </thead>\n",
       "  <tbody>\n",
       "    <tr>\n",
       "      <th>0</th>\n",
       "      <td>Order_No_19248</td>\n",
       "      <td>User_Id_3355</td>\n",
       "      <td>Bike</td>\n",
       "      <td>3</td>\n",
       "      <td>Business</td>\n",
       "      <td>27</td>\n",
       "      <td>3</td>\n",
       "      <td>4:44:10 PM</td>\n",
       "      <td>27</td>\n",
       "      <td>3</td>\n",
       "      <td>...</td>\n",
       "      <td>NaN</td>\n",
       "      <td>-1.333275</td>\n",
       "      <td>36.870815</td>\n",
       "      <td>-1.305249</td>\n",
       "      <td>36.822390</td>\n",
       "      <td>Rider_Id_192</td>\n",
       "      <td>439</td>\n",
       "      <td>1511</td>\n",
       "      <td>13.3</td>\n",
       "      <td>171</td>\n",
       "    </tr>\n",
       "    <tr>\n",
       "      <th>1</th>\n",
       "      <td>Order_No_12736</td>\n",
       "      <td>User_Id_3647</td>\n",
       "      <td>Bike</td>\n",
       "      <td>3</td>\n",
       "      <td>Business</td>\n",
       "      <td>17</td>\n",
       "      <td>5</td>\n",
       "      <td>12:57:35 PM</td>\n",
       "      <td>17</td>\n",
       "      <td>5</td>\n",
       "      <td>...</td>\n",
       "      <td>NaN</td>\n",
       "      <td>-1.272639</td>\n",
       "      <td>36.794723</td>\n",
       "      <td>-1.277007</td>\n",
       "      <td>36.823907</td>\n",
       "      <td>Rider_Id_868</td>\n",
       "      <td>488</td>\n",
       "      <td>273</td>\n",
       "      <td>14.4</td>\n",
       "      <td>45</td>\n",
       "    </tr>\n",
       "    <tr>\n",
       "      <th>2</th>\n",
       "      <td>Order_No_768</td>\n",
       "      <td>User_Id_2154</td>\n",
       "      <td>Bike</td>\n",
       "      <td>3</td>\n",
       "      <td>Business</td>\n",
       "      <td>27</td>\n",
       "      <td>4</td>\n",
       "      <td>11:08:14 AM</td>\n",
       "      <td>27</td>\n",
       "      <td>4</td>\n",
       "      <td>...</td>\n",
       "      <td>NaN</td>\n",
       "      <td>-1.290894</td>\n",
       "      <td>36.822971</td>\n",
       "      <td>-1.276574</td>\n",
       "      <td>36.851365</td>\n",
       "      <td>Rider_Id_26</td>\n",
       "      <td>833</td>\n",
       "      <td>460</td>\n",
       "      <td>13.1</td>\n",
       "      <td>67</td>\n",
       "    </tr>\n",
       "    <tr>\n",
       "      <th>3</th>\n",
       "      <td>Order_No_15332</td>\n",
       "      <td>User_Id_2910</td>\n",
       "      <td>Bike</td>\n",
       "      <td>3</td>\n",
       "      <td>Business</td>\n",
       "      <td>17</td>\n",
       "      <td>1</td>\n",
       "      <td>1:51:35 PM</td>\n",
       "      <td>17</td>\n",
       "      <td>1</td>\n",
       "      <td>...</td>\n",
       "      <td>NaN</td>\n",
       "      <td>-1.290503</td>\n",
       "      <td>36.809646</td>\n",
       "      <td>-1.303382</td>\n",
       "      <td>36.790658</td>\n",
       "      <td>Rider_Id_685</td>\n",
       "      <td>487</td>\n",
       "      <td>560</td>\n",
       "      <td>13.7</td>\n",
       "      <td>44</td>\n",
       "    </tr>\n",
       "    <tr>\n",
       "      <th>4</th>\n",
       "      <td>Order_No_21373</td>\n",
       "      <td>User_Id_1205</td>\n",
       "      <td>Bike</td>\n",
       "      <td>3</td>\n",
       "      <td>Business</td>\n",
       "      <td>11</td>\n",
       "      <td>2</td>\n",
       "      <td>11:30:28 AM</td>\n",
       "      <td>11</td>\n",
       "      <td>2</td>\n",
       "      <td>...</td>\n",
       "      <td>NaN</td>\n",
       "      <td>-1.281081</td>\n",
       "      <td>36.814423</td>\n",
       "      <td>-1.266467</td>\n",
       "      <td>36.792161</td>\n",
       "      <td>Rider_Id_858</td>\n",
       "      <td>4761</td>\n",
       "      <td>1120</td>\n",
       "      <td>14.1</td>\n",
       "      <td>1010</td>\n",
       "    </tr>\n",
       "  </tbody>\n",
       "</table>\n",
       "<p>5 rows × 29 columns</p>\n",
       "</div>"
      ],
      "text/plain": [
       "         Order No       User Id Vehicle Type  Platform Type  \\\n",
       "0  Order_No_19248  User_Id_3355         Bike              3   \n",
       "1  Order_No_12736  User_Id_3647         Bike              3   \n",
       "2    Order_No_768  User_Id_2154         Bike              3   \n",
       "3  Order_No_15332  User_Id_2910         Bike              3   \n",
       "4  Order_No_21373  User_Id_1205         Bike              3   \n",
       "\n",
       "  Personal or Business  Placement - Day of Month  \\\n",
       "0             Business                        27   \n",
       "1             Business                        17   \n",
       "2             Business                        27   \n",
       "3             Business                        17   \n",
       "4             Business                        11   \n",
       "\n",
       "   Placement - Weekday (Mo = 1) Placement - Time  Confirmation - Day of Month  \\\n",
       "0                             3       4:44:10 PM                           27   \n",
       "1                             5      12:57:35 PM                           17   \n",
       "2                             4      11:08:14 AM                           27   \n",
       "3                             1       1:51:35 PM                           17   \n",
       "4                             2      11:30:28 AM                           11   \n",
       "\n",
       "   Confirmation - Weekday (Mo = 1)  ... Precipitation in millimeters  \\\n",
       "0                                3  ...                          NaN   \n",
       "1                                5  ...                          NaN   \n",
       "2                                4  ...                          NaN   \n",
       "3                                1  ...                          NaN   \n",
       "4                                2  ...                          NaN   \n",
       "\n",
       "   Pickup Lat  Pickup Long Destination Lat  Destination Long      Rider Id  \\\n",
       "0   -1.333275    36.870815       -1.305249         36.822390  Rider_Id_192   \n",
       "1   -1.272639    36.794723       -1.277007         36.823907  Rider_Id_868   \n",
       "2   -1.290894    36.822971       -1.276574         36.851365   Rider_Id_26   \n",
       "3   -1.290503    36.809646       -1.303382         36.790658  Rider_Id_685   \n",
       "4   -1.281081    36.814423       -1.266467         36.792161  Rider_Id_858   \n",
       "\n",
       "  No_Of_Orders   Age  Average_Rating  No_of_Ratings  \n",
       "0          439  1511            13.3            171  \n",
       "1          488   273            14.4             45  \n",
       "2          833   460            13.1             67  \n",
       "3          487   560            13.7             44  \n",
       "4         4761  1120            14.1           1010  \n",
       "\n",
       "[5 rows x 29 columns]"
      ]
     },
     "execution_count": 9,
     "metadata": {},
     "output_type": "execute_result"
    }
   ],
   "source": [
    "# print test_data\n",
    "test_data.head()"
   ]
  },
  {
   "cell_type": "markdown",
   "metadata": {
    "heading_collapsed": true
   },
   "source": [
    "###### Conclude\n",
    "Note that the number of columns has increased by 4 in both train and test datasets. These are the 4 features that come with the riders_data i.e \n",
    "1. No_Of_Orders:   Number of Orders the rider has delivered\n",
    "2. Age:  Number of days since the rider delivered the first order\n",
    "3. Average_Rating:  Average rating of the rider\n",
    "4. No_of_Ratings\n",
    "\n",
    "We are now a little familiar with the data. Lets get more familiar with it by exploring the data structures associated with all our feature columns."
   ]
  },
  {
   "cell_type": "markdown",
   "metadata": {},
   "source": [
    "## Data Structures"
   ]
  },
  {
   "cell_type": "markdown",
   "metadata": {},
   "source": [
    "###### Check and Classify Columns by type\n",
    "The importance of correctly encoding column datatypes cannot be overstated. This will become clear later when we do Exploratory Data Analysis and eventually when preprocessing data for machine learning. Numeric features should encoded as such and so are categorical features and date and time objects. This section is devoted to making ensure consistency in data types. We begin by checking the current datatype per column. If the datatypes are correct, we need to classify the column names either to numeric_vars for numeric columns or factor_vars for categorical columns."
   ]
  },
  {
   "cell_type": "code",
   "execution_count": 10,
   "metadata": {},
   "outputs": [],
   "source": [
    "# user function to check a pd.Serie()'s datatype\n",
    "def checkDataType(df, column_name):\n",
    "    dtype = df[column_name].dtype\n",
    "    return str(dtype)\n",
    "\n",
    "# user function that classifies columns by datatype\n",
    "def classifyColumnsByDataType(df):\n",
    "\n",
    "    id_cols = ['Order No', 'User Id', 'Rider Id'] # not interested in classifying id columns\n",
    "    \n",
    "    numeric_type = ['int16', 'int64', 'float16', 'float64'] # these are classified as numeric varibles\n",
    "    factor_type = ['object']                                # these are classified as categorical / factor type\n",
    "    \n",
    "    numeric_vars = list()                                   # empty container\n",
    "    factor_vars = list()                                    # empty container\n",
    "\n",
    "    for column_name in df.columns:\n",
    "        data_type = checkDataType(df = df, column_name = column_name) # check data type\n",
    "\n",
    "        if column_name not in id_cols + list(target_vars):            # classify accordingly\n",
    "            if data_type in numeric_type:\n",
    "                numeric_vars.append(column_name)\n",
    "            else:\n",
    "                factor_vars.append(column_name)\n",
    "#             print('{}: '.format(column_name), checkDataType(df = train_data, column=column_name))\n",
    "    return numeric_vars, factor_vars                      # return tuple of 2 (numeric and factors)"
   ]
  },
  {
   "cell_type": "code",
   "execution_count": 11,
   "metadata": {},
   "outputs": [
    {
     "name": "stdout",
     "output_type": "stream",
     "text": [
      "Numeric Features:\n",
      "['Platform Type',\n",
      " 'Placement - Day of Month',\n",
      " 'Placement - Weekday (Mo = 1)',\n",
      " 'Confirmation - Day of Month',\n",
      " 'Confirmation - Weekday (Mo = 1)',\n",
      " 'Arrival at Pickup - Day of Month',\n",
      " 'Arrival at Pickup - Weekday (Mo = 1)',\n",
      " 'Pickup - Day of Month',\n",
      " 'Pickup - Weekday (Mo = 1)',\n",
      " 'Distance (KM)',\n",
      " 'Temperature',\n",
      " 'Precipitation in millimeters',\n",
      " 'Pickup Lat',\n",
      " 'Pickup Long',\n",
      " 'Destination Lat',\n",
      " 'Destination Long',\n",
      " 'No_Of_Orders',\n",
      " 'Age',\n",
      " 'Average_Rating',\n",
      " 'No_of_Ratings']\n",
      "\n",
      "Categorical/Factor Features:\n",
      "['Vehicle Type',\n",
      " 'Personal or Business',\n",
      " 'Placement - Time',\n",
      " 'Confirmation - Time',\n",
      " 'Arrival at Pickup - Time',\n",
      " 'Pickup - Time']\n"
     ]
    }
   ],
   "source": [
    "numeric_vars, factor_vars = classifyColumnsByDataType(df = train_data) # apply function\n",
    "\n",
    "print('Numeric Features:')\n",
    "pp.pprint(numeric_vars)\n",
    "print('')\n",
    "print('Categorical/Factor Features:')\n",
    "pp.pprint(factor_vars)"
   ]
  },
  {
   "cell_type": "markdown",
   "metadata": {},
   "source": [
    "###### Motivation for classifying columns by type\n",
    "The importance of creating vector objects that contain a group of column names belonging in each class will become apparent when we start analysing our data. For example, it will be easy to just apply a certain transformation to factor features by simply filtering our data. See following example. "
   ]
  },
  {
   "cell_type": "code",
   "execution_count": 12,
   "metadata": {},
   "outputs": [
    {
     "data": {
      "text/html": [
       "<div>\n",
       "<style scoped>\n",
       "    .dataframe tbody tr th:only-of-type {\n",
       "        vertical-align: middle;\n",
       "    }\n",
       "\n",
       "    .dataframe tbody tr th {\n",
       "        vertical-align: top;\n",
       "    }\n",
       "\n",
       "    .dataframe thead th {\n",
       "        text-align: right;\n",
       "    }\n",
       "</style>\n",
       "<table border=\"1\" class=\"dataframe\">\n",
       "  <thead>\n",
       "    <tr style=\"text-align: right;\">\n",
       "      <th></th>\n",
       "      <th>Vehicle Type</th>\n",
       "      <th>Personal or Business</th>\n",
       "      <th>Placement - Time</th>\n",
       "      <th>Confirmation - Time</th>\n",
       "      <th>Arrival at Pickup - Time</th>\n",
       "      <th>Pickup - Time</th>\n",
       "    </tr>\n",
       "  </thead>\n",
       "  <tbody>\n",
       "    <tr>\n",
       "      <th>0</th>\n",
       "      <td>Bike</td>\n",
       "      <td>Business</td>\n",
       "      <td>9:35:46 AM</td>\n",
       "      <td>9:40:10 AM</td>\n",
       "      <td>10:04:47 AM</td>\n",
       "      <td>10:27:30 AM</td>\n",
       "    </tr>\n",
       "    <tr>\n",
       "      <th>1</th>\n",
       "      <td>Bike</td>\n",
       "      <td>Personal</td>\n",
       "      <td>11:16:16 AM</td>\n",
       "      <td>11:23:21 AM</td>\n",
       "      <td>11:40:22 AM</td>\n",
       "      <td>11:44:09 AM</td>\n",
       "    </tr>\n",
       "    <tr>\n",
       "      <th>2</th>\n",
       "      <td>Bike</td>\n",
       "      <td>Business</td>\n",
       "      <td>12:39:25 PM</td>\n",
       "      <td>12:42:44 PM</td>\n",
       "      <td>12:49:34 PM</td>\n",
       "      <td>12:53:03 PM</td>\n",
       "    </tr>\n",
       "    <tr>\n",
       "      <th>3</th>\n",
       "      <td>Bike</td>\n",
       "      <td>Business</td>\n",
       "      <td>9:25:34 AM</td>\n",
       "      <td>9:26:05 AM</td>\n",
       "      <td>9:37:56 AM</td>\n",
       "      <td>9:43:06 AM</td>\n",
       "    </tr>\n",
       "    <tr>\n",
       "      <th>4</th>\n",
       "      <td>Bike</td>\n",
       "      <td>Personal</td>\n",
       "      <td>9:55:18 AM</td>\n",
       "      <td>9:56:18 AM</td>\n",
       "      <td>10:03:53 AM</td>\n",
       "      <td>10:05:23 AM</td>\n",
       "    </tr>\n",
       "  </tbody>\n",
       "</table>\n",
       "</div>"
      ],
      "text/plain": [
       "  Vehicle Type Personal or Business Placement - Time Confirmation - Time  \\\n",
       "0         Bike             Business       9:35:46 AM          9:40:10 AM   \n",
       "1         Bike             Personal      11:16:16 AM         11:23:21 AM   \n",
       "2         Bike             Business      12:39:25 PM         12:42:44 PM   \n",
       "3         Bike             Business       9:25:34 AM          9:26:05 AM   \n",
       "4         Bike             Personal       9:55:18 AM          9:56:18 AM   \n",
       "\n",
       "  Arrival at Pickup - Time Pickup - Time  \n",
       "0              10:04:47 AM   10:27:30 AM  \n",
       "1              11:40:22 AM   11:44:09 AM  \n",
       "2              12:49:34 PM   12:53:03 PM  \n",
       "3               9:37:56 AM    9:43:06 AM  \n",
       "4              10:03:53 AM   10:05:23 AM  "
      ]
     },
     "execution_count": 12,
     "metadata": {},
     "output_type": "execute_result"
    }
   ],
   "source": [
    "train_data.loc[:, factor_vars].head()"
   ]
  },
  {
   "cell_type": "markdown",
   "metadata": {},
   "source": [
    "Filtering train_data and displaying only the factor_vars, it is clear that ['Placement - Time', 'Confirmation - Time', 'Arrival at Pickup - Time', 'Pickup - Time'] are not supposed to be encoded as factors. They should be encoded as time objects. Now we can apply a function to encode them as such. Looking at the output above, see the pattern. All features we want to transform have \"Time\" in their column name. Use string.find() method to identify them and apply the transformation. Also note that these columns are removed from factor_vars and appended to time_vars who serves exactly the same purpose as numeric_vars and factor_vars. See helper function below."
   ]
  },
  {
   "cell_type": "code",
   "execution_count": 13,
   "metadata": {},
   "outputs": [],
   "source": [
    "# user function to encode factors as time objects\n",
    "time_vars = list()\n",
    "def convertToTime(df):\n",
    "   \n",
    "    for column_name in df.loc[:, factor_vars].columns.to_list():\n",
    "\n",
    "        if column_name.find(\"Time\") != -1:     # find columns with string \"Time\"\n",
    "\n",
    "            print('{} :'.format(column_name), 'Found') # print () if found\n",
    "            time_vars.append(column_name)              # append to time_vars object \n",
    "            factor_vars.remove(column_name)            # remove from factor_vars\n",
    "            \n",
    "            df['{}'.format(column_name)] = df.loc[:, column_name].map(lambda timestring: pd.to_datetime(timestring).time())\n",
    "            \n",
    "    return df"
   ]
  },
  {
   "cell_type": "code",
   "execution_count": 14,
   "metadata": {},
   "outputs": [
    {
     "name": "stdout",
     "output_type": "stream",
     "text": [
      "Placement - Time : Found\n",
      "Confirmation - Time : Found\n",
      "Arrival at Pickup - Time : Found\n",
      "Pickup - Time : Found\n",
      "['Placement - Time', 'Confirmation - Time', 'Arrival at Pickup - Time', 'Pickup - Time']\n"
     ]
    },
    {
     "data": {
      "text/html": [
       "<div>\n",
       "<style scoped>\n",
       "    .dataframe tbody tr th:only-of-type {\n",
       "        vertical-align: middle;\n",
       "    }\n",
       "\n",
       "    .dataframe tbody tr th {\n",
       "        vertical-align: top;\n",
       "    }\n",
       "\n",
       "    .dataframe thead th {\n",
       "        text-align: right;\n",
       "    }\n",
       "</style>\n",
       "<table border=\"1\" class=\"dataframe\">\n",
       "  <thead>\n",
       "    <tr style=\"text-align: right;\">\n",
       "      <th></th>\n",
       "      <th>Placement - Time</th>\n",
       "      <th>Confirmation - Time</th>\n",
       "      <th>Arrival at Pickup - Time</th>\n",
       "      <th>Pickup - Time</th>\n",
       "    </tr>\n",
       "  </thead>\n",
       "  <tbody>\n",
       "    <tr>\n",
       "      <th>0</th>\n",
       "      <td>09:35:46</td>\n",
       "      <td>09:40:10</td>\n",
       "      <td>10:04:47</td>\n",
       "      <td>10:27:30</td>\n",
       "    </tr>\n",
       "    <tr>\n",
       "      <th>1</th>\n",
       "      <td>11:16:16</td>\n",
       "      <td>11:23:21</td>\n",
       "      <td>11:40:22</td>\n",
       "      <td>11:44:09</td>\n",
       "    </tr>\n",
       "    <tr>\n",
       "      <th>2</th>\n",
       "      <td>12:39:25</td>\n",
       "      <td>12:42:44</td>\n",
       "      <td>12:49:34</td>\n",
       "      <td>12:53:03</td>\n",
       "    </tr>\n",
       "    <tr>\n",
       "      <th>3</th>\n",
       "      <td>09:25:34</td>\n",
       "      <td>09:26:05</td>\n",
       "      <td>09:37:56</td>\n",
       "      <td>09:43:06</td>\n",
       "    </tr>\n",
       "    <tr>\n",
       "      <th>4</th>\n",
       "      <td>09:55:18</td>\n",
       "      <td>09:56:18</td>\n",
       "      <td>10:03:53</td>\n",
       "      <td>10:05:23</td>\n",
       "    </tr>\n",
       "  </tbody>\n",
       "</table>\n",
       "</div>"
      ],
      "text/plain": [
       "  Placement - Time Confirmation - Time Arrival at Pickup - Time Pickup - Time\n",
       "0         09:35:46            09:40:10                 10:04:47      10:27:30\n",
       "1         11:16:16            11:23:21                 11:40:22      11:44:09\n",
       "2         12:39:25            12:42:44                 12:49:34      12:53:03\n",
       "3         09:25:34            09:26:05                 09:37:56      09:43:06\n",
       "4         09:55:18            09:56:18                 10:03:53      10:05:23"
      ]
     },
     "execution_count": 14,
     "metadata": {},
     "output_type": "execute_result"
    }
   ],
   "source": [
    "# apply function and print results\n",
    "convertToTime(df = train_data)\n",
    "print(time_vars)\n",
    "train_data.loc[:, time_vars].head()"
   ]
  },
  {
   "cell_type": "code",
   "execution_count": 15,
   "metadata": {},
   "outputs": [],
   "source": [
    "unique_values = train_data.loc[:, numeric_vars].nunique()\n",
    "mask = unique_values < 40\n",
    "more_factors = unique_values[mask].index.to_list()\n",
    "numeric_vars = list(set(numeric_vars) - set(more_factors))\n",
    "factor_vars = factor_vars + more_factors\n",
    "factor_vars = ['Vehicle Type',\n",
    "    'Placement - Weekday (Mo = 1)', 'Arrival at Pickup - Weekday (Mo = 1)', 'Confirmation - Weekday (Mo = 1)', 'Pickup - Weekday (Mo = 1)', \n",
    "    'Placement - Day of Month', 'Arrival at Pickup - Day of Month', 'Confirmation - Day of Month', 'Pickup - Day of Month',\n",
    "    'Platform Type', 'Personal or Business'\n",
    "]"
   ]
  },
  {
   "cell_type": "code",
   "execution_count": 16,
   "metadata": {},
   "outputs": [
    {
     "data": {
      "text/html": [
       "<div>\n",
       "<style scoped>\n",
       "    .dataframe tbody tr th:only-of-type {\n",
       "        vertical-align: middle;\n",
       "    }\n",
       "\n",
       "    .dataframe tbody tr th {\n",
       "        vertical-align: top;\n",
       "    }\n",
       "\n",
       "    .dataframe thead th {\n",
       "        text-align: right;\n",
       "    }\n",
       "</style>\n",
       "<table border=\"1\" class=\"dataframe\">\n",
       "  <thead>\n",
       "    <tr style=\"text-align: right;\">\n",
       "      <th></th>\n",
       "      <th>Order No</th>\n",
       "      <th>User Id</th>\n",
       "      <th>Vehicle Type</th>\n",
       "      <th>Platform Type</th>\n",
       "      <th>Personal or Business</th>\n",
       "      <th>Placement - Day of Month</th>\n",
       "      <th>Placement - Weekday (Mo = 1)</th>\n",
       "      <th>Placement - Time</th>\n",
       "      <th>Confirmation - Day of Month</th>\n",
       "      <th>Confirmation - Weekday (Mo = 1)</th>\n",
       "      <th>...</th>\n",
       "      <th>Pickup Lat</th>\n",
       "      <th>Pickup Long</th>\n",
       "      <th>Destination Lat</th>\n",
       "      <th>Destination Long</th>\n",
       "      <th>Rider Id</th>\n",
       "      <th>Time from Pickup to Arrival</th>\n",
       "      <th>No_Of_Orders</th>\n",
       "      <th>Age</th>\n",
       "      <th>Average_Rating</th>\n",
       "      <th>No_of_Ratings</th>\n",
       "    </tr>\n",
       "  </thead>\n",
       "  <tbody>\n",
       "    <tr>\n",
       "      <th>0</th>\n",
       "      <td>Order_No_4211</td>\n",
       "      <td>User_Id_633</td>\n",
       "      <td>Bike</td>\n",
       "      <td>3</td>\n",
       "      <td>Business</td>\n",
       "      <td>9</td>\n",
       "      <td>5</td>\n",
       "      <td>09:35:46</td>\n",
       "      <td>9</td>\n",
       "      <td>5</td>\n",
       "      <td>...</td>\n",
       "      <td>-1.317755</td>\n",
       "      <td>36.830370</td>\n",
       "      <td>-1.300406</td>\n",
       "      <td>36.829741</td>\n",
       "      <td>Rider_Id_432</td>\n",
       "      <td>745</td>\n",
       "      <td>1637</td>\n",
       "      <td>1309</td>\n",
       "      <td>13.8</td>\n",
       "      <td>549</td>\n",
       "    </tr>\n",
       "    <tr>\n",
       "      <th>1</th>\n",
       "      <td>Order_No_25375</td>\n",
       "      <td>User_Id_2285</td>\n",
       "      <td>Bike</td>\n",
       "      <td>3</td>\n",
       "      <td>Personal</td>\n",
       "      <td>12</td>\n",
       "      <td>5</td>\n",
       "      <td>11:16:16</td>\n",
       "      <td>12</td>\n",
       "      <td>5</td>\n",
       "      <td>...</td>\n",
       "      <td>-1.351453</td>\n",
       "      <td>36.899315</td>\n",
       "      <td>-1.295004</td>\n",
       "      <td>36.814358</td>\n",
       "      <td>Rider_Id_856</td>\n",
       "      <td>1993</td>\n",
       "      <td>396</td>\n",
       "      <td>339</td>\n",
       "      <td>13.6</td>\n",
       "      <td>69</td>\n",
       "    </tr>\n",
       "    <tr>\n",
       "      <th>2</th>\n",
       "      <td>Order_No_1899</td>\n",
       "      <td>User_Id_265</td>\n",
       "      <td>Bike</td>\n",
       "      <td>3</td>\n",
       "      <td>Business</td>\n",
       "      <td>30</td>\n",
       "      <td>2</td>\n",
       "      <td>12:39:25</td>\n",
       "      <td>30</td>\n",
       "      <td>2</td>\n",
       "      <td>...</td>\n",
       "      <td>-1.308284</td>\n",
       "      <td>36.843419</td>\n",
       "      <td>-1.300921</td>\n",
       "      <td>36.828195</td>\n",
       "      <td>Rider_Id_155</td>\n",
       "      <td>455</td>\n",
       "      <td>1023</td>\n",
       "      <td>242</td>\n",
       "      <td>12.5</td>\n",
       "      <td>114</td>\n",
       "    </tr>\n",
       "    <tr>\n",
       "      <th>3</th>\n",
       "      <td>Order_No_9336</td>\n",
       "      <td>User_Id_1402</td>\n",
       "      <td>Bike</td>\n",
       "      <td>3</td>\n",
       "      <td>Business</td>\n",
       "      <td>15</td>\n",
       "      <td>5</td>\n",
       "      <td>09:25:34</td>\n",
       "      <td>15</td>\n",
       "      <td>5</td>\n",
       "      <td>...</td>\n",
       "      <td>-1.281301</td>\n",
       "      <td>36.832396</td>\n",
       "      <td>-1.257147</td>\n",
       "      <td>36.795063</td>\n",
       "      <td>Rider_Id_855</td>\n",
       "      <td>1341</td>\n",
       "      <td>886</td>\n",
       "      <td>283</td>\n",
       "      <td>14.5</td>\n",
       "      <td>113</td>\n",
       "    </tr>\n",
       "    <tr>\n",
       "      <th>4</th>\n",
       "      <td>Order_No_27883</td>\n",
       "      <td>User_Id_1737</td>\n",
       "      <td>Bike</td>\n",
       "      <td>1</td>\n",
       "      <td>Personal</td>\n",
       "      <td>13</td>\n",
       "      <td>1</td>\n",
       "      <td>09:55:18</td>\n",
       "      <td>13</td>\n",
       "      <td>1</td>\n",
       "      <td>...</td>\n",
       "      <td>-1.266597</td>\n",
       "      <td>36.792118</td>\n",
       "      <td>-1.295041</td>\n",
       "      <td>36.809817</td>\n",
       "      <td>Rider_Id_770</td>\n",
       "      <td>1214</td>\n",
       "      <td>2311</td>\n",
       "      <td>872</td>\n",
       "      <td>14.1</td>\n",
       "      <td>533</td>\n",
       "    </tr>\n",
       "    <tr>\n",
       "      <th>...</th>\n",
       "      <td>...</td>\n",
       "      <td>...</td>\n",
       "      <td>...</td>\n",
       "      <td>...</td>\n",
       "      <td>...</td>\n",
       "      <td>...</td>\n",
       "      <td>...</td>\n",
       "      <td>...</td>\n",
       "      <td>...</td>\n",
       "      <td>...</td>\n",
       "      <td>...</td>\n",
       "      <td>...</td>\n",
       "      <td>...</td>\n",
       "      <td>...</td>\n",
       "      <td>...</td>\n",
       "      <td>...</td>\n",
       "      <td>...</td>\n",
       "      <td>...</td>\n",
       "      <td>...</td>\n",
       "      <td>...</td>\n",
       "      <td>...</td>\n",
       "    </tr>\n",
       "    <tr>\n",
       "      <th>21196</th>\n",
       "      <td>Order_No_8834</td>\n",
       "      <td>User_Id_2001</td>\n",
       "      <td>Bike</td>\n",
       "      <td>3</td>\n",
       "      <td>Personal</td>\n",
       "      <td>20</td>\n",
       "      <td>3</td>\n",
       "      <td>15:54:38</td>\n",
       "      <td>20</td>\n",
       "      <td>3</td>\n",
       "      <td>...</td>\n",
       "      <td>-1.258414</td>\n",
       "      <td>36.804800</td>\n",
       "      <td>-1.275285</td>\n",
       "      <td>36.802702</td>\n",
       "      <td>Rider_Id_953</td>\n",
       "      <td>9</td>\n",
       "      <td>1270</td>\n",
       "      <td>367</td>\n",
       "      <td>14.4</td>\n",
       "      <td>131</td>\n",
       "    </tr>\n",
       "    <tr>\n",
       "      <th>21197</th>\n",
       "      <td>Order_No_22892</td>\n",
       "      <td>User_Id_1796</td>\n",
       "      <td>Bike</td>\n",
       "      <td>3</td>\n",
       "      <td>Business</td>\n",
       "      <td>13</td>\n",
       "      <td>6</td>\n",
       "      <td>10:13:34</td>\n",
       "      <td>13</td>\n",
       "      <td>6</td>\n",
       "      <td>...</td>\n",
       "      <td>-1.307143</td>\n",
       "      <td>36.825009</td>\n",
       "      <td>-1.331619</td>\n",
       "      <td>36.847976</td>\n",
       "      <td>Rider_Id_155</td>\n",
       "      <td>770</td>\n",
       "      <td>1023</td>\n",
       "      <td>242</td>\n",
       "      <td>12.5</td>\n",
       "      <td>114</td>\n",
       "    </tr>\n",
       "    <tr>\n",
       "      <th>21198</th>\n",
       "      <td>Order_No_2831</td>\n",
       "      <td>User_Id_2956</td>\n",
       "      <td>Bike</td>\n",
       "      <td>3</td>\n",
       "      <td>Business</td>\n",
       "      <td>7</td>\n",
       "      <td>4</td>\n",
       "      <td>17:06:16</td>\n",
       "      <td>7</td>\n",
       "      <td>4</td>\n",
       "      <td>...</td>\n",
       "      <td>-1.286018</td>\n",
       "      <td>36.897534</td>\n",
       "      <td>-1.258414</td>\n",
       "      <td>36.804800</td>\n",
       "      <td>Rider_Id_697</td>\n",
       "      <td>2953</td>\n",
       "      <td>314</td>\n",
       "      <td>473</td>\n",
       "      <td>13.8</td>\n",
       "      <td>29</td>\n",
       "    </tr>\n",
       "    <tr>\n",
       "      <th>21199</th>\n",
       "      <td>Order_No_6174</td>\n",
       "      <td>User_Id_2524</td>\n",
       "      <td>Bike</td>\n",
       "      <td>1</td>\n",
       "      <td>Personal</td>\n",
       "      <td>4</td>\n",
       "      <td>3</td>\n",
       "      <td>09:31:39</td>\n",
       "      <td>4</td>\n",
       "      <td>3</td>\n",
       "      <td>...</td>\n",
       "      <td>-1.250030</td>\n",
       "      <td>36.874167</td>\n",
       "      <td>-1.279209</td>\n",
       "      <td>36.794872</td>\n",
       "      <td>Rider_Id_347</td>\n",
       "      <td>1380</td>\n",
       "      <td>2451</td>\n",
       "      <td>1821</td>\n",
       "      <td>14.0</td>\n",
       "      <td>1101</td>\n",
       "    </tr>\n",
       "    <tr>\n",
       "      <th>21200</th>\n",
       "      <td>Order_No_9836</td>\n",
       "      <td>User_Id_718</td>\n",
       "      <td>Bike</td>\n",
       "      <td>3</td>\n",
       "      <td>Business</td>\n",
       "      <td>26</td>\n",
       "      <td>2</td>\n",
       "      <td>14:19:47</td>\n",
       "      <td>26</td>\n",
       "      <td>2</td>\n",
       "      <td>...</td>\n",
       "      <td>-1.255189</td>\n",
       "      <td>36.782203</td>\n",
       "      <td>-1.320157</td>\n",
       "      <td>36.830887</td>\n",
       "      <td>Rider_Id_177</td>\n",
       "      <td>2128</td>\n",
       "      <td>526</td>\n",
       "      <td>286</td>\n",
       "      <td>13.6</td>\n",
       "      <td>70</td>\n",
       "    </tr>\n",
       "  </tbody>\n",
       "</table>\n",
       "<p>21201 rows × 33 columns</p>\n",
       "</div>"
      ],
      "text/plain": [
       "             Order No       User Id Vehicle Type Platform Type  \\\n",
       "0       Order_No_4211   User_Id_633         Bike             3   \n",
       "1      Order_No_25375  User_Id_2285         Bike             3   \n",
       "2       Order_No_1899   User_Id_265         Bike             3   \n",
       "3       Order_No_9336  User_Id_1402         Bike             3   \n",
       "4      Order_No_27883  User_Id_1737         Bike             1   \n",
       "...               ...           ...          ...           ...   \n",
       "21196   Order_No_8834  User_Id_2001         Bike             3   \n",
       "21197  Order_No_22892  User_Id_1796         Bike             3   \n",
       "21198   Order_No_2831  User_Id_2956         Bike             3   \n",
       "21199   Order_No_6174  User_Id_2524         Bike             1   \n",
       "21200   Order_No_9836   User_Id_718         Bike             3   \n",
       "\n",
       "      Personal or Business Placement - Day of Month  \\\n",
       "0                 Business                        9   \n",
       "1                 Personal                       12   \n",
       "2                 Business                       30   \n",
       "3                 Business                       15   \n",
       "4                 Personal                       13   \n",
       "...                    ...                      ...   \n",
       "21196             Personal                       20   \n",
       "21197             Business                       13   \n",
       "21198             Business                        7   \n",
       "21199             Personal                        4   \n",
       "21200             Business                       26   \n",
       "\n",
       "      Placement - Weekday (Mo = 1) Placement - Time  \\\n",
       "0                                5         09:35:46   \n",
       "1                                5         11:16:16   \n",
       "2                                2         12:39:25   \n",
       "3                                5         09:25:34   \n",
       "4                                1         09:55:18   \n",
       "...                            ...              ...   \n",
       "21196                            3         15:54:38   \n",
       "21197                            6         10:13:34   \n",
       "21198                            4         17:06:16   \n",
       "21199                            3         09:31:39   \n",
       "21200                            2         14:19:47   \n",
       "\n",
       "      Confirmation - Day of Month Confirmation - Weekday (Mo = 1)  ...  \\\n",
       "0                               9                               5  ...   \n",
       "1                              12                               5  ...   \n",
       "2                              30                               2  ...   \n",
       "3                              15                               5  ...   \n",
       "4                              13                               1  ...   \n",
       "...                           ...                             ...  ...   \n",
       "21196                          20                               3  ...   \n",
       "21197                          13                               6  ...   \n",
       "21198                           7                               4  ...   \n",
       "21199                           4                               3  ...   \n",
       "21200                          26                               2  ...   \n",
       "\n",
       "      Pickup Lat Pickup Long Destination Lat Destination Long      Rider Id  \\\n",
       "0      -1.317755   36.830370       -1.300406        36.829741  Rider_Id_432   \n",
       "1      -1.351453   36.899315       -1.295004        36.814358  Rider_Id_856   \n",
       "2      -1.308284   36.843419       -1.300921        36.828195  Rider_Id_155   \n",
       "3      -1.281301   36.832396       -1.257147        36.795063  Rider_Id_855   \n",
       "4      -1.266597   36.792118       -1.295041        36.809817  Rider_Id_770   \n",
       "...          ...         ...             ...              ...           ...   \n",
       "21196  -1.258414   36.804800       -1.275285        36.802702  Rider_Id_953   \n",
       "21197  -1.307143   36.825009       -1.331619        36.847976  Rider_Id_155   \n",
       "21198  -1.286018   36.897534       -1.258414        36.804800  Rider_Id_697   \n",
       "21199  -1.250030   36.874167       -1.279209        36.794872  Rider_Id_347   \n",
       "21200  -1.255189   36.782203       -1.320157        36.830887  Rider_Id_177   \n",
       "\n",
       "      Time from Pickup to Arrival No_Of_Orders   Age  Average_Rating  \\\n",
       "0                             745         1637  1309            13.8   \n",
       "1                            1993          396   339            13.6   \n",
       "2                             455         1023   242            12.5   \n",
       "3                            1341          886   283            14.5   \n",
       "4                            1214         2311   872            14.1   \n",
       "...                           ...          ...   ...             ...   \n",
       "21196                           9         1270   367            14.4   \n",
       "21197                         770         1023   242            12.5   \n",
       "21198                        2953          314   473            13.8   \n",
       "21199                        1380         2451  1821            14.0   \n",
       "21200                        2128          526   286            13.6   \n",
       "\n",
       "      No_of_Ratings  \n",
       "0               549  \n",
       "1                69  \n",
       "2               114  \n",
       "3               113  \n",
       "4               533  \n",
       "...             ...  \n",
       "21196           131  \n",
       "21197           114  \n",
       "21198            29  \n",
       "21199          1101  \n",
       "21200            70  \n",
       "\n",
       "[21201 rows x 33 columns]"
      ]
     },
     "execution_count": 16,
     "metadata": {},
     "output_type": "execute_result"
    }
   ],
   "source": [
    "# user function to encode factors\n",
    "def convertToCategory(df, column_names):\n",
    "    \n",
    "    for column_name in column_names:\n",
    "        df['{}'.format(column_name)] = pd.Categorical(df[column_name])\n",
    "            \n",
    "    return df\n",
    "convertToCategory(train_data, factor_vars)"
   ]
  },
  {
   "cell_type": "code",
   "execution_count": null,
   "metadata": {},
   "outputs": [],
   "source": []
  },
  {
   "cell_type": "code",
   "execution_count": 17,
   "metadata": {},
   "outputs": [
    {
     "data": {
      "text/html": [
       "<div>\n",
       "<style scoped>\n",
       "    .dataframe tbody tr th:only-of-type {\n",
       "        vertical-align: middle;\n",
       "    }\n",
       "\n",
       "    .dataframe tbody tr th {\n",
       "        vertical-align: top;\n",
       "    }\n",
       "\n",
       "    .dataframe thead th {\n",
       "        text-align: right;\n",
       "    }\n",
       "</style>\n",
       "<table border=\"1\" class=\"dataframe\">\n",
       "  <thead>\n",
       "    <tr style=\"text-align: right;\">\n",
       "      <th></th>\n",
       "      <th>Precipitation in millimeters</th>\n",
       "      <th>Destination Lat</th>\n",
       "      <th>Temperature</th>\n",
       "      <th>Age</th>\n",
       "      <th>No_Of_Orders</th>\n",
       "      <th>Distance (KM)</th>\n",
       "      <th>Pickup Long</th>\n",
       "      <th>Average_Rating</th>\n",
       "      <th>No_of_Ratings</th>\n",
       "      <th>Destination Long</th>\n",
       "      <th>Pickup Lat</th>\n",
       "    </tr>\n",
       "  </thead>\n",
       "  <tbody>\n",
       "    <tr>\n",
       "      <th>0</th>\n",
       "      <td>NaN</td>\n",
       "      <td>-1.300406</td>\n",
       "      <td>20.4</td>\n",
       "      <td>1309</td>\n",
       "      <td>1637</td>\n",
       "      <td>4</td>\n",
       "      <td>36.830370</td>\n",
       "      <td>13.8</td>\n",
       "      <td>549</td>\n",
       "      <td>36.829741</td>\n",
       "      <td>-1.317755</td>\n",
       "    </tr>\n",
       "    <tr>\n",
       "      <th>1</th>\n",
       "      <td>NaN</td>\n",
       "      <td>-1.295004</td>\n",
       "      <td>26.4</td>\n",
       "      <td>339</td>\n",
       "      <td>396</td>\n",
       "      <td>16</td>\n",
       "      <td>36.899315</td>\n",
       "      <td>13.6</td>\n",
       "      <td>69</td>\n",
       "      <td>36.814358</td>\n",
       "      <td>-1.351453</td>\n",
       "    </tr>\n",
       "    <tr>\n",
       "      <th>2</th>\n",
       "      <td>NaN</td>\n",
       "      <td>-1.300921</td>\n",
       "      <td>NaN</td>\n",
       "      <td>242</td>\n",
       "      <td>1023</td>\n",
       "      <td>3</td>\n",
       "      <td>36.843419</td>\n",
       "      <td>12.5</td>\n",
       "      <td>114</td>\n",
       "      <td>36.828195</td>\n",
       "      <td>-1.308284</td>\n",
       "    </tr>\n",
       "    <tr>\n",
       "      <th>3</th>\n",
       "      <td>NaN</td>\n",
       "      <td>-1.257147</td>\n",
       "      <td>19.2</td>\n",
       "      <td>283</td>\n",
       "      <td>886</td>\n",
       "      <td>9</td>\n",
       "      <td>36.832396</td>\n",
       "      <td>14.5</td>\n",
       "      <td>113</td>\n",
       "      <td>36.795063</td>\n",
       "      <td>-1.281301</td>\n",
       "    </tr>\n",
       "    <tr>\n",
       "      <th>4</th>\n",
       "      <td>NaN</td>\n",
       "      <td>-1.295041</td>\n",
       "      <td>15.4</td>\n",
       "      <td>872</td>\n",
       "      <td>2311</td>\n",
       "      <td>9</td>\n",
       "      <td>36.792118</td>\n",
       "      <td>14.1</td>\n",
       "      <td>533</td>\n",
       "      <td>36.809817</td>\n",
       "      <td>-1.266597</td>\n",
       "    </tr>\n",
       "  </tbody>\n",
       "</table>\n",
       "</div>"
      ],
      "text/plain": [
       "   Precipitation in millimeters  Destination Lat  Temperature   Age  \\\n",
       "0                           NaN        -1.300406         20.4  1309   \n",
       "1                           NaN        -1.295004         26.4   339   \n",
       "2                           NaN        -1.300921          NaN   242   \n",
       "3                           NaN        -1.257147         19.2   283   \n",
       "4                           NaN        -1.295041         15.4   872   \n",
       "\n",
       "   No_Of_Orders  Distance (KM)  Pickup Long  Average_Rating  No_of_Ratings  \\\n",
       "0          1637              4    36.830370            13.8            549   \n",
       "1           396             16    36.899315            13.6             69   \n",
       "2          1023              3    36.843419            12.5            114   \n",
       "3           886              9    36.832396            14.5            113   \n",
       "4          2311              9    36.792118            14.1            533   \n",
       "\n",
       "   Destination Long  Pickup Lat  \n",
       "0         36.829741   -1.317755  \n",
       "1         36.814358   -1.351453  \n",
       "2         36.828195   -1.308284  \n",
       "3         36.795063   -1.281301  \n",
       "4         36.809817   -1.266597  "
      ]
     },
     "execution_count": 17,
     "metadata": {},
     "output_type": "execute_result"
    }
   ],
   "source": [
    "train_data.loc[:, numeric_vars].head()"
   ]
  },
  {
   "cell_type": "code",
   "execution_count": 18,
   "metadata": {},
   "outputs": [
    {
     "data": {
      "text/html": [
       "<div>\n",
       "<style scoped>\n",
       "    .dataframe tbody tr th:only-of-type {\n",
       "        vertical-align: middle;\n",
       "    }\n",
       "\n",
       "    .dataframe tbody tr th {\n",
       "        vertical-align: top;\n",
       "    }\n",
       "\n",
       "    .dataframe thead th {\n",
       "        text-align: right;\n",
       "    }\n",
       "</style>\n",
       "<table border=\"1\" class=\"dataframe\">\n",
       "  <thead>\n",
       "    <tr style=\"text-align: right;\">\n",
       "      <th></th>\n",
       "      <th>Time from Pickup to Arrival</th>\n",
       "      <th>Arrival at Destination - Day of Month</th>\n",
       "      <th>Arrival at Destination - Time</th>\n",
       "      <th>Arrival at Destination - Weekday (Mo = 1)</th>\n",
       "    </tr>\n",
       "  </thead>\n",
       "  <tbody>\n",
       "    <tr>\n",
       "      <th>0</th>\n",
       "      <td>745</td>\n",
       "      <td>9</td>\n",
       "      <td>10:39:55 AM</td>\n",
       "      <td>5</td>\n",
       "    </tr>\n",
       "    <tr>\n",
       "      <th>1</th>\n",
       "      <td>1993</td>\n",
       "      <td>12</td>\n",
       "      <td>12:17:22 PM</td>\n",
       "      <td>5</td>\n",
       "    </tr>\n",
       "    <tr>\n",
       "      <th>2</th>\n",
       "      <td>455</td>\n",
       "      <td>30</td>\n",
       "      <td>1:00:38 PM</td>\n",
       "      <td>2</td>\n",
       "    </tr>\n",
       "    <tr>\n",
       "      <th>3</th>\n",
       "      <td>1341</td>\n",
       "      <td>15</td>\n",
       "      <td>10:05:27 AM</td>\n",
       "      <td>5</td>\n",
       "    </tr>\n",
       "    <tr>\n",
       "      <th>4</th>\n",
       "      <td>1214</td>\n",
       "      <td>13</td>\n",
       "      <td>10:25:37 AM</td>\n",
       "      <td>1</td>\n",
       "    </tr>\n",
       "  </tbody>\n",
       "</table>\n",
       "</div>"
      ],
      "text/plain": [
       "   Time from Pickup to Arrival  Arrival at Destination - Day of Month  \\\n",
       "0                          745                                      9   \n",
       "1                         1993                                     12   \n",
       "2                          455                                     30   \n",
       "3                         1341                                     15   \n",
       "4                         1214                                     13   \n",
       "\n",
       "  Arrival at Destination - Time  Arrival at Destination - Weekday (Mo = 1)  \n",
       "0                   10:39:55 AM                                          5  \n",
       "1                   12:17:22 PM                                          5  \n",
       "2                    1:00:38 PM                                          2  \n",
       "3                   10:05:27 AM                                          5  \n",
       "4                   10:25:37 AM                                          1  "
      ]
     },
     "execution_count": 18,
     "metadata": {},
     "output_type": "execute_result"
    }
   ],
   "source": [
    "train_data.loc[:, target_vars].head()"
   ]
  },
  {
   "cell_type": "markdown",
   "metadata": {
    "heading_collapsed": true
   },
   "source": [
    "###### Conclude\n",
    "This has been a really insightful section. We have leant about our data structures and managed to get organised in hopes of making the data science process efficient in later chapters. However, looking at the table of numeric features above we see missing values for the column \"Precipitation in millimetres\". Is it possible that it is not the only column with such behaviour. The next section will be devoted to that. Let's proceed. "
   ]
  },
  {
   "cell_type": "markdown",
   "metadata": {},
   "source": [
    "## Missing Values"
   ]
  },
  {
   "cell_type": "markdown",
   "metadata": {},
   "source": [
    "###### Investigate missing values and treat them accordingly\n",
    "Missing values are a common problem in datasets and for a number of different reasons. In this part of the notebook we will do a minimal assessment of missing values. It is important however that we understand missingness from both the perspective of the train_data and test_data. As such we want to see what columns have missing data in both the train and test dataset ans well as the proportion of missingness in each of those columns. The cell below does just that and displays a table as output. See below."
   ]
  },
  {
   "cell_type": "code",
   "execution_count": 19,
   "metadata": {},
   "outputs": [
    {
     "data": {
      "text/html": [
       "<div>\n",
       "<style scoped>\n",
       "    .dataframe tbody tr th:only-of-type {\n",
       "        vertical-align: middle;\n",
       "    }\n",
       "\n",
       "    .dataframe tbody tr th {\n",
       "        vertical-align: top;\n",
       "    }\n",
       "\n",
       "    .dataframe thead th {\n",
       "        text-align: right;\n",
       "    }\n",
       "</style>\n",
       "<table border=\"1\" class=\"dataframe\">\n",
       "  <thead>\n",
       "    <tr style=\"text-align: right;\">\n",
       "      <th></th>\n",
       "      <th>Percentage</th>\n",
       "      <th>data</th>\n",
       "    </tr>\n",
       "  </thead>\n",
       "  <tbody>\n",
       "    <tr>\n",
       "      <th>Temperature</th>\n",
       "      <td>20.6</td>\n",
       "      <td>train_data</td>\n",
       "    </tr>\n",
       "    <tr>\n",
       "      <th>Precipitation in millimeters</th>\n",
       "      <td>97.4</td>\n",
       "      <td>train_data</td>\n",
       "    </tr>\n",
       "    <tr>\n",
       "      <th>Temperature</th>\n",
       "      <td>20.3</td>\n",
       "      <td>test_data</td>\n",
       "    </tr>\n",
       "    <tr>\n",
       "      <th>Precipitation in millimeters</th>\n",
       "      <td>97.2</td>\n",
       "      <td>test_data</td>\n",
       "    </tr>\n",
       "  </tbody>\n",
       "</table>\n",
       "</div>"
      ],
      "text/plain": [
       "                              Percentage        data\n",
       "Temperature                         20.6  train_data\n",
       "Precipitation in millimeters        97.4  train_data\n",
       "Temperature                         20.3   test_data\n",
       "Precipitation in millimeters        97.2   test_data"
      ]
     },
     "execution_count": 19,
     "metadata": {},
     "output_type": "execute_result"
    }
   ],
   "source": [
    "train_data.name = 'train_data'\n",
    "test_data.name = 'test_data'\n",
    "\n",
    "def findMissing(df):\n",
    "    \n",
    "    missing = df.isnull().sum()\n",
    "    mask = missing > 0\n",
    "    perc_missing = missing[mask].div(len(df)).mul(100).round(1)\n",
    "    perc_missing = pd.DataFrame({'Percentage': perc_missing})\n",
    "    perc_missing['data'] = df.name\n",
    "    return perc_missing\n",
    "\n",
    "perc_missing = pd.concat(\n",
    "    [findMissing(train_data), findMissing(test_data)]\n",
    ")\n",
    "perc_missing"
   ]
  },
  {
   "cell_type": "markdown",
   "metadata": {},
   "source": [
    "Looks like only 2 columns have missing data (Temperature and Precipitation in millimeters) in both train and test data and the distribution of missingness seems to be consistent in both datasets. This is fortunate for us as we wouldn't want a situation where for instance Temperature has low missingness in the train data of say 20% and high missingness of say 80% in the test data. The values indicate an almost identical distribution of missing values from the train to the test data. GOOD!. However, the missingness is high, particularly for the Precipitation variable (97.2%). We may have to exclude this feature from modelling. Temerature also has high missingness, about 20%. A later section under Exploratory Data Analysis will go into detail on how we treat these missing values. In the meantime we create yet another container object that stored a vector of these 2 columns (missing_vars), serves the same purpose as numeric_vars, factor_vars etc."
   ]
  },
  {
   "cell_type": "code",
   "execution_count": 20,
   "metadata": {},
   "outputs": [
    {
     "data": {
      "text/html": [
       "<div>\n",
       "<style scoped>\n",
       "    .dataframe tbody tr th:only-of-type {\n",
       "        vertical-align: middle;\n",
       "    }\n",
       "\n",
       "    .dataframe tbody tr th {\n",
       "        vertical-align: top;\n",
       "    }\n",
       "\n",
       "    .dataframe thead th {\n",
       "        text-align: right;\n",
       "    }\n",
       "</style>\n",
       "<table border=\"1\" class=\"dataframe\">\n",
       "  <thead>\n",
       "    <tr style=\"text-align: right;\">\n",
       "      <th></th>\n",
       "      <th>Temperature</th>\n",
       "      <th>Precipitation in millimeters</th>\n",
       "    </tr>\n",
       "  </thead>\n",
       "  <tbody>\n",
       "    <tr>\n",
       "      <th>0</th>\n",
       "      <td>20.4</td>\n",
       "      <td>NaN</td>\n",
       "    </tr>\n",
       "    <tr>\n",
       "      <th>1</th>\n",
       "      <td>26.4</td>\n",
       "      <td>NaN</td>\n",
       "    </tr>\n",
       "    <tr>\n",
       "      <th>2</th>\n",
       "      <td>NaN</td>\n",
       "      <td>NaN</td>\n",
       "    </tr>\n",
       "    <tr>\n",
       "      <th>3</th>\n",
       "      <td>19.2</td>\n",
       "      <td>NaN</td>\n",
       "    </tr>\n",
       "    <tr>\n",
       "      <th>4</th>\n",
       "      <td>15.4</td>\n",
       "      <td>NaN</td>\n",
       "    </tr>\n",
       "  </tbody>\n",
       "</table>\n",
       "</div>"
      ],
      "text/plain": [
       "   Temperature  Precipitation in millimeters\n",
       "0         20.4                           NaN\n",
       "1         26.4                           NaN\n",
       "2          NaN                           NaN\n",
       "3         19.2                           NaN\n",
       "4         15.4                           NaN"
      ]
     },
     "execution_count": 20,
     "metadata": {},
     "output_type": "execute_result"
    }
   ],
   "source": [
    "missings_vars = perc_missing.index.unique().to_list()\n",
    "train_data.loc[:,missings_vars].head()"
   ]
  },
  {
   "cell_type": "markdown",
   "metadata": {
    "heading_collapsed": true
   },
   "source": [
    "###### Conclude\n",
    "By now, we should be so much more familiar with the data. GOOD! Let's go a little further. Let's look at the distribution of each of our features"
   ]
  },
  {
   "cell_type": "markdown",
   "metadata": {},
   "source": [
    "# Exploratory Data Analysis - 1"
   ]
  },
  {
   "cell_type": "markdown",
   "metadata": {},
   "source": [
    "## Univariate Analysis"
   ]
  },
  {
   "cell_type": "code",
   "execution_count": 21,
   "metadata": {},
   "outputs": [
    {
     "data": {
      "text/plain": [
       "0         745\n",
       "1        1993\n",
       "2         455\n",
       "3        1341\n",
       "4        1214\n",
       "         ... \n",
       "21196       9\n",
       "21197     770\n",
       "21198    2953\n",
       "21199    1380\n",
       "21200    2128\n",
       "Name: Time from Pickup to Arrival, Length: 21201, dtype: int64"
      ]
     },
     "execution_count": 21,
     "metadata": {},
     "output_type": "execute_result"
    }
   ],
   "source": [
    "train_data.loc[:, 'Time from Pickup to Arrival']"
   ]
  },
  {
   "cell_type": "code",
   "execution_count": 179,
   "metadata": {},
   "outputs": [
    {
     "name": "stdout",
     "output_type": "stream",
     "text": [
      "count    21201.000000\n",
      "mean      1556.920947\n",
      "std        987.270788\n",
      "min          1.000000\n",
      "25%        882.000000\n",
      "50%       1369.000000\n",
      "75%       2040.000000\n",
      "max       7883.000000\n",
      "Name: Time from Pickup to Arrival, dtype: float64\n"
     ]
    },
    {
     "data": {
      "image/png": "[encoded data removed]",
      "text/plain": [
       "<Figure size 720x432 with 1 Axes>"
      ]
     },
     "metadata": {
      "needs_background": "light"
     },
     "output_type": "display_data"
    }
   ],
   "source": [
    "target_raw = train_data.loc[:, 'Time from Pickup to Arrival'].copy()\n",
    "print(target_raw.describe())\n",
    "fig = plt.figure(figsize = (10, 6))\n",
    "\n",
    "g = sns.distplot(target_raw, color = \"teal\")"
   ]
  },
  {
   "cell_type": "code",
   "execution_count": 180,
   "metadata": {},
   "outputs": [
    {
     "data": {
      "text/plain": [
       "36         2\n",
       "52         4\n",
       "81        14\n",
       "86         4\n",
       "110      215\n",
       "        ... \n",
       "21101      4\n",
       "21105     27\n",
       "21180    256\n",
       "21188    276\n",
       "21196      9\n",
       "Name: Time from Pickup to Arrival, Length: 1092, dtype: int64"
      ]
     },
     "execution_count": 180,
     "metadata": {},
     "output_type": "execute_result"
    }
   ],
   "source": [
    "mask = target_raw < 60 * 5\n",
    "target_raw[mask]"
   ]
  },
  {
   "cell_type": "code",
   "execution_count": 181,
   "metadata": {},
   "outputs": [],
   "source": [
    "target_raw[mask] = np.mean(target_raw)"
   ]
  },
  {
   "cell_type": "code",
   "execution_count": 182,
   "metadata": {},
   "outputs": [],
   "source": [
    "target_log_transformed = np.log(target_raw)\n",
    "target_sq_transformed = np.sqrt(target_raw)"
   ]
  },
  {
   "cell_type": "code",
   "execution_count": 183,
   "metadata": {},
   "outputs": [
    {
     "data": {
      "image/png": "[encoded data removed]",
      "text/plain": [
       "<Figure size 1296x720 with 6 Axes>"
      ]
     },
     "metadata": {
      "needs_background": "light"
     },
     "output_type": "display_data"
    }
   ],
   "source": [
    "fig, ax = plt.subplots(nrows = 3, ncols = 2, figsize = (18, 10))\n",
    "\n",
    "g = sns.distplot(target_raw, color = \"teal\", ax = ax[0, 0])\n",
    "p = sm.qqplot(target_raw, line = 's', color = 'teal', ax = ax[0, 1])\n",
    "\n",
    "g1 = sns.distplot(target_log_transformed, color = \"teal\", ax = ax[1, 0])\n",
    "p1 = sm.qqplot(target_log_transformed, line = 's', color = 'teal', ax = ax[1, 1])\n",
    "\n",
    "g2 = sns.distplot(target_sq_transformed, color = \"teal\", ax = ax[2, 0])\n",
    "p2 = sm.qqplot(target_sq_transformed, line = 's', color = 'teal', ax = ax[2, 1])"
   ]
  },
  {
   "cell_type": "markdown",
   "metadata": {},
   "source": [
    "### Benchmark Model"
   ]
  },
  {
   "cell_type": "markdown",
   "metadata": {},
   "source": [
    "##### Minimal data preprocessing"
   ]
  },
  {
   "cell_type": "code",
   "execution_count": 184,
   "metadata": {},
   "outputs": [],
   "source": [
    "predictors = list(set(numeric_vars + factor_vars) - set(missings_vars + ['Vehicle Type']))\n",
    "X = train_data.loc[:, predictors]\n",
    "\n",
    "# user function to encode Numerics\n",
    "def convertToNumeric(df, column_names):\n",
    "    \n",
    "    for column_name in column_names:\n",
    "        df['{}'.format(column_name)] = pd.to_numeric(df[column_name])\n",
    "            \n",
    "    return df\n",
    "X = convertToNumeric(X, more_factors)"
   ]
  },
  {
   "cell_type": "code",
   "execution_count": 185,
   "metadata": {},
   "outputs": [],
   "source": [
    "from sklearn.compose import ColumnTransformer\n",
    "from sklearn.preprocessing import OneHotEncoder\n",
    "\n",
    "ct = ColumnTransformer(\n",
    "    transformers = [('encoder', OneHotEncoder(), ['Personal or Business'])],\n",
    "    remainder = 'passthrough'\n",
    ")\n",
    "ct.fit_transform(X)\n",
    "X = pd.DataFrame(\n",
    "        ct.fit_transform(X), \n",
    "        columns = X['Personal or Business'].unique().tolist() + list(set(predictors) - set(['Personal or Business']))\n",
    "        )"
   ]
  },
  {
   "cell_type": "code",
   "execution_count": 186,
   "metadata": {},
   "outputs": [],
   "source": [
    "from sklearn.linear_model import LinearRegression, Lasso\n",
    "from sklearn.compose import TransformedTargetRegressor\n",
    "from sklearn.model_selection import cross_val_score\n",
    "\n",
    "X_train = X.values\n",
    "y_train = target_raw.values\n",
    "\n",
    "def Squared(x):\n",
    "    return x ** 2\n",
    "\n",
    "regressor = Lasso()\n",
    "regressor1 = TransformedTargetRegressor(\n",
    "    regressor=Lasso(), func=np.log, inverse_func=np.exp)\n",
    "regressor2 = TransformedTargetRegressor(\n",
    "    regressor=Lasso(), func=np.sqrt, inverse_func=Squared)\n",
    "\n",
    "my_dict = {\n",
    "    'Raw Target': regressor,\n",
    "    'Log Transformed Target': regressor1,\n",
    "    'Square Root Transformed Target': regressor2\n",
    "}\n",
    "\n",
    "scores = {}\n",
    "for target, model in my_dict.items():\n",
    "    errors = cross_val_score(estimator=model,\n",
    "                             X=X_train,\n",
    "                             y=y_train,\n",
    "                             cv=10,\n",
    "                             scoring='neg_root_mean_squared_error')\n",
    "    errors = np.array([abs(value) for value in errors])\n",
    "    scores[target] = pd.Series(errors)"
   ]
  },
  {
   "cell_type": "code",
   "execution_count": 189,
   "metadata": {},
   "outputs": [
    {
     "data": {
      "text/plain": [
       "Raw Target                        757.748357\n",
       "Log Transformed Target            838.126788\n",
       "Square Root Transformed Target    768.198236\n",
       "dtype: float64"
      ]
     },
     "execution_count": 189,
     "metadata": {},
     "output_type": "execute_result"
    }
   ],
   "source": [
    "pd.DataFrame(scores).mean()"
   ]
  },
  {
   "cell_type": "markdown",
   "metadata": {},
   "source": [
    "###### task: code function to generate univariate plots for features"
   ]
  },
  {
   "cell_type": "code",
   "execution_count": 121,
   "metadata": {},
   "outputs": [],
   "source": [
    "# user function to generate multiple plots\n",
    "def generateMultiPlot(df, variables, nrows, ncols, length, width, func):\n",
    "\n",
    "    rows = range(0, nrows)\n",
    "    columns = range(0, ncols)\n",
    "    axis_position = list()\n",
    "\n",
    "    for i,j in enumerate(rows):\n",
    "        axis_position.append((i, j))\n",
    "\n",
    "    for x in itertools.permutations(rows, len(columns)):\n",
    "        axis_position.append(x[0:2])\n",
    "    axis_position = pd.Series(axis_position).drop_duplicates().sort_values().to_list()\n",
    "\n",
    "    var_axes = {variable: list(ax) for variable, ax in zip(variables, axis_position)}\n",
    "\n",
    "    fig, axes = plt.subplots(nrows, ncols, figsize = (width, length))\n",
    "    for variable, ax in var_axes.items():\n",
    "\n",
    "        x = ax[1]\n",
    "        y = ax[0]\n",
    "        \n",
    "        multiDist = func(\n",
    "                      df[variable], \n",
    "                      color = \"teal\", \n",
    "                      ax = axes[x, y]\n",
    "                    )\n",
    "    return multiDist"
   ]
  },
  {
   "cell_type": "markdown",
   "metadata": {
    "heading_collapsed": true
   },
   "source": [
    "###### task: plot numeric features\n",
    "What better way to learn more about a dataset than by actually viualising it. Here we visualise numeric features. We lookout for the following:\n",
    "1. outliers - these are values that lie too far are away from the rest of the other values in the vector of the target (the variable we attempt to predict)\n",
    "2. leverage points - same as outliers except that this time we refer to predictor features.\n",
    "\n",
    "The motivation for investigating and treating these values is as follows: outlier values and/or leverage points in data distributions sometimes have an impact in the pattern that is learnt by the models we build later. The term high leverage refers to the tendency of such values to affect the fit of the line, particularly in parameterised models like linear regression. As such, treating them accordingly allows such models to learn the underlying trend/distribution of the data, rather than one time instances that may never again occur in the data and at times these values are the result of data collection errors. The code cel below displays histograms for all numeric features."
   ]
  },
  {
   "cell_type": "code",
   "execution_count": 122,
   "metadata": {
    "hidden": true
   },
   "outputs": [
    {
     "data": {
      "text/html": [
       "<div>\n",
       "<style scoped>\n",
       "    .dataframe tbody tr th:only-of-type {\n",
       "        vertical-align: middle;\n",
       "    }\n",
       "\n",
       "    .dataframe tbody tr th {\n",
       "        vertical-align: top;\n",
       "    }\n",
       "\n",
       "    .dataframe thead th {\n",
       "        text-align: right;\n",
       "    }\n",
       "</style>\n",
       "<table border=\"1\" class=\"dataframe\">\n",
       "  <thead>\n",
       "    <tr style=\"text-align: right;\">\n",
       "      <th></th>\n",
       "      <th>No_of_Ratings</th>\n",
       "      <th>Average_Rating</th>\n",
       "      <th>Age</th>\n",
       "      <th>Temperature</th>\n",
       "      <th>Pickup Lat</th>\n",
       "      <th>Destination Lat</th>\n",
       "      <th>Precipitation in millimeters</th>\n",
       "      <th>Destination Long</th>\n",
       "      <th>No_Of_Orders</th>\n",
       "      <th>Distance (KM)</th>\n",
       "      <th>Pickup Long</th>\n",
       "    </tr>\n",
       "  </thead>\n",
       "  <tbody>\n",
       "    <tr>\n",
       "      <th>count</th>\n",
       "      <td>21201.000000</td>\n",
       "      <td>21201.000000</td>\n",
       "      <td>21201.000000</td>\n",
       "      <td>16835.000000</td>\n",
       "      <td>21201.000000</td>\n",
       "      <td>21201.000000</td>\n",
       "      <td>552.000000</td>\n",
       "      <td>21201.000000</td>\n",
       "      <td>21201.000000</td>\n",
       "      <td>21201.000000</td>\n",
       "      <td>21201.000000</td>\n",
       "    </tr>\n",
       "    <tr>\n",
       "      <th>mean</th>\n",
       "      <td>341.067119</td>\n",
       "      <td>13.882520</td>\n",
       "      <td>984.742842</td>\n",
       "      <td>23.258889</td>\n",
       "      <td>-1.281470</td>\n",
       "      <td>-1.282581</td>\n",
       "      <td>7.905797</td>\n",
       "      <td>36.811220</td>\n",
       "      <td>1692.423706</td>\n",
       "      <td>9.506533</td>\n",
       "      <td>36.811264</td>\n",
       "    </tr>\n",
       "    <tr>\n",
       "      <th>std</th>\n",
       "      <td>402.867746</td>\n",
       "      <td>0.916071</td>\n",
       "      <td>646.652835</td>\n",
       "      <td>3.615768</td>\n",
       "      <td>0.030507</td>\n",
       "      <td>0.034824</td>\n",
       "      <td>17.089971</td>\n",
       "      <td>0.044721</td>\n",
       "      <td>1574.308302</td>\n",
       "      <td>5.668963</td>\n",
       "      <td>0.037473</td>\n",
       "    </tr>\n",
       "    <tr>\n",
       "      <th>min</th>\n",
       "      <td>0.000000</td>\n",
       "      <td>0.000000</td>\n",
       "      <td>96.000000</td>\n",
       "      <td>11.200000</td>\n",
       "      <td>-1.438302</td>\n",
       "      <td>-1.430298</td>\n",
       "      <td>0.100000</td>\n",
       "      <td>36.606594</td>\n",
       "      <td>2.000000</td>\n",
       "      <td>1.000000</td>\n",
       "      <td>36.653621</td>\n",
       "    </tr>\n",
       "    <tr>\n",
       "      <th>25%</th>\n",
       "      <td>61.000000</td>\n",
       "      <td>13.600000</td>\n",
       "      <td>495.000000</td>\n",
       "      <td>20.600000</td>\n",
       "      <td>-1.300921</td>\n",
       "      <td>-1.301201</td>\n",
       "      <td>1.075000</td>\n",
       "      <td>36.785661</td>\n",
       "      <td>557.000000</td>\n",
       "      <td>5.000000</td>\n",
       "      <td>36.784605</td>\n",
       "    </tr>\n",
       "    <tr>\n",
       "      <th>50%</th>\n",
       "      <td>161.000000</td>\n",
       "      <td>14.000000</td>\n",
       "      <td>872.000000</td>\n",
       "      <td>23.500000</td>\n",
       "      <td>-1.279395</td>\n",
       "      <td>-1.284382</td>\n",
       "      <td>2.900000</td>\n",
       "      <td>36.808002</td>\n",
       "      <td>1212.000000</td>\n",
       "      <td>8.000000</td>\n",
       "      <td>36.807040</td>\n",
       "    </tr>\n",
       "    <tr>\n",
       "      <th>75%</th>\n",
       "      <td>495.000000</td>\n",
       "      <td>14.300000</td>\n",
       "      <td>1236.000000</td>\n",
       "      <td>26.000000</td>\n",
       "      <td>-1.257147</td>\n",
       "      <td>-1.261177</td>\n",
       "      <td>4.900000</td>\n",
       "      <td>36.829477</td>\n",
       "      <td>2311.000000</td>\n",
       "      <td>13.000000</td>\n",
       "      <td>36.829741</td>\n",
       "    </tr>\n",
       "    <tr>\n",
       "      <th>max</th>\n",
       "      <td>2298.000000</td>\n",
       "      <td>15.200000</td>\n",
       "      <td>3764.000000</td>\n",
       "      <td>32.100000</td>\n",
       "      <td>-1.147170</td>\n",
       "      <td>-1.030225</td>\n",
       "      <td>99.100000</td>\n",
       "      <td>37.016779</td>\n",
       "      <td>9756.000000</td>\n",
       "      <td>49.000000</td>\n",
       "      <td>36.991046</td>\n",
       "    </tr>\n",
       "  </tbody>\n",
       "</table>\n",
       "</div>"
      ],
      "text/plain": [
       "       No_of_Ratings  Average_Rating           Age   Temperature  \\\n",
       "count   21201.000000    21201.000000  21201.000000  16835.000000   \n",
       "mean      341.067119       13.882520    984.742842     23.258889   \n",
       "std       402.867746        0.916071    646.652835      3.615768   \n",
       "min         0.000000        0.000000     96.000000     11.200000   \n",
       "25%        61.000000       13.600000    495.000000     20.600000   \n",
       "50%       161.000000       14.000000    872.000000     23.500000   \n",
       "75%       495.000000       14.300000   1236.000000     26.000000   \n",
       "max      2298.000000       15.200000   3764.000000     32.100000   \n",
       "\n",
       "         Pickup Lat  Destination Lat  Precipitation in millimeters  \\\n",
       "count  21201.000000     21201.000000                    552.000000   \n",
       "mean      -1.281470        -1.282581                      7.905797   \n",
       "std        0.030507         0.034824                     17.089971   \n",
       "min       -1.438302        -1.430298                      0.100000   \n",
       "25%       -1.300921        -1.301201                      1.075000   \n",
       "50%       -1.279395        -1.284382                      2.900000   \n",
       "75%       -1.257147        -1.261177                      4.900000   \n",
       "max       -1.147170        -1.030225                     99.100000   \n",
       "\n",
       "       Destination Long  No_Of_Orders  Distance (KM)   Pickup Long  \n",
       "count      21201.000000  21201.000000   21201.000000  21201.000000  \n",
       "mean          36.811220   1692.423706       9.506533     36.811264  \n",
       "std            0.044721   1574.308302       5.668963      0.037473  \n",
       "min           36.606594      2.000000       1.000000     36.653621  \n",
       "25%           36.785661    557.000000       5.000000     36.784605  \n",
       "50%           36.808002   1212.000000       8.000000     36.807040  \n",
       "75%           36.829477   2311.000000      13.000000     36.829741  \n",
       "max           37.016779   9756.000000      49.000000     36.991046  "
      ]
     },
     "execution_count": 122,
     "metadata": {},
     "output_type": "execute_result"
    }
   ],
   "source": [
    "# summary statistic\n",
    "train_data.loc[:, numeric_vars].describe()"
   ]
  },
  {
   "cell_type": "code",
   "execution_count": 123,
   "metadata": {
    "hidden": true
   },
   "outputs": [
    {
     "data": {
      "text/plain": [
       "<matplotlib.axes._subplots.AxesSubplot at 0x1893a742470>"
      ]
     },
     "execution_count": 123,
     "metadata": {},
     "output_type": "execute_result"
    },
    {
     "data": {
      "image/png": "[encoded data removed]",
      "text/plain": [
       "<Figure size 1440x1296 with 12 Axes>"
      ]
     },
     "metadata": {
      "needs_background": "light"
     },
     "output_type": "display_data"
    }
   ],
   "source": [
    "# generate histograms for numeric features\n",
    "generateMultiDist(\n",
    "    df = train_data,\n",
    "    variables = numeric_vars,\n",
    "    nrows = 4,\n",
    "    ncols = 3,\n",
    "    length = 18,\n",
    "    width = 20,\n",
    "    func = sns.distplot\n",
    ")"
   ]
  },
  {
   "cell_type": "markdown",
   "metadata": {
    "heading_collapsed": true
   },
   "source": [
    "###### task: plot barchars for factors\n",
    "When generating barchars for factor variables we look out for features with too many categories that can be grouped together. The grouping can depend on how the different levels relate to the target variable. For example if there is inherent ordering of the levels with the target fewer categories can be created by grouping based on a scale of low, medium and high values of the target. This is called mean target encoding and is an option we may look into for feature with too many level like day of the month (usually 30 levels)."
   ]
  },
  {
   "cell_type": "code",
   "execution_count": 129,
   "metadata": {
    "hidden": true
   },
   "outputs": [
    {
     "data": {
      "text/html": [
       "<div>\n",
       "<style scoped>\n",
       "    .dataframe tbody tr th:only-of-type {\n",
       "        vertical-align: middle;\n",
       "    }\n",
       "\n",
       "    .dataframe tbody tr th {\n",
       "        vertical-align: top;\n",
       "    }\n",
       "\n",
       "    .dataframe thead th {\n",
       "        text-align: right;\n",
       "    }\n",
       "</style>\n",
       "<table border=\"1\" class=\"dataframe\">\n",
       "  <thead>\n",
       "    <tr style=\"text-align: right;\">\n",
       "      <th></th>\n",
       "      <th>Vehicle Type</th>\n",
       "      <th>Placement - Weekday (Mo = 1)</th>\n",
       "      <th>Arrival at Pickup - Weekday (Mo = 1)</th>\n",
       "      <th>Confirmation - Weekday (Mo = 1)</th>\n",
       "      <th>Pickup - Weekday (Mo = 1)</th>\n",
       "      <th>Placement - Day of Month</th>\n",
       "      <th>Arrival at Pickup - Day of Month</th>\n",
       "      <th>Confirmation - Day of Month</th>\n",
       "      <th>Pickup - Day of Month</th>\n",
       "      <th>Platform Type</th>\n",
       "      <th>Personal or Business</th>\n",
       "    </tr>\n",
       "  </thead>\n",
       "  <tbody>\n",
       "    <tr>\n",
       "      <th>count</th>\n",
       "      <td>21201</td>\n",
       "      <td>21201</td>\n",
       "      <td>21201</td>\n",
       "      <td>21201</td>\n",
       "      <td>21201</td>\n",
       "      <td>21201</td>\n",
       "      <td>21201</td>\n",
       "      <td>21201</td>\n",
       "      <td>21201</td>\n",
       "      <td>21201</td>\n",
       "      <td>21201</td>\n",
       "    </tr>\n",
       "    <tr>\n",
       "      <th>unique</th>\n",
       "      <td>1</td>\n",
       "      <td>7</td>\n",
       "      <td>7</td>\n",
       "      <td>7</td>\n",
       "      <td>7</td>\n",
       "      <td>31</td>\n",
       "      <td>31</td>\n",
       "      <td>31</td>\n",
       "      <td>31</td>\n",
       "      <td>4</td>\n",
       "      <td>2</td>\n",
       "    </tr>\n",
       "    <tr>\n",
       "      <th>top</th>\n",
       "      <td>Bike</td>\n",
       "      <td>4</td>\n",
       "      <td>4</td>\n",
       "      <td>4</td>\n",
       "      <td>4</td>\n",
       "      <td>8</td>\n",
       "      <td>8</td>\n",
       "      <td>8</td>\n",
       "      <td>8</td>\n",
       "      <td>3</td>\n",
       "      <td>Business</td>\n",
       "    </tr>\n",
       "    <tr>\n",
       "      <th>freq</th>\n",
       "      <td>21201</td>\n",
       "      <td>4228</td>\n",
       "      <td>4229</td>\n",
       "      <td>4229</td>\n",
       "      <td>4229</td>\n",
       "      <td>848</td>\n",
       "      <td>848</td>\n",
       "      <td>848</td>\n",
       "      <td>848</td>\n",
       "      <td>18054</td>\n",
       "      <td>17384</td>\n",
       "    </tr>\n",
       "  </tbody>\n",
       "</table>\n",
       "</div>"
      ],
      "text/plain": [
       "       Vehicle Type  Placement - Weekday (Mo = 1)  \\\n",
       "count         21201                         21201   \n",
       "unique            1                             7   \n",
       "top            Bike                             4   \n",
       "freq          21201                          4228   \n",
       "\n",
       "        Arrival at Pickup - Weekday (Mo = 1)  Confirmation - Weekday (Mo = 1)  \\\n",
       "count                                  21201                            21201   \n",
       "unique                                     7                                7   \n",
       "top                                        4                                4   \n",
       "freq                                    4229                             4229   \n",
       "\n",
       "        Pickup - Weekday (Mo = 1)  Placement - Day of Month  \\\n",
       "count                       21201                     21201   \n",
       "unique                          7                        31   \n",
       "top                             4                         8   \n",
       "freq                         4229                       848   \n",
       "\n",
       "        Arrival at Pickup - Day of Month  Confirmation - Day of Month  \\\n",
       "count                              21201                        21201   \n",
       "unique                                31                           31   \n",
       "top                                    8                            8   \n",
       "freq                                 848                          848   \n",
       "\n",
       "        Pickup - Day of Month  Platform Type Personal or Business  \n",
       "count                   21201          21201                21201  \n",
       "unique                     31              4                    2  \n",
       "top                         8              3             Business  \n",
       "freq                      848          18054                17384  "
      ]
     },
     "execution_count": 129,
     "metadata": {},
     "output_type": "execute_result"
    }
   ],
   "source": [
    "train_data.loc[:, factor_vars].describe()"
   ]
  },
  {
   "cell_type": "code",
   "execution_count": 130,
   "metadata": {
    "hidden": true
   },
   "outputs": [
    {
     "data": {
      "text/plain": [
       "<matplotlib.axes._subplots.AxesSubplot at 0x1893af76b00>"
      ]
     },
     "execution_count": 130,
     "metadata": {},
     "output_type": "execute_result"
    },
    {
     "data": {
      "image/png": "[encoded data removed]",
      "text/plain": [
       "<Figure size 1440x1296 with 12 Axes>"
      ]
     },
     "metadata": {
      "needs_background": "light"
     },
     "output_type": "display_data"
    }
   ],
   "source": [
    "generateMultiPlot(\n",
    "    df = train_data,\n",
    "    variables = factor_vars[1:],\n",
    "    nrows = 4,\n",
    "    ncols = 3,\n",
    "    length = 18,\n",
    "    width = 20,\n",
    "    func = sns.countplot\n",
    ")"
   ]
  },
  {
   "cell_type": "markdown",
   "metadata": {
    "hidden": true
   },
   "source": []
  },
  {
   "cell_type": "code",
   "execution_count": 148,
   "metadata": {
    "hidden": true
   },
   "outputs": [],
   "source": [
    "# minimal data preprocessing (just enough to build base model)\n"
   ]
  },
  {
   "cell_type": "code",
   "execution_count": null,
   "metadata": {
    "hidden": true
   },
   "outputs": [],
   "source": []
  },
  {
   "cell_type": "code",
   "execution_count": null,
   "metadata": {
    "hidden": true
   },
   "outputs": [],
   "source": [
    "# fit model and cross validate perfomance"
   ]
  },
  {
   "cell_type": "markdown",
   "metadata": {
    "heading_collapsed": true
   },
   "source": [
    "# Exploratory Data Analysis - 2"
   ]
  },
  {
   "cell_type": "markdown",
   "metadata": {
    "heading_collapsed": true,
    "hidden": true
   },
   "source": [
    "## Multivariate Analysis"
   ]
  },
  {
   "cell_type": "code",
   "execution_count": 7,
   "metadata": {
    "hidden": true
   },
   "outputs": [],
   "source": [
    "# analyse relationships between features (correlation and factor analysis)"
   ]
  },
  {
   "cell_type": "code",
   "execution_count": 8,
   "metadata": {
    "hidden": true
   },
   "outputs": [],
   "source": [
    "# check for collinearity and multi-collinearity"
   ]
  },
  {
   "cell_type": "code",
   "execution_count": null,
   "metadata": {
    "hidden": true
   },
   "outputs": [],
   "source": [
    "# analyses relationship between features and target"
   ]
  },
  {
   "cell_type": "markdown",
   "metadata": {
    "heading_collapsed": true
   },
   "source": [
    "# Feature Engineering"
   ]
  },
  {
   "cell_type": "code",
   "execution_count": null,
   "metadata": {
    "hidden": true
   },
   "outputs": [],
   "source": [
    "# investigate non linearity"
   ]
  },
  {
   "cell_type": "code",
   "execution_count": null,
   "metadata": {
    "hidden": true
   },
   "outputs": [],
   "source": [
    "# investigate feature interactions and synergy"
   ]
  },
  {
   "cell_type": "code",
   "execution_count": null,
   "metadata": {
    "hidden": true
   },
   "outputs": [],
   "source": [
    "# other transformations (data mining)"
   ]
  },
  {
   "cell_type": "markdown",
   "metadata": {
    "heading_collapsed": true
   },
   "source": [
    "# Feature Selection"
   ]
  },
  {
   "cell_type": "code",
   "execution_count": null,
   "metadata": {
    "hidden": true
   },
   "outputs": [],
   "source": [
    "# L1 and L2 Regularisation"
   ]
  },
  {
   "cell_type": "code",
   "execution_count": 9,
   "metadata": {
    "hidden": true
   },
   "outputs": [],
   "source": [
    "# forward selection, backward selection and/or mixed selection"
   ]
  },
  {
   "cell_type": "code",
   "execution_count": 10,
   "metadata": {
    "hidden": true
   },
   "outputs": [],
   "source": [
    "# genetic algorithms (borita)"
   ]
  },
  {
   "cell_type": "code",
   "execution_count": null,
   "metadata": {
    "hidden": true
   },
   "outputs": [],
   "source": [
    "# Random forests and feature importance"
   ]
  },
  {
   "cell_type": "markdown",
   "metadata": {
    "heading_collapsed": true
   },
   "source": [
    "# Model Selection "
   ]
  },
  {
   "cell_type": "code",
   "execution_count": null,
   "metadata": {
    "hidden": true
   },
   "outputs": [],
   "source": [
    "# fit multiple models and do hyper-parameter tuning"
   ]
  },
  {
   "cell_type": "code",
   "execution_count": null,
   "metadata": {
    "hidden": true
   },
   "outputs": [],
   "source": [
    "# cross validate model perfomance"
   ]
  },
  {
   "cell_type": "code",
   "execution_count": null,
   "metadata": {
    "hidden": true
   },
   "outputs": [],
   "source": [
    "# select the best model and implement it as final solution"
   ]
  },
  {
   "cell_type": "markdown",
   "metadata": {},
   "source": [
    "# Summary of Conclusions"
   ]
  },
  {
   "cell_type": "code",
   "execution_count": null,
   "metadata": {},
   "outputs": [],
   "source": [
    "# summarise findings and make recommendations"
   ]
  }
 ],
 "metadata": {
  "kernelspec": {
   "display_name": "Python 3",
   "language": "python",
   "name": "python3"
  },
  "language_info": {
   "codemirror_mode": {
    "name": "ipython",
    "version": 3
   },
   "file_extension": ".py",
   "mimetype": "text/x-python",
   "name": "python",
   "nbconvert_exporter": "python",
   "pygments_lexer": "ipython3",
   "version": "3.6.10"
  },
  "toc": {
   "base_numbering": 1,
   "nav_menu": {},
   "number_sections": true,
   "sideBar": true,
   "skip_h1_title": false,
   "title_cell": "Table of Contents",
   "title_sidebar": "Contents",
   "toc_cell": false,
   "toc_position": {},
   "toc_section_display": true,
   "toc_window_display": false
  },
  "varInspector": {
   "cols": {
    "lenName": 16,
    "lenType": 16,
    "lenVar": 40
   },
   "kernels_config": {
    "python": {
     "delete_cmd_postfix": "",
     "delete_cmd_prefix": "del ",
     "library": "var_list.py",
     "varRefreshCmd": "print(var_dic_list())"
    },
    "r": {
     "delete_cmd_postfix": ") ",
     "delete_cmd_prefix": "rm(",
     "library": "var_list.r",
     "varRefreshCmd": "cat(var_dic_list()) "
    }
   },
   "oldHeight": 403.31234,
   "position": {
    "height": "425.958px",
    "left": "7.33333px",
    "right": "20px",
    "top": "404px",
    "width": "349.646px"
   },
   "types_to_exclude": [
    "module",
    "function",
    "builtin_function_or_method",
    "instance",
    "_Feature"
   ],
   "varInspector_section_display": "block",
   "window_display": false
  }
 },
 "nbformat": 4,
 "nbformat_minor": 4
}
