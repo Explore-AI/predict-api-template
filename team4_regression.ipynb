{
  "nbformat": 4,
  "nbformat_minor": 0,
  "metadata": {
    "colab": {
      "name": "team4_regression.ipynb",
      "provenance": [],
      "collapsed_sections": [],
      "toc_visible": true,
      "include_colab_link": true
    },
    "kernelspec": {
      "display_name": "Python 3",
      "language": "python",
      "name": "python3"
    },
    "language_info": {
      "codemirror_mode": {
        "name": "ipython",
        "version": 3
      },
      "file_extension": ".py",
      "mimetype": "text/x-python",
      "name": "python",
      "nbconvert_exporter": "python",
      "pygments_lexer": "ipython3",
      "version": "3.7.9"
    }
  },
  "cells": [
    {
      "cell_type": "markdown",
      "metadata": {
        "id": "view-in-github",
        "colab_type": "text"
      },
      "source": [
        "<a href=\"https://colab.research.google.com/github/mokai1701/Team_4_Regression_Predict_API_Instructions/blob/master/team4_regression.ipynb\" target=\"_parent\"><img src=\"https://colab.research.google.com/assets/colab-badge.svg\" alt=\"Open In Colab\"/></a>"
      ]
    },
    {
      "cell_type": "markdown",
      "metadata": {
        "id": "Uzo7rtQ5OeJD"
      },
      "source": [
        "# Regression"
      ]
    },
    {
      "cell_type": "markdown",
      "metadata": {
        "id": "l_LulNCC8z96"
      },
      "source": [
        "# Introduction"
      ]
    },
    {
      "cell_type": "code",
      "metadata": {
        "id": "JAp7-5iTOeJS"
      },
      "source": [
        ""
      ],
      "execution_count": null,
      "outputs": []
    },
    {
      "cell_type": "markdown",
      "metadata": {
        "id": "xpXdowrE9DxW"
      },
      "source": [
        "## Importing the libraries"
      ]
    },
    {
      "cell_type": "code",
      "metadata": {
        "id": "nhKd4hWx9GFt"
      },
      "source": [
        "import numpy as np\n",
        "import pandas as pd\n",
        "import matplotlib.pyplot as plt\n",
        "import seaborn as sns\n"
      ],
      "execution_count": null,
      "outputs": []
    },
    {
      "cell_type": "markdown",
      "metadata": {
        "id": "6JhpWJi59J1p"
      },
      "source": [
        "## Importing the dataset"
      ]
    },
    {
      "cell_type": "code",
      "metadata": {
        "id": "f8GfYDZ59O18",
        "outputId": "451c154c-c0e5-4861-c2da-e5c882edf913",
        "colab": {
          "base_uri": "https://localhost:8080/",
          "height": 426
        }
      },
      "source": [
        "train = pd.read_csv('Train.csv')\n",
        "test = pd.read_csv('Test.csv')\n",
        "df_rider = pd.read_csv('Riders.csv') \n",
        "df_variable = pd.read_csv('VariableDefinitions.csv')"
      ],
      "execution_count": null,
      "outputs": [
        {
          "output_type": "error",
          "ename": "FileNotFoundError",
          "evalue": "ignored",
          "traceback": [
            "\u001b[0;31m---------------------------------------------------------------------------\u001b[0m",
            "\u001b[0;31mFileNotFoundError\u001b[0m                         Traceback (most recent call last)",
            "\u001b[0;32m<ipython-input-4-619d5bd3a32c>\u001b[0m in \u001b[0;36m<module>\u001b[0;34m()\u001b[0m\n\u001b[0;32m----> 1\u001b[0;31m \u001b[0mtrain\u001b[0m \u001b[0;34m=\u001b[0m \u001b[0mpd\u001b[0m\u001b[0;34m.\u001b[0m\u001b[0mread_csv\u001b[0m\u001b[0;34m(\u001b[0m\u001b[0;34m'Train.csv'\u001b[0m\u001b[0;34m)\u001b[0m\u001b[0;34m\u001b[0m\u001b[0;34m\u001b[0m\u001b[0m\n\u001b[0m\u001b[1;32m      2\u001b[0m \u001b[0mtest\u001b[0m \u001b[0;34m=\u001b[0m \u001b[0mpd\u001b[0m\u001b[0;34m.\u001b[0m\u001b[0mread_csv\u001b[0m\u001b[0;34m(\u001b[0m\u001b[0;34m'Test.csv'\u001b[0m\u001b[0;34m)\u001b[0m\u001b[0;34m\u001b[0m\u001b[0;34m\u001b[0m\u001b[0m\n\u001b[1;32m      3\u001b[0m \u001b[0mdf_rider\u001b[0m \u001b[0;34m=\u001b[0m \u001b[0mpd\u001b[0m\u001b[0;34m.\u001b[0m\u001b[0mread_csv\u001b[0m\u001b[0;34m(\u001b[0m\u001b[0;34m'Riders.csv'\u001b[0m\u001b[0;34m)\u001b[0m\u001b[0;34m\u001b[0m\u001b[0;34m\u001b[0m\u001b[0m\n\u001b[1;32m      4\u001b[0m \u001b[0mdf_variable\u001b[0m \u001b[0;34m=\u001b[0m \u001b[0mpd\u001b[0m\u001b[0;34m.\u001b[0m\u001b[0mread_csv\u001b[0m\u001b[0;34m(\u001b[0m\u001b[0;34m'VariableDefinitions.csv'\u001b[0m\u001b[0;34m)\u001b[0m\u001b[0;34m\u001b[0m\u001b[0;34m\u001b[0m\u001b[0m\n",
            "\u001b[0;32m/usr/local/lib/python3.6/dist-packages/pandas/io/parsers.py\u001b[0m in \u001b[0;36mread_csv\u001b[0;34m(filepath_or_buffer, sep, delimiter, header, names, index_col, usecols, squeeze, prefix, mangle_dupe_cols, dtype, engine, converters, true_values, false_values, skipinitialspace, skiprows, skipfooter, nrows, na_values, keep_default_na, na_filter, verbose, skip_blank_lines, parse_dates, infer_datetime_format, keep_date_col, date_parser, dayfirst, cache_dates, iterator, chunksize, compression, thousands, decimal, lineterminator, quotechar, quoting, doublequote, escapechar, comment, encoding, dialect, error_bad_lines, warn_bad_lines, delim_whitespace, low_memory, memory_map, float_precision)\u001b[0m\n\u001b[1;32m    684\u001b[0m     )\n\u001b[1;32m    685\u001b[0m \u001b[0;34m\u001b[0m\u001b[0m\n\u001b[0;32m--> 686\u001b[0;31m     \u001b[0;32mreturn\u001b[0m \u001b[0m_read\u001b[0m\u001b[0;34m(\u001b[0m\u001b[0mfilepath_or_buffer\u001b[0m\u001b[0;34m,\u001b[0m \u001b[0mkwds\u001b[0m\u001b[0;34m)\u001b[0m\u001b[0;34m\u001b[0m\u001b[0;34m\u001b[0m\u001b[0m\n\u001b[0m\u001b[1;32m    687\u001b[0m \u001b[0;34m\u001b[0m\u001b[0m\n\u001b[1;32m    688\u001b[0m \u001b[0;34m\u001b[0m\u001b[0m\n",
            "\u001b[0;32m/usr/local/lib/python3.6/dist-packages/pandas/io/parsers.py\u001b[0m in \u001b[0;36m_read\u001b[0;34m(filepath_or_buffer, kwds)\u001b[0m\n\u001b[1;32m    450\u001b[0m \u001b[0;34m\u001b[0m\u001b[0m\n\u001b[1;32m    451\u001b[0m     \u001b[0;31m# Create the parser.\u001b[0m\u001b[0;34m\u001b[0m\u001b[0;34m\u001b[0m\u001b[0;34m\u001b[0m\u001b[0m\n\u001b[0;32m--> 452\u001b[0;31m     \u001b[0mparser\u001b[0m \u001b[0;34m=\u001b[0m \u001b[0mTextFileReader\u001b[0m\u001b[0;34m(\u001b[0m\u001b[0mfp_or_buf\u001b[0m\u001b[0;34m,\u001b[0m \u001b[0;34m**\u001b[0m\u001b[0mkwds\u001b[0m\u001b[0;34m)\u001b[0m\u001b[0;34m\u001b[0m\u001b[0;34m\u001b[0m\u001b[0m\n\u001b[0m\u001b[1;32m    453\u001b[0m \u001b[0;34m\u001b[0m\u001b[0m\n\u001b[1;32m    454\u001b[0m     \u001b[0;32mif\u001b[0m \u001b[0mchunksize\u001b[0m \u001b[0;32mor\u001b[0m \u001b[0miterator\u001b[0m\u001b[0;34m:\u001b[0m\u001b[0;34m\u001b[0m\u001b[0;34m\u001b[0m\u001b[0m\n",
            "\u001b[0;32m/usr/local/lib/python3.6/dist-packages/pandas/io/parsers.py\u001b[0m in \u001b[0;36m__init__\u001b[0;34m(self, f, engine, **kwds)\u001b[0m\n\u001b[1;32m    934\u001b[0m             \u001b[0mself\u001b[0m\u001b[0;34m.\u001b[0m\u001b[0moptions\u001b[0m\u001b[0;34m[\u001b[0m\u001b[0;34m\"has_index_names\"\u001b[0m\u001b[0;34m]\u001b[0m \u001b[0;34m=\u001b[0m \u001b[0mkwds\u001b[0m\u001b[0;34m[\u001b[0m\u001b[0;34m\"has_index_names\"\u001b[0m\u001b[0;34m]\u001b[0m\u001b[0;34m\u001b[0m\u001b[0;34m\u001b[0m\u001b[0m\n\u001b[1;32m    935\u001b[0m \u001b[0;34m\u001b[0m\u001b[0m\n\u001b[0;32m--> 936\u001b[0;31m         \u001b[0mself\u001b[0m\u001b[0;34m.\u001b[0m\u001b[0m_make_engine\u001b[0m\u001b[0;34m(\u001b[0m\u001b[0mself\u001b[0m\u001b[0;34m.\u001b[0m\u001b[0mengine\u001b[0m\u001b[0;34m)\u001b[0m\u001b[0;34m\u001b[0m\u001b[0;34m\u001b[0m\u001b[0m\n\u001b[0m\u001b[1;32m    937\u001b[0m \u001b[0;34m\u001b[0m\u001b[0m\n\u001b[1;32m    938\u001b[0m     \u001b[0;32mdef\u001b[0m \u001b[0mclose\u001b[0m\u001b[0;34m(\u001b[0m\u001b[0mself\u001b[0m\u001b[0;34m)\u001b[0m\u001b[0;34m:\u001b[0m\u001b[0;34m\u001b[0m\u001b[0;34m\u001b[0m\u001b[0m\n",
            "\u001b[0;32m/usr/local/lib/python3.6/dist-packages/pandas/io/parsers.py\u001b[0m in \u001b[0;36m_make_engine\u001b[0;34m(self, engine)\u001b[0m\n\u001b[1;32m   1166\u001b[0m     \u001b[0;32mdef\u001b[0m \u001b[0m_make_engine\u001b[0m\u001b[0;34m(\u001b[0m\u001b[0mself\u001b[0m\u001b[0;34m,\u001b[0m \u001b[0mengine\u001b[0m\u001b[0;34m=\u001b[0m\u001b[0;34m\"c\"\u001b[0m\u001b[0;34m)\u001b[0m\u001b[0;34m:\u001b[0m\u001b[0;34m\u001b[0m\u001b[0;34m\u001b[0m\u001b[0m\n\u001b[1;32m   1167\u001b[0m         \u001b[0;32mif\u001b[0m \u001b[0mengine\u001b[0m \u001b[0;34m==\u001b[0m \u001b[0;34m\"c\"\u001b[0m\u001b[0;34m:\u001b[0m\u001b[0;34m\u001b[0m\u001b[0;34m\u001b[0m\u001b[0m\n\u001b[0;32m-> 1168\u001b[0;31m             \u001b[0mself\u001b[0m\u001b[0;34m.\u001b[0m\u001b[0m_engine\u001b[0m \u001b[0;34m=\u001b[0m \u001b[0mCParserWrapper\u001b[0m\u001b[0;34m(\u001b[0m\u001b[0mself\u001b[0m\u001b[0;34m.\u001b[0m\u001b[0mf\u001b[0m\u001b[0;34m,\u001b[0m \u001b[0;34m**\u001b[0m\u001b[0mself\u001b[0m\u001b[0;34m.\u001b[0m\u001b[0moptions\u001b[0m\u001b[0;34m)\u001b[0m\u001b[0;34m\u001b[0m\u001b[0;34m\u001b[0m\u001b[0m\n\u001b[0m\u001b[1;32m   1169\u001b[0m         \u001b[0;32melse\u001b[0m\u001b[0;34m:\u001b[0m\u001b[0;34m\u001b[0m\u001b[0;34m\u001b[0m\u001b[0m\n\u001b[1;32m   1170\u001b[0m             \u001b[0;32mif\u001b[0m \u001b[0mengine\u001b[0m \u001b[0;34m==\u001b[0m \u001b[0;34m\"python\"\u001b[0m\u001b[0;34m:\u001b[0m\u001b[0;34m\u001b[0m\u001b[0;34m\u001b[0m\u001b[0m\n",
            "\u001b[0;32m/usr/local/lib/python3.6/dist-packages/pandas/io/parsers.py\u001b[0m in \u001b[0;36m__init__\u001b[0;34m(self, src, **kwds)\u001b[0m\n\u001b[1;32m   1996\u001b[0m         \u001b[0mkwds\u001b[0m\u001b[0;34m[\u001b[0m\u001b[0;34m\"usecols\"\u001b[0m\u001b[0;34m]\u001b[0m \u001b[0;34m=\u001b[0m \u001b[0mself\u001b[0m\u001b[0;34m.\u001b[0m\u001b[0musecols\u001b[0m\u001b[0;34m\u001b[0m\u001b[0;34m\u001b[0m\u001b[0m\n\u001b[1;32m   1997\u001b[0m \u001b[0;34m\u001b[0m\u001b[0m\n\u001b[0;32m-> 1998\u001b[0;31m         \u001b[0mself\u001b[0m\u001b[0;34m.\u001b[0m\u001b[0m_reader\u001b[0m \u001b[0;34m=\u001b[0m \u001b[0mparsers\u001b[0m\u001b[0;34m.\u001b[0m\u001b[0mTextReader\u001b[0m\u001b[0;34m(\u001b[0m\u001b[0msrc\u001b[0m\u001b[0;34m,\u001b[0m \u001b[0;34m**\u001b[0m\u001b[0mkwds\u001b[0m\u001b[0;34m)\u001b[0m\u001b[0;34m\u001b[0m\u001b[0;34m\u001b[0m\u001b[0m\n\u001b[0m\u001b[1;32m   1999\u001b[0m         \u001b[0mself\u001b[0m\u001b[0;34m.\u001b[0m\u001b[0munnamed_cols\u001b[0m \u001b[0;34m=\u001b[0m \u001b[0mself\u001b[0m\u001b[0;34m.\u001b[0m\u001b[0m_reader\u001b[0m\u001b[0;34m.\u001b[0m\u001b[0munnamed_cols\u001b[0m\u001b[0;34m\u001b[0m\u001b[0;34m\u001b[0m\u001b[0m\n\u001b[1;32m   2000\u001b[0m \u001b[0;34m\u001b[0m\u001b[0m\n",
            "\u001b[0;32mpandas/_libs/parsers.pyx\u001b[0m in \u001b[0;36mpandas._libs.parsers.TextReader.__cinit__\u001b[0;34m()\u001b[0m\n",
            "\u001b[0;32mpandas/_libs/parsers.pyx\u001b[0m in \u001b[0;36mpandas._libs.parsers.TextReader._setup_parser_source\u001b[0;34m()\u001b[0m\n",
            "\u001b[0;31mFileNotFoundError\u001b[0m: [Errno 2] No such file or directory: 'Train.csv'"
          ]
        }
      ]
    },
    {
      "cell_type": "code",
      "metadata": {
        "id": "oUB5_xjSAelw",
        "outputId": "e0f02965-8a04-41a2-d98e-561f390ac26b",
        "colab": {
          "base_uri": "https://localhost:8080/",
          "height": 181
        }
      },
      "source": [
        "# Viewing the first five rows of the dataframe\n",
        "df_rider.head()"
      ],
      "execution_count": null,
      "outputs": [
        {
          "output_type": "error",
          "ename": "NameError",
          "evalue": "ignored",
          "traceback": [
            "\u001b[0;31m---------------------------------------------------------------------------\u001b[0m",
            "\u001b[0;31mNameError\u001b[0m                                 Traceback (most recent call last)",
            "\u001b[0;32m<ipython-input-1-cfee79f0987f>\u001b[0m in \u001b[0;36m<module>\u001b[0;34m()\u001b[0m\n\u001b[1;32m      1\u001b[0m \u001b[0;31m# Viewing the first five rows of the dataframe\u001b[0m\u001b[0;34m\u001b[0m\u001b[0;34m\u001b[0m\u001b[0;34m\u001b[0m\u001b[0m\n\u001b[0;32m----> 2\u001b[0;31m \u001b[0mdf_rider\u001b[0m\u001b[0;34m.\u001b[0m\u001b[0mhead\u001b[0m\u001b[0;34m(\u001b[0m\u001b[0;34m)\u001b[0m\u001b[0;34m\u001b[0m\u001b[0;34m\u001b[0m\u001b[0m\n\u001b[0m",
            "\u001b[0;31mNameError\u001b[0m: name 'df_rider' is not defined"
          ]
        }
      ]
    },
    {
      "cell_type": "code",
      "metadata": {
        "id": "3zKj25KPFeH4",
        "outputId": "d8caffb7-cc88-4cf2-bb82-4c2f30ed964b",
        "colab": {
          "base_uri": "https://localhost:8080/",
          "height": 411
        }
      },
      "source": [
        "test.head()"
      ],
      "execution_count": null,
      "outputs": [
        {
          "output_type": "execute_result",
          "data": {
            "text/html": [
              "<div>\n",
              "<style scoped>\n",
              "    .dataframe tbody tr th:only-of-type {\n",
              "        vertical-align: middle;\n",
              "    }\n",
              "\n",
              "    .dataframe tbody tr th {\n",
              "        vertical-align: top;\n",
              "    }\n",
              "\n",
              "    .dataframe thead th {\n",
              "        text-align: right;\n",
              "    }\n",
              "</style>\n",
              "<table border=\"1\" class=\"dataframe\">\n",
              "  <thead>\n",
              "    <tr style=\"text-align: right;\">\n",
              "      <th></th>\n",
              "      <th>Order No</th>\n",
              "      <th>User Id</th>\n",
              "      <th>Vehicle Type</th>\n",
              "      <th>Platform Type</th>\n",
              "      <th>Personal or Business</th>\n",
              "      <th>Placement - Day of Month</th>\n",
              "      <th>Placement - Weekday (Mo = 1)</th>\n",
              "      <th>Placement - Time</th>\n",
              "      <th>Confirmation - Day of Month</th>\n",
              "      <th>Confirmation - Weekday (Mo = 1)</th>\n",
              "      <th>Confirmation - Time</th>\n",
              "      <th>Arrival at Pickup - Day of Month</th>\n",
              "      <th>Arrival at Pickup - Weekday (Mo = 1)</th>\n",
              "      <th>Arrival at Pickup - Time</th>\n",
              "      <th>Pickup - Day of Month</th>\n",
              "      <th>Pickup - Weekday (Mo = 1)</th>\n",
              "      <th>Pickup - Time</th>\n",
              "      <th>Distance (KM)</th>\n",
              "      <th>Temperature</th>\n",
              "      <th>Precipitation in millimeters</th>\n",
              "      <th>Pickup Lat</th>\n",
              "      <th>Pickup Long</th>\n",
              "      <th>Destination Lat</th>\n",
              "      <th>Destination Long</th>\n",
              "      <th>Rider Id</th>\n",
              "    </tr>\n",
              "  </thead>\n",
              "  <tbody>\n",
              "    <tr>\n",
              "      <th>0</th>\n",
              "      <td>Order_No_19248</td>\n",
              "      <td>User_Id_3355</td>\n",
              "      <td>Bike</td>\n",
              "      <td>3</td>\n",
              "      <td>Business</td>\n",
              "      <td>27</td>\n",
              "      <td>3</td>\n",
              "      <td>4:44:10 PM</td>\n",
              "      <td>27</td>\n",
              "      <td>3</td>\n",
              "      <td>4:44:29 PM</td>\n",
              "      <td>27</td>\n",
              "      <td>3</td>\n",
              "      <td>4:53:04 PM</td>\n",
              "      <td>27</td>\n",
              "      <td>3</td>\n",
              "      <td>5:06:47 PM</td>\n",
              "      <td>8</td>\n",
              "      <td>NaN</td>\n",
              "      <td>NaN</td>\n",
              "      <td>-1.333275</td>\n",
              "      <td>36.870815</td>\n",
              "      <td>-1.305249</td>\n",
              "      <td>36.822390</td>\n",
              "      <td>Rider_Id_192</td>\n",
              "    </tr>\n",
              "    <tr>\n",
              "      <th>1</th>\n",
              "      <td>Order_No_12736</td>\n",
              "      <td>User_Id_3647</td>\n",
              "      <td>Bike</td>\n",
              "      <td>3</td>\n",
              "      <td>Business</td>\n",
              "      <td>17</td>\n",
              "      <td>5</td>\n",
              "      <td>12:57:35 PM</td>\n",
              "      <td>17</td>\n",
              "      <td>5</td>\n",
              "      <td>12:59:17 PM</td>\n",
              "      <td>17</td>\n",
              "      <td>5</td>\n",
              "      <td>1:20:27 PM</td>\n",
              "      <td>17</td>\n",
              "      <td>5</td>\n",
              "      <td>1:25:37 PM</td>\n",
              "      <td>5</td>\n",
              "      <td>NaN</td>\n",
              "      <td>NaN</td>\n",
              "      <td>-1.272639</td>\n",
              "      <td>36.794723</td>\n",
              "      <td>-1.277007</td>\n",
              "      <td>36.823907</td>\n",
              "      <td>Rider_Id_868</td>\n",
              "    </tr>\n",
              "    <tr>\n",
              "      <th>2</th>\n",
              "      <td>Order_No_768</td>\n",
              "      <td>User_Id_2154</td>\n",
              "      <td>Bike</td>\n",
              "      <td>3</td>\n",
              "      <td>Business</td>\n",
              "      <td>27</td>\n",
              "      <td>4</td>\n",
              "      <td>11:08:14 AM</td>\n",
              "      <td>27</td>\n",
              "      <td>4</td>\n",
              "      <td>11:25:05 AM</td>\n",
              "      <td>27</td>\n",
              "      <td>4</td>\n",
              "      <td>11:33:20 AM</td>\n",
              "      <td>27</td>\n",
              "      <td>4</td>\n",
              "      <td>11:57:54 AM</td>\n",
              "      <td>5</td>\n",
              "      <td>22.8</td>\n",
              "      <td>NaN</td>\n",
              "      <td>-1.290894</td>\n",
              "      <td>36.822971</td>\n",
              "      <td>-1.276574</td>\n",
              "      <td>36.851365</td>\n",
              "      <td>Rider_Id_26</td>\n",
              "    </tr>\n",
              "    <tr>\n",
              "      <th>3</th>\n",
              "      <td>Order_No_15332</td>\n",
              "      <td>User_Id_2910</td>\n",
              "      <td>Bike</td>\n",
              "      <td>3</td>\n",
              "      <td>Business</td>\n",
              "      <td>17</td>\n",
              "      <td>1</td>\n",
              "      <td>1:51:35 PM</td>\n",
              "      <td>17</td>\n",
              "      <td>1</td>\n",
              "      <td>1:53:27 PM</td>\n",
              "      <td>17</td>\n",
              "      <td>1</td>\n",
              "      <td>2:02:41 PM</td>\n",
              "      <td>17</td>\n",
              "      <td>1</td>\n",
              "      <td>2:16:52 PM</td>\n",
              "      <td>5</td>\n",
              "      <td>24.5</td>\n",
              "      <td>NaN</td>\n",
              "      <td>-1.290503</td>\n",
              "      <td>36.809646</td>\n",
              "      <td>-1.303382</td>\n",
              "      <td>36.790658</td>\n",
              "      <td>Rider_Id_685</td>\n",
              "    </tr>\n",
              "    <tr>\n",
              "      <th>4</th>\n",
              "      <td>Order_No_21373</td>\n",
              "      <td>User_Id_1205</td>\n",
              "      <td>Bike</td>\n",
              "      <td>3</td>\n",
              "      <td>Business</td>\n",
              "      <td>11</td>\n",
              "      <td>2</td>\n",
              "      <td>11:30:28 AM</td>\n",
              "      <td>11</td>\n",
              "      <td>2</td>\n",
              "      <td>11:34:45 AM</td>\n",
              "      <td>11</td>\n",
              "      <td>2</td>\n",
              "      <td>11:47:19 AM</td>\n",
              "      <td>11</td>\n",
              "      <td>2</td>\n",
              "      <td>11:56:04 AM</td>\n",
              "      <td>6</td>\n",
              "      <td>24.4</td>\n",
              "      <td>NaN</td>\n",
              "      <td>-1.281081</td>\n",
              "      <td>36.814423</td>\n",
              "      <td>-1.266467</td>\n",
              "      <td>36.792161</td>\n",
              "      <td>Rider_Id_858</td>\n",
              "    </tr>\n",
              "  </tbody>\n",
              "</table>\n",
              "</div>"
            ],
            "text/plain": [
              "         Order No       User Id  ... Destination Long      Rider Id\n",
              "0  Order_No_19248  User_Id_3355  ...        36.822390  Rider_Id_192\n",
              "1  Order_No_12736  User_Id_3647  ...        36.823907  Rider_Id_868\n",
              "2    Order_No_768  User_Id_2154  ...        36.851365   Rider_Id_26\n",
              "3  Order_No_15332  User_Id_2910  ...        36.790658  Rider_Id_685\n",
              "4  Order_No_21373  User_Id_1205  ...        36.792161  Rider_Id_858\n",
              "\n",
              "[5 rows x 25 columns]"
            ]
          },
          "metadata": {
            "tags": []
          },
          "execution_count": 7
        }
      ]
    },
    {
      "cell_type": "markdown",
      "metadata": {
        "id": "wkMPC7F_CoLv"
      },
      "source": [
        ""
      ]
    },
    {
      "cell_type": "markdown",
      "metadata": {
        "id": "fvYXNJtOCqZM"
      },
      "source": [
        "# Exploritory Data Analysis"
      ]
    },
    {
      "cell_type": "code",
      "metadata": {
        "id": "gvnMRXLABPAQ",
        "outputId": "27037dc7-f99e-456f-9539-20c128a9cfb5",
        "colab": {
          "base_uri": "https://localhost:8080/"
        }
      },
      "source": [
        "# viewing the summary of the datatypes in the dataframe, the total row and column number, and checking for null values\n",
        "train.info()"
      ],
      "execution_count": null,
      "outputs": [
        {
          "output_type": "stream",
          "text": [
            "<class 'pandas.core.frame.DataFrame'>\n",
            "RangeIndex: 21201 entries, 0 to 21200\n",
            "Data columns (total 29 columns):\n",
            " #   Column                                     Non-Null Count  Dtype  \n",
            "---  ------                                     --------------  -----  \n",
            " 0   Order No                                   21201 non-null  object \n",
            " 1   User Id                                    21201 non-null  object \n",
            " 2   Vehicle Type                               21201 non-null  object \n",
            " 3   Platform Type                              21201 non-null  int64  \n",
            " 4   Personal or Business                       21201 non-null  object \n",
            " 5   Placement - Day of Month                   21201 non-null  int64  \n",
            " 6   Placement - Weekday (Mo = 1)               21201 non-null  int64  \n",
            " 7   Placement - Time                           21201 non-null  object \n",
            " 8   Confirmation - Day of Month                21201 non-null  int64  \n",
            " 9   Confirmation - Weekday (Mo = 1)            21201 non-null  int64  \n",
            " 10  Confirmation - Time                        21201 non-null  object \n",
            " 11  Arrival at Pickup - Day of Month           21201 non-null  int64  \n",
            " 12  Arrival at Pickup - Weekday (Mo = 1)       21201 non-null  int64  \n",
            " 13  Arrival at Pickup - Time                   21201 non-null  object \n",
            " 14  Pickup - Day of Month                      21201 non-null  int64  \n",
            " 15  Pickup - Weekday (Mo = 1)                  21201 non-null  int64  \n",
            " 16  Pickup - Time                              21201 non-null  object \n",
            " 17  Arrival at Destination - Day of Month      21201 non-null  int64  \n",
            " 18  Arrival at Destination - Weekday (Mo = 1)  21201 non-null  int64  \n",
            " 19  Arrival at Destination - Time              21201 non-null  object \n",
            " 20  Distance (KM)                              21201 non-null  int64  \n",
            " 21  Temperature                                16835 non-null  float64\n",
            " 22  Precipitation in millimeters               552 non-null    float64\n",
            " 23  Pickup Lat                                 21201 non-null  float64\n",
            " 24  Pickup Long                                21201 non-null  float64\n",
            " 25  Destination Lat                            21201 non-null  float64\n",
            " 26  Destination Long                           21201 non-null  float64\n",
            " 27  Rider Id                                   21201 non-null  object \n",
            " 28  Time from Pickup to Arrival                21201 non-null  int64  \n",
            "dtypes: float64(6), int64(13), object(10)\n",
            "memory usage: 4.7+ MB\n"
          ],
          "name": "stdout"
        }
      ]
    },
    {
      "cell_type": "code",
      "metadata": {
        "id": "TC271nnYFxCk",
        "outputId": "5b604349-057c-40c4-cf4c-8eb086e8e9f9",
        "colab": {
          "base_uri": "https://localhost:8080/"
        }
      },
      "source": [
        "test.info()"
      ],
      "execution_count": null,
      "outputs": [
        {
          "output_type": "stream",
          "text": [
            "<class 'pandas.core.frame.DataFrame'>\n",
            "RangeIndex: 7068 entries, 0 to 7067\n",
            "Data columns (total 25 columns):\n",
            " #   Column                                Non-Null Count  Dtype  \n",
            "---  ------                                --------------  -----  \n",
            " 0   Order No                              7068 non-null   object \n",
            " 1   User Id                               7068 non-null   object \n",
            " 2   Vehicle Type                          7068 non-null   object \n",
            " 3   Platform Type                         7068 non-null   int64  \n",
            " 4   Personal or Business                  7068 non-null   object \n",
            " 5   Placement - Day of Month              7068 non-null   int64  \n",
            " 6   Placement - Weekday (Mo = 1)          7068 non-null   int64  \n",
            " 7   Placement - Time                      7068 non-null   object \n",
            " 8   Confirmation - Day of Month           7068 non-null   int64  \n",
            " 9   Confirmation - Weekday (Mo = 1)       7068 non-null   int64  \n",
            " 10  Confirmation - Time                   7068 non-null   object \n",
            " 11  Arrival at Pickup - Day of Month      7068 non-null   int64  \n",
            " 12  Arrival at Pickup - Weekday (Mo = 1)  7068 non-null   int64  \n",
            " 13  Arrival at Pickup - Time              7068 non-null   object \n",
            " 14  Pickup - Day of Month                 7068 non-null   int64  \n",
            " 15  Pickup - Weekday (Mo = 1)             7068 non-null   int64  \n",
            " 16  Pickup - Time                         7068 non-null   object \n",
            " 17  Distance (KM)                         7068 non-null   int64  \n",
            " 18  Temperature                           5631 non-null   float64\n",
            " 19  Precipitation in millimeters          199 non-null    float64\n",
            " 20  Pickup Lat                            7068 non-null   float64\n",
            " 21  Pickup Long                           7068 non-null   float64\n",
            " 22  Destination Lat                       7068 non-null   float64\n",
            " 23  Destination Long                      7068 non-null   float64\n",
            " 24  Rider Id                              7068 non-null   object \n",
            "dtypes: float64(6), int64(10), object(9)\n",
            "memory usage: 1.3+ MB\n"
          ],
          "name": "stdout"
        }
      ]
    },
    {
      "cell_type": "markdown",
      "metadata": {
        "id": "aZS3BWJKOeKR"
      },
      "source": [
        "# Data Cleaning and Formatting \n",
        "\n",
        "### Taking care of missing data"
      ]
    },
    {
      "cell_type": "code",
      "metadata": {
        "id": "hFMTFhW8OeKT"
      },
      "source": [
        "# Filling in the null values with zeros for both the Temperature and Precipititation on millimeters columns for both the test and train dataframes\n",
        "train1 = train.fillna(0, axis = 1)\n",
        "test1 = test.fillna(0, axis = 1)"
      ],
      "execution_count": null,
      "outputs": []
    },
    {
      "cell_type": "code",
      "metadata": {
        "id": "nGrxpYVujkU3",
        "outputId": "99e7d55c-00f5-4da5-9403-6430b76575ef",
        "colab": {
          "base_uri": "https://localhost:8080/"
        }
      },
      "source": [
        "# checking that the null values have been populated\n",
        "train1.info()"
      ],
      "execution_count": null,
      "outputs": [
        {
          "output_type": "stream",
          "text": [
            "<class 'pandas.core.frame.DataFrame'>\n",
            "RangeIndex: 21201 entries, 0 to 21200\n",
            "Data columns (total 29 columns):\n",
            " #   Column                                     Non-Null Count  Dtype  \n",
            "---  ------                                     --------------  -----  \n",
            " 0   Order No                                   21201 non-null  object \n",
            " 1   User Id                                    21201 non-null  object \n",
            " 2   Vehicle Type                               21201 non-null  object \n",
            " 3   Platform Type                              21201 non-null  int64  \n",
            " 4   Personal or Business                       21201 non-null  object \n",
            " 5   Placement - Day of Month                   21201 non-null  int64  \n",
            " 6   Placement - Weekday (Mo = 1)               21201 non-null  int64  \n",
            " 7   Placement - Time                           21201 non-null  object \n",
            " 8   Confirmation - Day of Month                21201 non-null  int64  \n",
            " 9   Confirmation - Weekday (Mo = 1)            21201 non-null  int64  \n",
            " 10  Confirmation - Time                        21201 non-null  object \n",
            " 11  Arrival at Pickup - Day of Month           21201 non-null  int64  \n",
            " 12  Arrival at Pickup - Weekday (Mo = 1)       21201 non-null  int64  \n",
            " 13  Arrival at Pickup - Time                   21201 non-null  object \n",
            " 14  Pickup - Day of Month                      21201 non-null  int64  \n",
            " 15  Pickup - Weekday (Mo = 1)                  21201 non-null  int64  \n",
            " 16  Pickup - Time                              21201 non-null  object \n",
            " 17  Arrival at Destination - Day of Month      21201 non-null  int64  \n",
            " 18  Arrival at Destination - Weekday (Mo = 1)  21201 non-null  int64  \n",
            " 19  Arrival at Destination - Time              21201 non-null  object \n",
            " 20  Distance (KM)                              21201 non-null  int64  \n",
            " 21  Temperature                                21201 non-null  float64\n",
            " 22  Precipitation in millimeters               21201 non-null  float64\n",
            " 23  Pickup Lat                                 21201 non-null  float64\n",
            " 24  Pickup Long                                21201 non-null  float64\n",
            " 25  Destination Lat                            21201 non-null  float64\n",
            " 26  Destination Long                           21201 non-null  float64\n",
            " 27  Rider Id                                   21201 non-null  object \n",
            " 28  Time from Pickup to Arrival                21201 non-null  int64  \n",
            "dtypes: float64(6), int64(13), object(10)\n",
            "memory usage: 4.7+ MB\n"
          ],
          "name": "stdout"
        }
      ]
    },
    {
      "cell_type": "code",
      "metadata": {
        "id": "0LyGyNc_jkmK",
        "outputId": "25c33465-5ba6-4786-addd-700409432804",
        "colab": {
          "base_uri": "https://localhost:8080/"
        }
      },
      "source": [
        "# checking that the null values have been populated\n",
        "test1.info()"
      ],
      "execution_count": null,
      "outputs": [
        {
          "output_type": "stream",
          "text": [
            "<class 'pandas.core.frame.DataFrame'>\n",
            "RangeIndex: 7068 entries, 0 to 7067\n",
            "Data columns (total 25 columns):\n",
            " #   Column                                Non-Null Count  Dtype  \n",
            "---  ------                                --------------  -----  \n",
            " 0   Order No                              7068 non-null   object \n",
            " 1   User Id                               7068 non-null   object \n",
            " 2   Vehicle Type                          7068 non-null   object \n",
            " 3   Platform Type                         7068 non-null   int64  \n",
            " 4   Personal or Business                  7068 non-null   object \n",
            " 5   Placement - Day of Month              7068 non-null   int64  \n",
            " 6   Placement - Weekday (Mo = 1)          7068 non-null   int64  \n",
            " 7   Placement - Time                      7068 non-null   object \n",
            " 8   Confirmation - Day of Month           7068 non-null   int64  \n",
            " 9   Confirmation - Weekday (Mo = 1)       7068 non-null   int64  \n",
            " 10  Confirmation - Time                   7068 non-null   object \n",
            " 11  Arrival at Pickup - Day of Month      7068 non-null   int64  \n",
            " 12  Arrival at Pickup - Weekday (Mo = 1)  7068 non-null   int64  \n",
            " 13  Arrival at Pickup - Time              7068 non-null   object \n",
            " 14  Pickup - Day of Month                 7068 non-null   int64  \n",
            " 15  Pickup - Weekday (Mo = 1)             7068 non-null   int64  \n",
            " 16  Pickup - Time                         7068 non-null   object \n",
            " 17  Distance (KM)                         7068 non-null   int64  \n",
            " 18  Temperature                           7068 non-null   float64\n",
            " 19  Precipitation in millimeters          7068 non-null   float64\n",
            " 20  Pickup Lat                            7068 non-null   float64\n",
            " 21  Pickup Long                           7068 non-null   float64\n",
            " 22  Destination Lat                       7068 non-null   float64\n",
            " 23  Destination Long                      7068 non-null   float64\n",
            " 24  Rider Id                              7068 non-null   object \n",
            "dtypes: float64(6), int64(10), object(9)\n",
            "memory usage: 1.3+ MB\n"
          ],
          "name": "stdout"
        }
      ]
    },
    {
      "cell_type": "markdown",
      "metadata": {
        "id": "p-bqcIkymnfr"
      },
      "source": [
        "### Match the number of train columns to the number of test columns"
      ]
    },
    {
      "cell_type": "code",
      "metadata": {
        "id": "PH-VOqrGmw8N"
      },
      "source": [
        "# save the columns from the test dataframe into a new list called testcols\n",
        "testcols = test1.columns\n",
        "\n",
        "# reassign the number of the train dataframe to match that of the test by saving them to an updated dataframe, newtrain\n",
        "newtrain = train1[testcols]\n",
        "\n",
        "# Seperate the target variable while at it\n",
        "y = np.array(train1['Time from Pickup to Arrival']).reshape(-1, 1)"
      ],
      "execution_count": null,
      "outputs": []
    },
    {
      "cell_type": "markdown",
      "metadata": {
        "id": "GhRD75OsnSAK"
      },
      "source": [
        ""
      ]
    },
    {
      "cell_type": "code",
      "metadata": {
        "id": "h4_1f_-BnZ5e",
        "outputId": "c48a8081-4857-49d4-ea9f-8457ebe044b0",
        "colab": {
          "base_uri": "https://localhost:8080/"
        }
      },
      "source": [
        "# print the new columns of the train and test data to show that they are the same\n",
        "print(newtrain.columns)\n",
        "print(test1.columns)"
      ],
      "execution_count": null,
      "outputs": [
        {
          "output_type": "stream",
          "text": [
            "Index(['Order No', 'User Id', 'Vehicle Type', 'Platform Type',\n",
            "       'Personal or Business', 'Placement - Day of Month',\n",
            "       'Placement - Weekday (Mo = 1)', 'Placement - Time',\n",
            "       'Confirmation - Day of Month', 'Confirmation - Weekday (Mo = 1)',\n",
            "       'Confirmation - Time', 'Arrival at Pickup - Day of Month',\n",
            "       'Arrival at Pickup - Weekday (Mo = 1)', 'Arrival at Pickup - Time',\n",
            "       'Pickup - Day of Month', 'Pickup - Weekday (Mo = 1)', 'Pickup - Time',\n",
            "       'Distance (KM)', 'Temperature', 'Precipitation in millimeters',\n",
            "       'Pickup Lat', 'Pickup Long', 'Destination Lat', 'Destination Long',\n",
            "       'Rider Id'],\n",
            "      dtype='object')\n",
            "Index(['Order No', 'User Id', 'Vehicle Type', 'Platform Type',\n",
            "       'Personal or Business', 'Placement - Day of Month',\n",
            "       'Placement - Weekday (Mo = 1)', 'Placement - Time',\n",
            "       'Confirmation - Day of Month', 'Confirmation - Weekday (Mo = 1)',\n",
            "       'Confirmation - Time', 'Arrival at Pickup - Day of Month',\n",
            "       'Arrival at Pickup - Weekday (Mo = 1)', 'Arrival at Pickup - Time',\n",
            "       'Pickup - Day of Month', 'Pickup - Weekday (Mo = 1)', 'Pickup - Time',\n",
            "       'Distance (KM)', 'Temperature', 'Precipitation in millimeters',\n",
            "       'Pickup Lat', 'Pickup Long', 'Destination Lat', 'Destination Long',\n",
            "       'Rider Id'],\n",
            "      dtype='object')\n"
          ],
          "name": "stdout"
        }
      ]
    },
    {
      "cell_type": "markdown",
      "metadata": {
        "id": "lpZbfzfHnrFy"
      },
      "source": [
        "### Combining the dataset for the base model\n",
        "\n",
        "#### Proceed with caution: Only do this and only this for the base model, doing this for the actual model will return errors and it's not allowed. This is only done for base model submission purposes"
      ]
    },
    {
      "cell_type": "code",
      "metadata": {
        "id": "fqEDMYUUoAbD",
        "outputId": "947a96c1-c184-4555-9549-1f7310334a2b",
        "colab": {
          "base_uri": "https://localhost:8080/",
          "height": 411
        }
      },
      "source": [
        "# creating a new dataframe from the concatenated newtrain and test1 dataframes\n",
        "df = pd.concat([newtrain, test1])\n",
        "\n",
        "# view the first five rows\n",
        "df.head()"
      ],
      "execution_count": null,
      "outputs": [
        {
          "output_type": "execute_result",
          "data": {
            "text/html": [
              "<div>\n",
              "<style scoped>\n",
              "    .dataframe tbody tr th:only-of-type {\n",
              "        vertical-align: middle;\n",
              "    }\n",
              "\n",
              "    .dataframe tbody tr th {\n",
              "        vertical-align: top;\n",
              "    }\n",
              "\n",
              "    .dataframe thead th {\n",
              "        text-align: right;\n",
              "    }\n",
              "</style>\n",
              "<table border=\"1\" class=\"dataframe\">\n",
              "  <thead>\n",
              "    <tr style=\"text-align: right;\">\n",
              "      <th></th>\n",
              "      <th>Order No</th>\n",
              "      <th>User Id</th>\n",
              "      <th>Vehicle Type</th>\n",
              "      <th>Platform Type</th>\n",
              "      <th>Personal or Business</th>\n",
              "      <th>Placement - Day of Month</th>\n",
              "      <th>Placement - Weekday (Mo = 1)</th>\n",
              "      <th>Placement - Time</th>\n",
              "      <th>Confirmation - Day of Month</th>\n",
              "      <th>Confirmation - Weekday (Mo = 1)</th>\n",
              "      <th>Confirmation - Time</th>\n",
              "      <th>Arrival at Pickup - Day of Month</th>\n",
              "      <th>Arrival at Pickup - Weekday (Mo = 1)</th>\n",
              "      <th>Arrival at Pickup - Time</th>\n",
              "      <th>Pickup - Day of Month</th>\n",
              "      <th>Pickup - Weekday (Mo = 1)</th>\n",
              "      <th>Pickup - Time</th>\n",
              "      <th>Distance (KM)</th>\n",
              "      <th>Temperature</th>\n",
              "      <th>Precipitation in millimeters</th>\n",
              "      <th>Pickup Lat</th>\n",
              "      <th>Pickup Long</th>\n",
              "      <th>Destination Lat</th>\n",
              "      <th>Destination Long</th>\n",
              "      <th>Rider Id</th>\n",
              "    </tr>\n",
              "  </thead>\n",
              "  <tbody>\n",
              "    <tr>\n",
              "      <th>0</th>\n",
              "      <td>Order_No_4211</td>\n",
              "      <td>User_Id_633</td>\n",
              "      <td>Bike</td>\n",
              "      <td>3</td>\n",
              "      <td>Business</td>\n",
              "      <td>9</td>\n",
              "      <td>5</td>\n",
              "      <td>9:35:46 AM</td>\n",
              "      <td>9</td>\n",
              "      <td>5</td>\n",
              "      <td>9:40:10 AM</td>\n",
              "      <td>9</td>\n",
              "      <td>5</td>\n",
              "      <td>10:04:47 AM</td>\n",
              "      <td>9</td>\n",
              "      <td>5</td>\n",
              "      <td>10:27:30 AM</td>\n",
              "      <td>4</td>\n",
              "      <td>20.4</td>\n",
              "      <td>0.0</td>\n",
              "      <td>-1.317755</td>\n",
              "      <td>36.830370</td>\n",
              "      <td>-1.300406</td>\n",
              "      <td>36.829741</td>\n",
              "      <td>Rider_Id_432</td>\n",
              "    </tr>\n",
              "    <tr>\n",
              "      <th>1</th>\n",
              "      <td>Order_No_25375</td>\n",
              "      <td>User_Id_2285</td>\n",
              "      <td>Bike</td>\n",
              "      <td>3</td>\n",
              "      <td>Personal</td>\n",
              "      <td>12</td>\n",
              "      <td>5</td>\n",
              "      <td>11:16:16 AM</td>\n",
              "      <td>12</td>\n",
              "      <td>5</td>\n",
              "      <td>11:23:21 AM</td>\n",
              "      <td>12</td>\n",
              "      <td>5</td>\n",
              "      <td>11:40:22 AM</td>\n",
              "      <td>12</td>\n",
              "      <td>5</td>\n",
              "      <td>11:44:09 AM</td>\n",
              "      <td>16</td>\n",
              "      <td>26.4</td>\n",
              "      <td>0.0</td>\n",
              "      <td>-1.351453</td>\n",
              "      <td>36.899315</td>\n",
              "      <td>-1.295004</td>\n",
              "      <td>36.814358</td>\n",
              "      <td>Rider_Id_856</td>\n",
              "    </tr>\n",
              "    <tr>\n",
              "      <th>2</th>\n",
              "      <td>Order_No_1899</td>\n",
              "      <td>User_Id_265</td>\n",
              "      <td>Bike</td>\n",
              "      <td>3</td>\n",
              "      <td>Business</td>\n",
              "      <td>30</td>\n",
              "      <td>2</td>\n",
              "      <td>12:39:25 PM</td>\n",
              "      <td>30</td>\n",
              "      <td>2</td>\n",
              "      <td>12:42:44 PM</td>\n",
              "      <td>30</td>\n",
              "      <td>2</td>\n",
              "      <td>12:49:34 PM</td>\n",
              "      <td>30</td>\n",
              "      <td>2</td>\n",
              "      <td>12:53:03 PM</td>\n",
              "      <td>3</td>\n",
              "      <td>0.0</td>\n",
              "      <td>0.0</td>\n",
              "      <td>-1.308284</td>\n",
              "      <td>36.843419</td>\n",
              "      <td>-1.300921</td>\n",
              "      <td>36.828195</td>\n",
              "      <td>Rider_Id_155</td>\n",
              "    </tr>\n",
              "    <tr>\n",
              "      <th>3</th>\n",
              "      <td>Order_No_9336</td>\n",
              "      <td>User_Id_1402</td>\n",
              "      <td>Bike</td>\n",
              "      <td>3</td>\n",
              "      <td>Business</td>\n",
              "      <td>15</td>\n",
              "      <td>5</td>\n",
              "      <td>9:25:34 AM</td>\n",
              "      <td>15</td>\n",
              "      <td>5</td>\n",
              "      <td>9:26:05 AM</td>\n",
              "      <td>15</td>\n",
              "      <td>5</td>\n",
              "      <td>9:37:56 AM</td>\n",
              "      <td>15</td>\n",
              "      <td>5</td>\n",
              "      <td>9:43:06 AM</td>\n",
              "      <td>9</td>\n",
              "      <td>19.2</td>\n",
              "      <td>0.0</td>\n",
              "      <td>-1.281301</td>\n",
              "      <td>36.832396</td>\n",
              "      <td>-1.257147</td>\n",
              "      <td>36.795063</td>\n",
              "      <td>Rider_Id_855</td>\n",
              "    </tr>\n",
              "    <tr>\n",
              "      <th>4</th>\n",
              "      <td>Order_No_27883</td>\n",
              "      <td>User_Id_1737</td>\n",
              "      <td>Bike</td>\n",
              "      <td>1</td>\n",
              "      <td>Personal</td>\n",
              "      <td>13</td>\n",
              "      <td>1</td>\n",
              "      <td>9:55:18 AM</td>\n",
              "      <td>13</td>\n",
              "      <td>1</td>\n",
              "      <td>9:56:18 AM</td>\n",
              "      <td>13</td>\n",
              "      <td>1</td>\n",
              "      <td>10:03:53 AM</td>\n",
              "      <td>13</td>\n",
              "      <td>1</td>\n",
              "      <td>10:05:23 AM</td>\n",
              "      <td>9</td>\n",
              "      <td>15.4</td>\n",
              "      <td>0.0</td>\n",
              "      <td>-1.266597</td>\n",
              "      <td>36.792118</td>\n",
              "      <td>-1.295041</td>\n",
              "      <td>36.809817</td>\n",
              "      <td>Rider_Id_770</td>\n",
              "    </tr>\n",
              "  </tbody>\n",
              "</table>\n",
              "</div>"
            ],
            "text/plain": [
              "         Order No       User Id  ... Destination Long      Rider Id\n",
              "0   Order_No_4211   User_Id_633  ...        36.829741  Rider_Id_432\n",
              "1  Order_No_25375  User_Id_2285  ...        36.814358  Rider_Id_856\n",
              "2   Order_No_1899   User_Id_265  ...        36.828195  Rider_Id_155\n",
              "3   Order_No_9336  User_Id_1402  ...        36.795063  Rider_Id_855\n",
              "4  Order_No_27883  User_Id_1737  ...        36.809817  Rider_Id_770\n",
              "\n",
              "[5 rows x 25 columns]"
            ]
          },
          "metadata": {
            "tags": []
          },
          "execution_count": 15
        }
      ]
    },
    {
      "cell_type": "code",
      "metadata": {
        "id": "H00GbTXEoVrZ",
        "outputId": "6cde2784-079c-4b5b-efd8-130c35bfcaf1",
        "colab": {
          "base_uri": "https://localhost:8080/"
        }
      },
      "source": [
        "# viewing the datatypes of the concatenated dataframe, for the sake of the base model, we want to do away with as many object type columns as possible\n",
        "df.dtypes"
      ],
      "execution_count": null,
      "outputs": [
        {
          "output_type": "execute_result",
          "data": {
            "text/plain": [
              "Order No                                 object\n",
              "User Id                                  object\n",
              "Vehicle Type                             object\n",
              "Platform Type                             int64\n",
              "Personal or Business                     object\n",
              "Placement - Day of Month                  int64\n",
              "Placement - Weekday (Mo = 1)              int64\n",
              "Placement - Time                         object\n",
              "Confirmation - Day of Month               int64\n",
              "Confirmation - Weekday (Mo = 1)           int64\n",
              "Confirmation - Time                      object\n",
              "Arrival at Pickup - Day of Month          int64\n",
              "Arrival at Pickup - Weekday (Mo = 1)      int64\n",
              "Arrival at Pickup - Time                 object\n",
              "Pickup - Day of Month                     int64\n",
              "Pickup - Weekday (Mo = 1)                 int64\n",
              "Pickup - Time                            object\n",
              "Distance (KM)                             int64\n",
              "Temperature                             float64\n",
              "Precipitation in millimeters            float64\n",
              "Pickup Lat                              float64\n",
              "Pickup Long                             float64\n",
              "Destination Lat                         float64\n",
              "Destination Long                        float64\n",
              "Rider Id                                 object\n",
              "dtype: object"
            ]
          },
          "metadata": {
            "tags": []
          },
          "execution_count": 16
        }
      ]
    },
    {
      "cell_type": "markdown",
      "metadata": {
        "id": "AZA9_5xIomwb"
      },
      "source": [
        "Using a correlation heatmap to check for multicollinearity between predictor variables"
      ]
    },
    {
      "cell_type": "code",
      "metadata": {
        "id": "YyIhjbAmopVU",
        "outputId": "0068320a-99cf-418e-b8a3-389110b33ea2",
        "colab": {
          "base_uri": "https://localhost:8080/",
          "height": 460
        }
      },
      "source": [
        "corr = df.corr()\n",
        "sns.heatmap(corr)"
      ],
      "execution_count": null,
      "outputs": [
        {
          "output_type": "execute_result",
          "data": {
            "text/plain": [
              "<matplotlib.axes._subplots.AxesSubplot at 0x7fe1d8ca29b0>"
            ]
          },
          "metadata": {
            "tags": []
          },
          "execution_count": 17
        },
        {
          "output_type": "display_data",
          "data": {
            "image/png": "[encoded data removed]",
            "text/plain": [
              "<Figure size 432x288 with 2 Axes>"
            ]
          },
          "metadata": {
            "tags": [],
            "needs_background": "light"
          }
        }
      ]
    },
    {
      "cell_type": "markdown",
      "metadata": {
        "id": "OOn68P3wow6Z"
      },
      "source": [
        "Dropping co-linear variables as well as time variables in order to reduce memory usage"
      ]
    },
    {
      "cell_type": "markdown",
      "metadata": {
        "id": "I8iDNgZopBPX"
      },
      "source": [
        "### Team below is the error I am talking about, the Plan B I am having is to create a new df similar to the one that came from dropping the columns and see if I won't be able to progress to modelling.\n",
        "\n",
        "### If anyone spots what keeps causing the error, please advise"
      ]
    },
    {
      "cell_type": "code",
      "metadata": {
        "id": "11QYR_40ozF2"
      },
      "source": [
        "df = df.drop(['Placement - Weekday (Mo = 1)', 'Confirmation - Day of Month', 'Confirmation - Weekday (Mo = 1)', 'Arrival at Pickup - Day of Month', 'Arrival at Pickup - Weekday (Mo = 1)', 'Pickup - Day of Month','Pickup - Weekday (Mo = 1)', 'Placement - Time', 'Confirmation - Time', 'Arrival at Pickup - Time', 'Pickup - Time'], axis = 1)"
      ],
      "execution_count": null,
      "outputs": []
    },
    {
      "cell_type": "code",
      "metadata": {
        "id": "GgEpClBbH8vQ"
      },
      "source": [
        "df_final = df.drop(['Order No', 'User Id', 'Vehicle Type', 'Rider Id'], axis=1)"
      ],
      "execution_count": null,
      "outputs": []
    },
    {
      "cell_type": "code",
      "metadata": {
        "id": "S0s-PYf9GQ2m",
        "outputId": "72bfabaf-ac2d-4c6e-e772-efa8e4c469cc",
        "colab": {
          "base_uri": "https://localhost:8080/"
        }
      },
      "source": [
        "from google.colab import drive\n",
        "drive.mount('/content/drive')"
      ],
      "execution_count": null,
      "outputs": [
        {
          "output_type": "stream",
          "text": [
            "Mounted at /content/drive\n"
          ],
          "name": "stdout"
        }
      ]
    },
    {
      "cell_type": "code",
      "metadata": {
        "id": "9teXExYbJEBz",
        "outputId": "423d7f9f-1855-45c4-e86a-2a22a3e95dab",
        "colab": {
          "base_uri": "https://localhost:8080/",
          "height": 238
        }
      },
      "source": [
        "df_final.head()"
      ],
      "execution_count": null,
      "outputs": [
        {
          "output_type": "execute_result",
          "data": {
            "text/html": [
              "<div>\n",
              "<style scoped>\n",
              "    .dataframe tbody tr th:only-of-type {\n",
              "        vertical-align: middle;\n",
              "    }\n",
              "\n",
              "    .dataframe tbody tr th {\n",
              "        vertical-align: top;\n",
              "    }\n",
              "\n",
              "    .dataframe thead th {\n",
              "        text-align: right;\n",
              "    }\n",
              "</style>\n",
              "<table border=\"1\" class=\"dataframe\">\n",
              "  <thead>\n",
              "    <tr style=\"text-align: right;\">\n",
              "      <th></th>\n",
              "      <th>Platform Type</th>\n",
              "      <th>Personal or Business</th>\n",
              "      <th>Placement - Day of Month</th>\n",
              "      <th>Distance (KM)</th>\n",
              "      <th>Temperature</th>\n",
              "      <th>Precipitation in millimeters</th>\n",
              "      <th>Pickup Lat</th>\n",
              "      <th>Pickup Long</th>\n",
              "      <th>Destination Lat</th>\n",
              "      <th>Destination Long</th>\n",
              "    </tr>\n",
              "  </thead>\n",
              "  <tbody>\n",
              "    <tr>\n",
              "      <th>0</th>\n",
              "      <td>3</td>\n",
              "      <td>Business</td>\n",
              "      <td>9</td>\n",
              "      <td>4</td>\n",
              "      <td>20.4</td>\n",
              "      <td>0.0</td>\n",
              "      <td>-1.317755</td>\n",
              "      <td>36.830370</td>\n",
              "      <td>-1.300406</td>\n",
              "      <td>36.829741</td>\n",
              "    </tr>\n",
              "    <tr>\n",
              "      <th>1</th>\n",
              "      <td>3</td>\n",
              "      <td>Personal</td>\n",
              "      <td>12</td>\n",
              "      <td>16</td>\n",
              "      <td>26.4</td>\n",
              "      <td>0.0</td>\n",
              "      <td>-1.351453</td>\n",
              "      <td>36.899315</td>\n",
              "      <td>-1.295004</td>\n",
              "      <td>36.814358</td>\n",
              "    </tr>\n",
              "    <tr>\n",
              "      <th>2</th>\n",
              "      <td>3</td>\n",
              "      <td>Business</td>\n",
              "      <td>30</td>\n",
              "      <td>3</td>\n",
              "      <td>0.0</td>\n",
              "      <td>0.0</td>\n",
              "      <td>-1.308284</td>\n",
              "      <td>36.843419</td>\n",
              "      <td>-1.300921</td>\n",
              "      <td>36.828195</td>\n",
              "    </tr>\n",
              "    <tr>\n",
              "      <th>3</th>\n",
              "      <td>3</td>\n",
              "      <td>Business</td>\n",
              "      <td>15</td>\n",
              "      <td>9</td>\n",
              "      <td>19.2</td>\n",
              "      <td>0.0</td>\n",
              "      <td>-1.281301</td>\n",
              "      <td>36.832396</td>\n",
              "      <td>-1.257147</td>\n",
              "      <td>36.795063</td>\n",
              "    </tr>\n",
              "    <tr>\n",
              "      <th>4</th>\n",
              "      <td>1</td>\n",
              "      <td>Personal</td>\n",
              "      <td>13</td>\n",
              "      <td>9</td>\n",
              "      <td>15.4</td>\n",
              "      <td>0.0</td>\n",
              "      <td>-1.266597</td>\n",
              "      <td>36.792118</td>\n",
              "      <td>-1.295041</td>\n",
              "      <td>36.809817</td>\n",
              "    </tr>\n",
              "  </tbody>\n",
              "</table>\n",
              "</div>"
            ],
            "text/plain": [
              "   Platform Type Personal or Business  ...  Destination Lat  Destination Long\n",
              "0              3             Business  ...        -1.300406         36.829741\n",
              "1              3             Personal  ...        -1.295004         36.814358\n",
              "2              3             Business  ...        -1.300921         36.828195\n",
              "3              3             Business  ...        -1.257147         36.795063\n",
              "4              1             Personal  ...        -1.295041         36.809817\n",
              "\n",
              "[5 rows x 10 columns]"
            ]
          },
          "metadata": {
            "tags": []
          },
          "execution_count": 23
        }
      ]
    },
    {
      "cell_type": "code",
      "metadata": {
        "id": "CDj9j_lxJQKv",
        "outputId": "946722cf-cac6-4bfd-85df-f95d367d8aec",
        "colab": {
          "base_uri": "https://localhost:8080/"
        }
      },
      "source": [
        "df_final.info()"
      ],
      "execution_count": null,
      "outputs": [
        {
          "output_type": "stream",
          "text": [
            "<class 'pandas.core.frame.DataFrame'>\n",
            "Int64Index: 28269 entries, 0 to 7067\n",
            "Data columns (total 10 columns):\n",
            " #   Column                        Non-Null Count  Dtype  \n",
            "---  ------                        --------------  -----  \n",
            " 0   Platform Type                 28269 non-null  int64  \n",
            " 1   Personal or Business          28269 non-null  object \n",
            " 2   Placement - Day of Month      28269 non-null  int64  \n",
            " 3   Distance (KM)                 28269 non-null  int64  \n",
            " 4   Temperature                   28269 non-null  float64\n",
            " 5   Precipitation in millimeters  28269 non-null  float64\n",
            " 6   Pickup Lat                    28269 non-null  float64\n",
            " 7   Pickup Long                   28269 non-null  float64\n",
            " 8   Destination Lat               28269 non-null  float64\n",
            " 9   Destination Long              28269 non-null  float64\n",
            "dtypes: float64(6), int64(3), object(1)\n",
            "memory usage: 2.4+ MB\n"
          ],
          "name": "stdout"
        }
      ]
    },
    {
      "cell_type": "code",
      "metadata": {
        "id": "D3RXDBrvJZym",
        "outputId": "17647a4d-8585-44a8-ef97-1a1e16671c68",
        "colab": {
          "base_uri": "https://localhost:8080/",
          "height": 258
        }
      },
      "source": [
        "df_final = pd.get_dummies(df_final, drop_first=True)\n",
        "df_final.head()"
      ],
      "execution_count": null,
      "outputs": [
        {
          "output_type": "execute_result",
          "data": {
            "text/html": [
              "<div>\n",
              "<style scoped>\n",
              "    .dataframe tbody tr th:only-of-type {\n",
              "        vertical-align: middle;\n",
              "    }\n",
              "\n",
              "    .dataframe tbody tr th {\n",
              "        vertical-align: top;\n",
              "    }\n",
              "\n",
              "    .dataframe thead th {\n",
              "        text-align: right;\n",
              "    }\n",
              "</style>\n",
              "<table border=\"1\" class=\"dataframe\">\n",
              "  <thead>\n",
              "    <tr style=\"text-align: right;\">\n",
              "      <th></th>\n",
              "      <th>Platform Type</th>\n",
              "      <th>Placement - Day of Month</th>\n",
              "      <th>Distance (KM)</th>\n",
              "      <th>Temperature</th>\n",
              "      <th>Precipitation in millimeters</th>\n",
              "      <th>Pickup Lat</th>\n",
              "      <th>Pickup Long</th>\n",
              "      <th>Destination Lat</th>\n",
              "      <th>Destination Long</th>\n",
              "      <th>Personal or Business_Business</th>\n",
              "      <th>Personal or Business_Personal</th>\n",
              "    </tr>\n",
              "  </thead>\n",
              "  <tbody>\n",
              "    <tr>\n",
              "      <th>0</th>\n",
              "      <td>3</td>\n",
              "      <td>9</td>\n",
              "      <td>4</td>\n",
              "      <td>20.4</td>\n",
              "      <td>0.0</td>\n",
              "      <td>-1.317755</td>\n",
              "      <td>36.830370</td>\n",
              "      <td>-1.300406</td>\n",
              "      <td>36.829741</td>\n",
              "      <td>1</td>\n",
              "      <td>0</td>\n",
              "    </tr>\n",
              "    <tr>\n",
              "      <th>1</th>\n",
              "      <td>3</td>\n",
              "      <td>12</td>\n",
              "      <td>16</td>\n",
              "      <td>26.4</td>\n",
              "      <td>0.0</td>\n",
              "      <td>-1.351453</td>\n",
              "      <td>36.899315</td>\n",
              "      <td>-1.295004</td>\n",
              "      <td>36.814358</td>\n",
              "      <td>0</td>\n",
              "      <td>1</td>\n",
              "    </tr>\n",
              "    <tr>\n",
              "      <th>2</th>\n",
              "      <td>3</td>\n",
              "      <td>30</td>\n",
              "      <td>3</td>\n",
              "      <td>0.0</td>\n",
              "      <td>0.0</td>\n",
              "      <td>-1.308284</td>\n",
              "      <td>36.843419</td>\n",
              "      <td>-1.300921</td>\n",
              "      <td>36.828195</td>\n",
              "      <td>1</td>\n",
              "      <td>0</td>\n",
              "    </tr>\n",
              "    <tr>\n",
              "      <th>3</th>\n",
              "      <td>3</td>\n",
              "      <td>15</td>\n",
              "      <td>9</td>\n",
              "      <td>19.2</td>\n",
              "      <td>0.0</td>\n",
              "      <td>-1.281301</td>\n",
              "      <td>36.832396</td>\n",
              "      <td>-1.257147</td>\n",
              "      <td>36.795063</td>\n",
              "      <td>1</td>\n",
              "      <td>0</td>\n",
              "    </tr>\n",
              "    <tr>\n",
              "      <th>4</th>\n",
              "      <td>1</td>\n",
              "      <td>13</td>\n",
              "      <td>9</td>\n",
              "      <td>15.4</td>\n",
              "      <td>0.0</td>\n",
              "      <td>-1.266597</td>\n",
              "      <td>36.792118</td>\n",
              "      <td>-1.295041</td>\n",
              "      <td>36.809817</td>\n",
              "      <td>0</td>\n",
              "      <td>1</td>\n",
              "    </tr>\n",
              "  </tbody>\n",
              "</table>\n",
              "</div>"
            ],
            "text/plain": [
              "   Platform Type  ...  Personal or Business_Personal\n",
              "0              3  ...                              0\n",
              "1              3  ...                              1\n",
              "2              3  ...                              0\n",
              "3              3  ...                              0\n",
              "4              1  ...                              1\n",
              "\n",
              "[5 rows x 11 columns]"
            ]
          },
          "metadata": {
            "tags": []
          },
          "execution_count": 26
        }
      ]
    },
    {
      "cell_type": "code",
      "metadata": {
        "id": "cBshEqtwJbMM"
      },
      "source": [
        "#y = np.array(train1['Time from Pickup to Arrival']).reshape(-1, 1)\n",
        "finaltrain = df_final[:len(train)]\n",
        "finaltest = df_final[len(train):]"
      ],
      "execution_count": null,
      "outputs": []
    },
    {
      "cell_type": "code",
      "metadata": {
        "id": "3HuO-M1MJrJX"
      },
      "source": [
        "from sklearn.model_selection import train_test_split\n",
        "x_train, x_val, y_train, y_val = train_test_split(finaltrain, y, test_size=0.3)"
      ],
      "execution_count": null,
      "outputs": []
    },
    {
      "cell_type": "code",
      "metadata": {
        "id": "VAFRGIpsKy3N",
        "outputId": "615300fe-16cd-46da-c7ca-9ea83c379351",
        "colab": {
          "base_uri": "https://localhost:8080/"
        }
      },
      "source": [
        "from sklearn.linear_model import LinearRegression\n",
        "lr = LinearRegression()\n",
        "lr.fit(x_train, y_train)"
      ],
      "execution_count": null,
      "outputs": [
        {
          "output_type": "execute_result",
          "data": {
            "text/plain": [
              "LinearRegression(copy_X=True, fit_intercept=True, n_jobs=None, normalize=False)"
            ]
          },
          "metadata": {
            "tags": []
          },
          "execution_count": 31
        }
      ]
    },
    {
      "cell_type": "code",
      "metadata": {
        "id": "6_slUwxdKzp8"
      },
      "source": [
        "val_preds = lr.predict(x_val)"
      ],
      "execution_count": null,
      "outputs": []
    },
    {
      "cell_type": "code",
      "metadata": {
        "id": "TtBhydw4Kz5g"
      },
      "source": [
        "from sklearn.metrics import mean_squared_error\n",
        "def rmse(y_test, y_predict):\n",
        "  return np.sqrt(mean_squared_error(y_test, y_predict))"
      ],
      "execution_count": null,
      "outputs": []
    },
    {
      "cell_type": "code",
      "metadata": {
        "id": "152-nZYJL9Il",
        "outputId": "dc25e6c4-32db-43fa-842e-832baa6e654e",
        "colab": {
          "base_uri": "https://localhost:8080/"
        }
      },
      "source": [
        "rmse(y_val, val_preds)"
      ],
      "execution_count": null,
      "outputs": [
        {
          "output_type": "execute_result",
          "data": {
            "text/plain": [
              "797.0468983875842"
            ]
          },
          "metadata": {
            "tags": []
          },
          "execution_count": 36
        }
      ]
    },
    {
      "cell_type": "code",
      "metadata": {
        "id": "FvJskkBtL9WP"
      },
      "source": [
        "y_pred = lr.predict(finaltest)"
      ],
      "execution_count": null,
      "outputs": []
    },
    {
      "cell_type": "code",
      "metadata": {
        "id": "hZ_CF7ukL9iP",
        "outputId": "84172ee3-3ee1-4772-e3bc-d9d286921819",
        "colab": {
          "base_uri": "https://localhost:8080/"
        }
      },
      "source": [
        "submission_df = test1[['Order No']]\n",
        "submission_df['Time from Pickup to Arrival'] = y_pred"
      ],
      "execution_count": null,
      "outputs": [
        {
          "output_type": "stream",
          "text": [
            "/usr/local/lib/python3.6/dist-packages/ipykernel_launcher.py:2: SettingWithCopyWarning: \n",
            "A value is trying to be set on a copy of a slice from a DataFrame.\n",
            "Try using .loc[row_indexer,col_indexer] = value instead\n",
            "\n",
            "See the caveats in the documentation: https://pandas.pydata.org/pandas-docs/stable/user_guide/indexing.html#returning-a-view-versus-a-copy\n",
            "  \n"
          ],
          "name": "stderr"
        }
      ]
    },
    {
      "cell_type": "code",
      "metadata": {
        "id": "wNL5aolXNo_i",
        "outputId": "7c7ee066-b292-495f-d630-201c29c243ee",
        "colab": {
          "base_uri": "https://localhost:8080/",
          "height": 419
        }
      },
      "source": [
        "submission_df"
      ],
      "execution_count": null,
      "outputs": [
        {
          "output_type": "execute_result",
          "data": {
            "text/html": [
              "<div>\n",
              "<style scoped>\n",
              "    .dataframe tbody tr th:only-of-type {\n",
              "        vertical-align: middle;\n",
              "    }\n",
              "\n",
              "    .dataframe tbody tr th {\n",
              "        vertical-align: top;\n",
              "    }\n",
              "\n",
              "    .dataframe thead th {\n",
              "        text-align: right;\n",
              "    }\n",
              "</style>\n",
              "<table border=\"1\" class=\"dataframe\">\n",
              "  <thead>\n",
              "    <tr style=\"text-align: right;\">\n",
              "      <th></th>\n",
              "      <th>Order No</th>\n",
              "      <th>Time from Pickup to Arrival</th>\n",
              "    </tr>\n",
              "  </thead>\n",
              "  <tbody>\n",
              "    <tr>\n",
              "      <th>0</th>\n",
              "      <td>Order_No_19248</td>\n",
              "      <td>1290.862912</td>\n",
              "    </tr>\n",
              "    <tr>\n",
              "      <th>1</th>\n",
              "      <td>Order_No_12736</td>\n",
              "      <td>1081.300485</td>\n",
              "    </tr>\n",
              "    <tr>\n",
              "      <th>2</th>\n",
              "      <td>Order_No_768</td>\n",
              "      <td>1058.000881</td>\n",
              "    </tr>\n",
              "    <tr>\n",
              "      <th>3</th>\n",
              "      <td>Order_No_15332</td>\n",
              "      <td>1105.787069</td>\n",
              "    </tr>\n",
              "    <tr>\n",
              "      <th>4</th>\n",
              "      <td>Order_No_21373</td>\n",
              "      <td>1194.660281</td>\n",
              "    </tr>\n",
              "    <tr>\n",
              "      <th>...</th>\n",
              "      <td>...</td>\n",
              "      <td>...</td>\n",
              "    </tr>\n",
              "    <tr>\n",
              "      <th>7063</th>\n",
              "      <td>Order_No_3612</td>\n",
              "      <td>1122.848121</td>\n",
              "    </tr>\n",
              "    <tr>\n",
              "      <th>7064</th>\n",
              "      <td>Order_No_7657</td>\n",
              "      <td>2894.321995</td>\n",
              "    </tr>\n",
              "    <tr>\n",
              "      <th>7065</th>\n",
              "      <td>Order_No_1969</td>\n",
              "      <td>1649.879452</td>\n",
              "    </tr>\n",
              "    <tr>\n",
              "      <th>7066</th>\n",
              "      <td>Order_No_10591</td>\n",
              "      <td>2611.831283</td>\n",
              "    </tr>\n",
              "    <tr>\n",
              "      <th>7067</th>\n",
              "      <td>Order_No_1603</td>\n",
              "      <td>1458.138944</td>\n",
              "    </tr>\n",
              "  </tbody>\n",
              "</table>\n",
              "<p>7068 rows × 2 columns</p>\n",
              "</div>"
            ],
            "text/plain": [
              "            Order No  Time from Pickup to Arrival\n",
              "0     Order_No_19248                  1290.862912\n",
              "1     Order_No_12736                  1081.300485\n",
              "2       Order_No_768                  1058.000881\n",
              "3     Order_No_15332                  1105.787069\n",
              "4     Order_No_21373                  1194.660281\n",
              "...              ...                          ...\n",
              "7063   Order_No_3612                  1122.848121\n",
              "7064   Order_No_7657                  2894.321995\n",
              "7065   Order_No_1969                  1649.879452\n",
              "7066  Order_No_10591                  2611.831283\n",
              "7067   Order_No_1603                  1458.138944\n",
              "\n",
              "[7068 rows x 2 columns]"
            ]
          },
          "metadata": {
            "tags": []
          },
          "execution_count": 40
        }
      ]
    },
    {
      "cell_type": "code",
      "metadata": {
        "id": "wbxVKI6FNtC3"
      },
      "source": [
        "submission_df.to_csv('base_pred.csv', index=False)"
      ],
      "execution_count": null,
      "outputs": []
    },
    {
      "cell_type": "markdown",
      "metadata": {
        "id": "AyhQaTwP9RzG"
      },
      "source": [
        "## Splitting the dataset into the Training set and Test set"
      ]
    },
    {
      "cell_type": "code",
      "metadata": {
        "id": "G7k8xA1VJPV8"
      },
      "source": [
        ""
      ],
      "execution_count": null,
      "outputs": []
    },
    {
      "cell_type": "code",
      "metadata": {
        "id": "bxOOauiN9VpC"
      },
      "source": [
        ""
      ],
      "execution_count": null,
      "outputs": []
    },
    {
      "cell_type": "markdown",
      "metadata": {
        "id": "ZijQwFMQ9itx"
      },
      "source": [
        "## Training the Simple Linear Regression model on the Training set"
      ]
    },
    {
      "cell_type": "code",
      "metadata": {
        "id": "B4Aj_8YJ9l7J"
      },
      "source": [
        ""
      ],
      "execution_count": null,
      "outputs": []
    },
    {
      "cell_type": "markdown",
      "metadata": {
        "id": "wa2T1Lq89o5H"
      },
      "source": [
        "## Predicting the Test set results"
      ]
    },
    {
      "cell_type": "code",
      "metadata": {
        "id": "Rn_sTJ2o9smm"
      },
      "source": [
        ""
      ],
      "execution_count": null,
      "outputs": []
    },
    {
      "cell_type": "markdown",
      "metadata": {
        "id": "-zSoMZ-P9v8t"
      },
      "source": [
        "## Visualising the Training set results"
      ]
    },
    {
      "cell_type": "code",
      "metadata": {
        "id": "IAePn_u-93tI"
      },
      "source": [
        ""
      ],
      "execution_count": null,
      "outputs": []
    },
    {
      "cell_type": "markdown",
      "metadata": {
        "id": "EUX1Vhsv97ZT"
      },
      "source": [
        "## Visualising the Test set results"
      ]
    },
    {
      "cell_type": "code",
      "metadata": {
        "id": "Ze9vpBTf-Bol"
      },
      "source": [
        ""
      ],
      "execution_count": null,
      "outputs": []
    },
    {
      "cell_type": "code",
      "metadata": {
        "id": "WjZAkvukOeL8"
      },
      "source": [
        ""
      ],
      "execution_count": null,
      "outputs": []
    }
  ]
}