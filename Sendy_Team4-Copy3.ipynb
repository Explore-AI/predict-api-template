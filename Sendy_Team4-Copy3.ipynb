{
 "cells": [
  {
   "cell_type": "markdown",
   "metadata": {},
   "source": [
    "### 1) Import Libraries"
   ]
  },
  {
   "cell_type": "code",
   "execution_count": 143,
   "metadata": {},
   "outputs": [],
   "source": [
    "import pandas as pd\n",
    "import numpy as np\n",
    "import datetime as dt\n",
    "import matplotlib.pyplot as plt\n",
    "%matplotlib inline\n",
    "import seaborn as sns\n",
    "\n",
    "import warnings\n",
    "warnings.filterwarnings('ignore')\n",
    "\n",
    "from sklearn.preprocessing import LabelEncoder\n",
    "from sklearn.model_selection import train_test_split, KFold, GridSearchCV \n",
    "from sklearn.model_selection import cross_val_score, learning_curve\n",
    "from sklearn.metrics import mean_squared_error\n",
    "\n",
    "from sklearn.svm import SVR\n",
    "from sklearn.ensemble import ExtraTreesRegressor, RandomForestRegressor, GradientBoostingRegressor\n",
    "from sklearn.linear_model import LinearRegression\n",
    "\n",
    "#import xgboost as xgb\n",
    "#import lightgbm as lgb\n",
    "\n",
    "sns.set(style='white', context='notebook', palette='deep')"
   ]
  },
  {
   "cell_type": "markdown",
   "metadata": {},
   "source": [
    "### 2) Import Data"
   ]
  },
  {
   "cell_type": "code",
   "execution_count": 144,
   "metadata": {},
   "outputs": [
    {
     "name": "stdout",
     "output_type": "stream",
     "text": [
      "(21201, 29) (7068, 25) (960, 5)\n"
     ]
    },
    {
     "data": {
      "text/html": [
       "<div>\n",
       "<style scoped>\n",
       "    .dataframe tbody tr th:only-of-type {\n",
       "        vertical-align: middle;\n",
       "    }\n",
       "\n",
       "    .dataframe tbody tr th {\n",
       "        vertical-align: top;\n",
       "    }\n",
       "\n",
       "    .dataframe thead th {\n",
       "        text-align: right;\n",
       "    }\n",
       "</style>\n",
       "<table border=\"1\" class=\"dataframe\">\n",
       "  <thead>\n",
       "    <tr style=\"text-align: right;\">\n",
       "      <th></th>\n",
       "      <th>Order No</th>\n",
       "      <th>User Id</th>\n",
       "      <th>Vehicle Type</th>\n",
       "      <th>Platform Type</th>\n",
       "      <th>Personal or Business</th>\n",
       "      <th>Placement - Day of Month</th>\n",
       "      <th>Placement - Weekday (Mo = 1)</th>\n",
       "      <th>Placement - Time</th>\n",
       "      <th>Confirmation - Day of Month</th>\n",
       "      <th>Confirmation - Weekday (Mo = 1)</th>\n",
       "      <th>...</th>\n",
       "      <th>Arrival at Destination - Time</th>\n",
       "      <th>Distance (KM)</th>\n",
       "      <th>Temperature</th>\n",
       "      <th>Precipitation in millimeters</th>\n",
       "      <th>Pickup Lat</th>\n",
       "      <th>Pickup Long</th>\n",
       "      <th>Destination Lat</th>\n",
       "      <th>Destination Long</th>\n",
       "      <th>Rider Id</th>\n",
       "      <th>Time from Pickup to Arrival</th>\n",
       "    </tr>\n",
       "  </thead>\n",
       "  <tbody>\n",
       "    <tr>\n",
       "      <th>0</th>\n",
       "      <td>Order_No_4211</td>\n",
       "      <td>User_Id_633</td>\n",
       "      <td>Bike</td>\n",
       "      <td>3</td>\n",
       "      <td>Business</td>\n",
       "      <td>9</td>\n",
       "      <td>5</td>\n",
       "      <td>9:35:46 AM</td>\n",
       "      <td>9</td>\n",
       "      <td>5</td>\n",
       "      <td>...</td>\n",
       "      <td>10:39:55 AM</td>\n",
       "      <td>4</td>\n",
       "      <td>20.4</td>\n",
       "      <td>NaN</td>\n",
       "      <td>-1.317755</td>\n",
       "      <td>36.830370</td>\n",
       "      <td>-1.300406</td>\n",
       "      <td>36.829741</td>\n",
       "      <td>Rider_Id_432</td>\n",
       "      <td>745</td>\n",
       "    </tr>\n",
       "    <tr>\n",
       "      <th>1</th>\n",
       "      <td>Order_No_25375</td>\n",
       "      <td>User_Id_2285</td>\n",
       "      <td>Bike</td>\n",
       "      <td>3</td>\n",
       "      <td>Personal</td>\n",
       "      <td>12</td>\n",
       "      <td>5</td>\n",
       "      <td>11:16:16 AM</td>\n",
       "      <td>12</td>\n",
       "      <td>5</td>\n",
       "      <td>...</td>\n",
       "      <td>12:17:22 PM</td>\n",
       "      <td>16</td>\n",
       "      <td>26.4</td>\n",
       "      <td>NaN</td>\n",
       "      <td>-1.351453</td>\n",
       "      <td>36.899315</td>\n",
       "      <td>-1.295004</td>\n",
       "      <td>36.814358</td>\n",
       "      <td>Rider_Id_856</td>\n",
       "      <td>1993</td>\n",
       "    </tr>\n",
       "    <tr>\n",
       "      <th>2</th>\n",
       "      <td>Order_No_1899</td>\n",
       "      <td>User_Id_265</td>\n",
       "      <td>Bike</td>\n",
       "      <td>3</td>\n",
       "      <td>Business</td>\n",
       "      <td>30</td>\n",
       "      <td>2</td>\n",
       "      <td>12:39:25 PM</td>\n",
       "      <td>30</td>\n",
       "      <td>2</td>\n",
       "      <td>...</td>\n",
       "      <td>1:00:38 PM</td>\n",
       "      <td>3</td>\n",
       "      <td>NaN</td>\n",
       "      <td>NaN</td>\n",
       "      <td>-1.308284</td>\n",
       "      <td>36.843419</td>\n",
       "      <td>-1.300921</td>\n",
       "      <td>36.828195</td>\n",
       "      <td>Rider_Id_155</td>\n",
       "      <td>455</td>\n",
       "    </tr>\n",
       "    <tr>\n",
       "      <th>3</th>\n",
       "      <td>Order_No_9336</td>\n",
       "      <td>User_Id_1402</td>\n",
       "      <td>Bike</td>\n",
       "      <td>3</td>\n",
       "      <td>Business</td>\n",
       "      <td>15</td>\n",
       "      <td>5</td>\n",
       "      <td>9:25:34 AM</td>\n",
       "      <td>15</td>\n",
       "      <td>5</td>\n",
       "      <td>...</td>\n",
       "      <td>10:05:27 AM</td>\n",
       "      <td>9</td>\n",
       "      <td>19.2</td>\n",
       "      <td>NaN</td>\n",
       "      <td>-1.281301</td>\n",
       "      <td>36.832396</td>\n",
       "      <td>-1.257147</td>\n",
       "      <td>36.795063</td>\n",
       "      <td>Rider_Id_855</td>\n",
       "      <td>1341</td>\n",
       "    </tr>\n",
       "    <tr>\n",
       "      <th>4</th>\n",
       "      <td>Order_No_27883</td>\n",
       "      <td>User_Id_1737</td>\n",
       "      <td>Bike</td>\n",
       "      <td>1</td>\n",
       "      <td>Personal</td>\n",
       "      <td>13</td>\n",
       "      <td>1</td>\n",
       "      <td>9:55:18 AM</td>\n",
       "      <td>13</td>\n",
       "      <td>1</td>\n",
       "      <td>...</td>\n",
       "      <td>10:25:37 AM</td>\n",
       "      <td>9</td>\n",
       "      <td>15.4</td>\n",
       "      <td>NaN</td>\n",
       "      <td>-1.266597</td>\n",
       "      <td>36.792118</td>\n",
       "      <td>-1.295041</td>\n",
       "      <td>36.809817</td>\n",
       "      <td>Rider_Id_770</td>\n",
       "      <td>1214</td>\n",
       "    </tr>\n",
       "  </tbody>\n",
       "</table>\n",
       "<p>5 rows × 29 columns</p>\n",
       "</div>"
      ],
      "text/plain": [
       "         Order No       User Id Vehicle Type  Platform Type  \\\n",
       "0   Order_No_4211   User_Id_633         Bike              3   \n",
       "1  Order_No_25375  User_Id_2285         Bike              3   \n",
       "2   Order_No_1899   User_Id_265         Bike              3   \n",
       "3   Order_No_9336  User_Id_1402         Bike              3   \n",
       "4  Order_No_27883  User_Id_1737         Bike              1   \n",
       "\n",
       "  Personal or Business  Placement - Day of Month  \\\n",
       "0             Business                         9   \n",
       "1             Personal                        12   \n",
       "2             Business                        30   \n",
       "3             Business                        15   \n",
       "4             Personal                        13   \n",
       "\n",
       "   Placement - Weekday (Mo = 1) Placement - Time  Confirmation - Day of Month  \\\n",
       "0                             5       9:35:46 AM                            9   \n",
       "1                             5      11:16:16 AM                           12   \n",
       "2                             2      12:39:25 PM                           30   \n",
       "3                             5       9:25:34 AM                           15   \n",
       "4                             1       9:55:18 AM                           13   \n",
       "\n",
       "   Confirmation - Weekday (Mo = 1)  ... Arrival at Destination - Time  \\\n",
       "0                                5  ...                   10:39:55 AM   \n",
       "1                                5  ...                   12:17:22 PM   \n",
       "2                                2  ...                    1:00:38 PM   \n",
       "3                                5  ...                   10:05:27 AM   \n",
       "4                                1  ...                   10:25:37 AM   \n",
       "\n",
       "   Distance (KM)  Temperature Precipitation in millimeters  Pickup Lat  \\\n",
       "0              4         20.4                          NaN   -1.317755   \n",
       "1             16         26.4                          NaN   -1.351453   \n",
       "2              3          NaN                          NaN   -1.308284   \n",
       "3              9         19.2                          NaN   -1.281301   \n",
       "4              9         15.4                          NaN   -1.266597   \n",
       "\n",
       "   Pickup Long Destination Lat  Destination Long      Rider Id  \\\n",
       "0    36.830370       -1.300406         36.829741  Rider_Id_432   \n",
       "1    36.899315       -1.295004         36.814358  Rider_Id_856   \n",
       "2    36.843419       -1.300921         36.828195  Rider_Id_155   \n",
       "3    36.832396       -1.257147         36.795063  Rider_Id_855   \n",
       "4    36.792118       -1.295041         36.809817  Rider_Id_770   \n",
       "\n",
       "  Time from Pickup to Arrival  \n",
       "0                         745  \n",
       "1                        1993  \n",
       "2                         455  \n",
       "3                        1341  \n",
       "4                        1214  \n",
       "\n",
       "[5 rows x 29 columns]"
      ]
     },
     "execution_count": 144,
     "metadata": {},
     "output_type": "execute_result"
    }
   ],
   "source": [
    "#Train_Masked has extra columns: Delivery destination (day, month, time)\n",
    "\n",
    "train_df = pd.read_csv(\"D:\\Temp\\Train.csv\")\n",
    "test_df = pd.read_csv(\"D:\\Temp\\Test.csv\")\n",
    "riders_df = pd.read_csv(\"D:\\Temp\\Riders.csv\")\n",
    "\n",
    "print(train_df.shape, test_df.shape, riders_df.shape)\n",
    "train_df.head()"
   ]
  },
  {
   "cell_type": "markdown",
   "metadata": {},
   "source": [
    "### 3) Data Manipulation"
   ]
  },
  {
   "cell_type": "code",
   "execution_count": 145,
   "metadata": {},
   "outputs": [],
   "source": [
    "#Drop data not available in test, Pickup Time + label = Arrival times\n",
    "\n",
    "train_df = train_df.drop(['Arrival at Destination - Day of Month', 'Arrival at Destination - Weekday (Mo = 1)', 'Arrival at Destination - Time'], axis=1)\n"
   ]
  },
  {
   "cell_type": "markdown",
   "metadata": {},
   "source": [
    "#### Creating Full_df"
   ]
  },
  {
   "cell_type": "code",
   "execution_count": 146,
   "metadata": {},
   "outputs": [
    {
     "data": {
      "text/plain": [
       "((21201, 26), (7068, 26), (28269, 26))"
      ]
     },
     "execution_count": 146,
     "metadata": {},
     "output_type": "execute_result"
    }
   ],
   "source": [
    "#Create (full_df = train + test) ** caution (dont shuffle, avoid drop/adding rows)\n",
    "#explore training, make (column) changes to full, later we use the border to separate\n",
    "#Be careful of information leakage\n",
    "\n",
    "border = train_df.shape[0]\n",
    "test_df['Time from Pickup to Arrival'] = [np.nan]* test_df.shape[0]\n",
    "full_df = pd.concat([train_df, test_df], axis=0, ignore_index=True)\n",
    "\n",
    "train_df.shape, test_df.shape, full_df.shape"
   ]
  },
  {
   "cell_type": "markdown",
   "metadata": {},
   "source": [
    "#### Renaming columns"
   ]
  },
  {
   "cell_type": "code",
   "execution_count": 147,
   "metadata": {},
   "outputs": [
    {
     "data": {
      "text/plain": [
       "Index(['Order_No', 'User_Id', 'Vehicle_Type', 'Platform_Type',\n",
       "       'Personal_Business', 'Pla_Mon', 'Pla_Weekday', 'Pla_Time',\n",
       "       'Con_Day_Mon', 'Con_Weekday', 'Con_Time', 'Arr_Pic_Mon',\n",
       "       'Arr_Pic_Weekday', 'Arr_Pic_Time', 'Pickup_Mon', 'Pickup_Weekday',\n",
       "       'Pickup_Time', 'Distance(km)', 'Temperature', 'Precipitation(mm)',\n",
       "       'Pickup_Lat', 'Pickup_Lon', 'Destination_Lat', 'Destination_Lon',\n",
       "       'Rider_Id', 'Time_Pic_Arr'],\n",
       "      dtype='object')"
      ]
     },
     "execution_count": 147,
     "metadata": {},
     "output_type": "execute_result"
    }
   ],
   "source": [
    "#Renaming columns (shorten, remove space, standardize)\n",
    "new_names = {\"Order No\": \"Order_No\", \"User Id\": \"User_Id\", \"Vehicle Type\": \"Vehicle_Type\",\n",
    "    \"Personal or Business\": \"Personal_Business\", \"Placement - Day of Month\": \"Pla_Mon\",\n",
    "    \"Placement - Weekday (Mo = 1)\": \"Pla_Weekday\", \"Placement - Time\": \"Pla_Time\", \n",
    "    \"Confirmation - Day of Month\":\"Con_Day_Mon\", \"Confirmation - Weekday (Mo = 1)\": \"Con_Weekday\",\"Confirmation - Time\": \"Con_Time\", \n",
    "    \"Arrival at Pickup - Day of Month\": \"Arr_Pic_Mon\", \"Arrival at Pickup - Weekday (Mo = 1)\": \"Arr_Pic_Weekday\", \n",
    "                \"Arrival at Pickup - Time\": \"Arr_Pic_Time\", \"Platform Type\": \"Platform_Type\",\n",
    "     \"Pickup - Day of Month\": \"Pickup_Mon\", \"Pickup - Weekday (Mo = 1)\": \"Pickup_Weekday\",           \n",
    "    \"Pickup - Time\": \"Pickup_Time\",  \"Distance (KM)\": \"Distance(km)\",\n",
    "    \"Precipitation in millimeters\": \"Precipitation(mm)\", \"Pickup Lat\": \"Pickup_Lat\", \"Pickup Long\": \"Pickup_Lon\", \n",
    "    \"Destination Lat\": \"Destination_Lat\", \"Destination Long\":\"Destination_Lon\", \"Rider Id\": \"Rider_Id\",\n",
    "                            \"Time from Pickup to Arrival\": \"Time_Pic_Arr\"\n",
    "                           }\n",
    "\n",
    "full_df = full_df.rename(columns=new_names)\n",
    "full_df.columns"
   ]
  },
  {
   "cell_type": "markdown",
   "metadata": {},
   "source": [
    "#### Convert Time"
   ]
  },
  {
   "cell_type": "code",
   "execution_count": 148,
   "metadata": {},
   "outputs": [
    {
     "data": {
      "text/html": [
       "<div>\n",
       "<style scoped>\n",
       "    .dataframe tbody tr th:only-of-type {\n",
       "        vertical-align: middle;\n",
       "    }\n",
       "\n",
       "    .dataframe tbody tr th {\n",
       "        vertical-align: top;\n",
       "    }\n",
       "\n",
       "    .dataframe thead th {\n",
       "        text-align: right;\n",
       "    }\n",
       "</style>\n",
       "<table border=\"1\" class=\"dataframe\">\n",
       "  <thead>\n",
       "    <tr style=\"text-align: right;\">\n",
       "      <th></th>\n",
       "      <th>Pla_Time</th>\n",
       "      <th>Con_Time</th>\n",
       "      <th>Arr_Pic_Time</th>\n",
       "      <th>Pickup_Time</th>\n",
       "    </tr>\n",
       "  </thead>\n",
       "  <tbody>\n",
       "    <tr>\n",
       "      <th>3</th>\n",
       "      <td>09:25:34</td>\n",
       "      <td>09:26:05</td>\n",
       "      <td>09:37:56</td>\n",
       "      <td>09:43:06</td>\n",
       "    </tr>\n",
       "    <tr>\n",
       "      <th>4</th>\n",
       "      <td>09:55:18</td>\n",
       "      <td>09:56:18</td>\n",
       "      <td>10:03:53</td>\n",
       "      <td>10:05:23</td>\n",
       "    </tr>\n",
       "    <tr>\n",
       "      <th>5</th>\n",
       "      <td>15:07:35</td>\n",
       "      <td>15:08:57</td>\n",
       "      <td>15:21:36</td>\n",
       "      <td>15:30:30</td>\n",
       "    </tr>\n",
       "  </tbody>\n",
       "</table>\n",
       "</div>"
      ],
      "text/plain": [
       "   Pla_Time  Con_Time Arr_Pic_Time Pickup_Time\n",
       "3  09:25:34  09:26:05     09:37:56    09:43:06\n",
       "4  09:55:18  09:56:18     10:03:53    10:05:23\n",
       "5  15:07:35  15:08:57     15:21:36    15:30:30"
      ]
     },
     "execution_count": 148,
     "metadata": {},
     "output_type": "execute_result"
    }
   ],
   "source": [
    "#Convert Time from 12H to 24H\n",
    "\n",
    "def convert_to_24hrs(fulldf):\n",
    "    for col in fulldf.columns:\n",
    "        if col.endswith(\"Time\"):\n",
    "            fulldf[col] = pd.to_datetime(fulldf[col], format='%I:%M:%S %p').dt.strftime(\"%H:%M:%S\")\n",
    "    return fulldf\n",
    "\n",
    "full_df = convert_to_24hrs(full_df)\n",
    "\n",
    "full_df[['Pla_Time', 'Con_Time' , 'Arr_Pic_Time', 'Pickup_Time']][3:6]\n"
   ]
  },
  {
   "cell_type": "markdown",
   "metadata": {},
   "source": [
    "#### Filling Missing Values"
   ]
  },
  {
   "cell_type": "code",
   "execution_count": 149,
   "metadata": {},
   "outputs": [],
   "source": [
    "#Filling Missing Values for temperatures and humidity\n",
    "\n",
    "full_df['Temperature'] = full_df['Temperature'].fillna(full_df['Temperature'].mean())\n",
    "full_df['Precipitation(mm)'].fillna(full_df['Precipitation(mm)'].mean(), inplace=True)"
   ]
  },
  {
   "cell_type": "code",
   "execution_count": 150,
   "metadata": {},
   "outputs": [
    {
     "data": {
      "text/html": [
       "<div>\n",
       "<style scoped>\n",
       "    .dataframe tbody tr th:only-of-type {\n",
       "        vertical-align: middle;\n",
       "    }\n",
       "\n",
       "    .dataframe tbody tr th {\n",
       "        vertical-align: top;\n",
       "    }\n",
       "\n",
       "    .dataframe thead th {\n",
       "        text-align: right;\n",
       "    }\n",
       "</style>\n",
       "<table border=\"1\" class=\"dataframe\">\n",
       "  <thead>\n",
       "    <tr style=\"text-align: right;\">\n",
       "      <th></th>\n",
       "      <th>Order_No</th>\n",
       "      <th>User_Id</th>\n",
       "      <th>Vehicle_Type</th>\n",
       "      <th>Platform_Type</th>\n",
       "      <th>Personal_Business</th>\n",
       "      <th>Pla_Mon</th>\n",
       "      <th>Pla_Weekday</th>\n",
       "      <th>Pla_Time</th>\n",
       "      <th>Con_Day_Mon</th>\n",
       "      <th>Con_Weekday</th>\n",
       "      <th>...</th>\n",
       "      <th>Pickup_Time</th>\n",
       "      <th>Distance(km)</th>\n",
       "      <th>Temperature</th>\n",
       "      <th>Precipitation(mm)</th>\n",
       "      <th>Pickup_Lat</th>\n",
       "      <th>Pickup_Lon</th>\n",
       "      <th>Destination_Lat</th>\n",
       "      <th>Destination_Lon</th>\n",
       "      <th>Rider_Id</th>\n",
       "      <th>Time_Pic_Arr</th>\n",
       "    </tr>\n",
       "  </thead>\n",
       "  <tbody>\n",
       "    <tr>\n",
       "      <th>0</th>\n",
       "      <td>Order_No_4211</td>\n",
       "      <td>User_Id_633</td>\n",
       "      <td>Bike</td>\n",
       "      <td>3</td>\n",
       "      <td>Business</td>\n",
       "      <td>9</td>\n",
       "      <td>5</td>\n",
       "      <td>09:35:46</td>\n",
       "      <td>9</td>\n",
       "      <td>5</td>\n",
       "      <td>...</td>\n",
       "      <td>10:27:30</td>\n",
       "      <td>4</td>\n",
       "      <td>20.400000</td>\n",
       "      <td>7.573502</td>\n",
       "      <td>-1.317755</td>\n",
       "      <td>36.830370</td>\n",
       "      <td>-1.300406</td>\n",
       "      <td>36.829741</td>\n",
       "      <td>Rider_Id_432</td>\n",
       "      <td>745.0</td>\n",
       "    </tr>\n",
       "    <tr>\n",
       "      <th>1</th>\n",
       "      <td>Order_No_25375</td>\n",
       "      <td>User_Id_2285</td>\n",
       "      <td>Bike</td>\n",
       "      <td>3</td>\n",
       "      <td>Personal</td>\n",
       "      <td>12</td>\n",
       "      <td>5</td>\n",
       "      <td>11:16:16</td>\n",
       "      <td>12</td>\n",
       "      <td>5</td>\n",
       "      <td>...</td>\n",
       "      <td>11:44:09</td>\n",
       "      <td>16</td>\n",
       "      <td>26.400000</td>\n",
       "      <td>7.573502</td>\n",
       "      <td>-1.351453</td>\n",
       "      <td>36.899315</td>\n",
       "      <td>-1.295004</td>\n",
       "      <td>36.814358</td>\n",
       "      <td>Rider_Id_856</td>\n",
       "      <td>1993.0</td>\n",
       "    </tr>\n",
       "    <tr>\n",
       "      <th>2</th>\n",
       "      <td>Order_No_1899</td>\n",
       "      <td>User_Id_265</td>\n",
       "      <td>Bike</td>\n",
       "      <td>3</td>\n",
       "      <td>Business</td>\n",
       "      <td>30</td>\n",
       "      <td>2</td>\n",
       "      <td>12:39:25</td>\n",
       "      <td>30</td>\n",
       "      <td>2</td>\n",
       "      <td>...</td>\n",
       "      <td>12:53:03</td>\n",
       "      <td>3</td>\n",
       "      <td>23.255689</td>\n",
       "      <td>7.573502</td>\n",
       "      <td>-1.308284</td>\n",
       "      <td>36.843419</td>\n",
       "      <td>-1.300921</td>\n",
       "      <td>36.828195</td>\n",
       "      <td>Rider_Id_155</td>\n",
       "      <td>455.0</td>\n",
       "    </tr>\n",
       "    <tr>\n",
       "      <th>3</th>\n",
       "      <td>Order_No_9336</td>\n",
       "      <td>User_Id_1402</td>\n",
       "      <td>Bike</td>\n",
       "      <td>3</td>\n",
       "      <td>Business</td>\n",
       "      <td>15</td>\n",
       "      <td>5</td>\n",
       "      <td>09:25:34</td>\n",
       "      <td>15</td>\n",
       "      <td>5</td>\n",
       "      <td>...</td>\n",
       "      <td>09:43:06</td>\n",
       "      <td>9</td>\n",
       "      <td>19.200000</td>\n",
       "      <td>7.573502</td>\n",
       "      <td>-1.281301</td>\n",
       "      <td>36.832396</td>\n",
       "      <td>-1.257147</td>\n",
       "      <td>36.795063</td>\n",
       "      <td>Rider_Id_855</td>\n",
       "      <td>1341.0</td>\n",
       "    </tr>\n",
       "    <tr>\n",
       "      <th>4</th>\n",
       "      <td>Order_No_27883</td>\n",
       "      <td>User_Id_1737</td>\n",
       "      <td>Bike</td>\n",
       "      <td>1</td>\n",
       "      <td>Personal</td>\n",
       "      <td>13</td>\n",
       "      <td>1</td>\n",
       "      <td>09:55:18</td>\n",
       "      <td>13</td>\n",
       "      <td>1</td>\n",
       "      <td>...</td>\n",
       "      <td>10:05:23</td>\n",
       "      <td>9</td>\n",
       "      <td>15.400000</td>\n",
       "      <td>7.573502</td>\n",
       "      <td>-1.266597</td>\n",
       "      <td>36.792118</td>\n",
       "      <td>-1.295041</td>\n",
       "      <td>36.809817</td>\n",
       "      <td>Rider_Id_770</td>\n",
       "      <td>1214.0</td>\n",
       "    </tr>\n",
       "  </tbody>\n",
       "</table>\n",
       "<p>5 rows × 26 columns</p>\n",
       "</div>"
      ],
      "text/plain": [
       "         Order_No       User_Id Vehicle_Type  Platform_Type Personal_Business  \\\n",
       "0   Order_No_4211   User_Id_633         Bike              3          Business   \n",
       "1  Order_No_25375  User_Id_2285         Bike              3          Personal   \n",
       "2   Order_No_1899   User_Id_265         Bike              3          Business   \n",
       "3   Order_No_9336  User_Id_1402         Bike              3          Business   \n",
       "4  Order_No_27883  User_Id_1737         Bike              1          Personal   \n",
       "\n",
       "   Pla_Mon  Pla_Weekday  Pla_Time  Con_Day_Mon  Con_Weekday  ... Pickup_Time  \\\n",
       "0        9            5  09:35:46            9            5  ...    10:27:30   \n",
       "1       12            5  11:16:16           12            5  ...    11:44:09   \n",
       "2       30            2  12:39:25           30            2  ...    12:53:03   \n",
       "3       15            5  09:25:34           15            5  ...    09:43:06   \n",
       "4       13            1  09:55:18           13            1  ...    10:05:23   \n",
       "\n",
       "   Distance(km)  Temperature Precipitation(mm)  Pickup_Lat  Pickup_Lon  \\\n",
       "0             4    20.400000          7.573502   -1.317755   36.830370   \n",
       "1            16    26.400000          7.573502   -1.351453   36.899315   \n",
       "2             3    23.255689          7.573502   -1.308284   36.843419   \n",
       "3             9    19.200000          7.573502   -1.281301   36.832396   \n",
       "4             9    15.400000          7.573502   -1.266597   36.792118   \n",
       "\n",
       "  Destination_Lat  Destination_Lon      Rider_Id  Time_Pic_Arr  \n",
       "0       -1.300406        36.829741  Rider_Id_432         745.0  \n",
       "1       -1.295004        36.814358  Rider_Id_856        1993.0  \n",
       "2       -1.300921        36.828195  Rider_Id_155         455.0  \n",
       "3       -1.257147        36.795063  Rider_Id_855        1341.0  \n",
       "4       -1.295041        36.809817  Rider_Id_770        1214.0  \n",
       "\n",
       "[5 rows x 26 columns]"
      ]
     },
     "execution_count": 150,
     "metadata": {},
     "output_type": "execute_result"
    }
   ],
   "source": [
    "full_df.head()"
   ]
  },
  {
   "cell_type": "markdown",
   "metadata": {},
   "source": [
    "#### Traversing Month and Weekday"
   ]
  },
  {
   "cell_type": "code",
   "execution_count": 151,
   "metadata": {},
   "outputs": [
    {
     "name": "stdout",
     "output_type": "stream",
     "text": [
      "2\r"
     ]
    },
    {
     "data": {
      "text/plain": [
       "[[17, 18, 18, 18], [11, 13, 13, 13]]"
      ]
     },
     "execution_count": 151,
     "metadata": {},
     "output_type": "execute_result"
    }
   ],
   "source": [
    "#Since, we have not been given the actual dates & bikes (same day) were used, is Pick, Arrival date not the same?\n",
    "\n",
    "month_cols = [col for col in full_df.columns if col.endswith(\"Mon\")]\n",
    "weekday_cols = [col for col in full_df.columns if col.endswith(\"Weekday\")]\n",
    "\n",
    "count = 0\n",
    "instances_of_different_days = [];\n",
    "for i, row in full_df.iterrows():\n",
    "    if len(set(row[month_cols].values)) > 1:\n",
    "        print(count+1, end=\"\\r\")\n",
    "        count = count + 1\n",
    "        instances_of_different_days.append(list(row[month_cols].values))\n",
    "instances_of_different_days"
   ]
  },
  {
   "cell_type": "code",
   "execution_count": 152,
   "metadata": {},
   "outputs": [
    {
     "data": {
      "text/plain": [
       "['Pla_Mon', 'Con_Day_Mon', 'Arr_Pic_Mon', 'Pickup_Mon']"
      ]
     },
     "execution_count": 152,
     "metadata": {},
     "output_type": "execute_result"
    }
   ],
   "source": [
    "month_cols"
   ]
  },
  {
   "cell_type": "code",
   "execution_count": 153,
   "metadata": {},
   "outputs": [
    {
     "data": {
      "text/plain": [
       "['Pla_Weekday', 'Con_Weekday', 'Arr_Pic_Weekday', 'Pickup_Weekday']"
      ]
     },
     "execution_count": 153,
     "metadata": {},
     "output_type": "execute_result"
    }
   ],
   "source": [
    "weekday_cols"
   ]
  },
  {
   "cell_type": "markdown",
   "metadata": {},
   "source": [
    "#### Creating Month and Weekday columns"
   ]
  },
  {
   "cell_type": "code",
   "execution_count": 154,
   "metadata": {},
   "outputs": [],
   "source": [
    "full_df['Day_of_Month'] = full_df[month_cols[0]]\n",
    "full_df['Day_of_Week'] = full_df[weekday_cols[0]]"
   ]
  },
  {
   "cell_type": "markdown",
   "metadata": {},
   "source": [
    "#### Dropping redundant columns"
   ]
  },
  {
   "cell_type": "code",
   "execution_count": 155,
   "metadata": {},
   "outputs": [
    {
     "data": {
      "text/html": [
       "<div>\n",
       "<style scoped>\n",
       "    .dataframe tbody tr th:only-of-type {\n",
       "        vertical-align: middle;\n",
       "    }\n",
       "\n",
       "    .dataframe tbody tr th {\n",
       "        vertical-align: top;\n",
       "    }\n",
       "\n",
       "    .dataframe thead th {\n",
       "        text-align: right;\n",
       "    }\n",
       "</style>\n",
       "<table border=\"1\" class=\"dataframe\">\n",
       "  <thead>\n",
       "    <tr style=\"text-align: right;\">\n",
       "      <th></th>\n",
       "      <th>Order_No</th>\n",
       "      <th>User_Id</th>\n",
       "      <th>Platform_Type</th>\n",
       "      <th>Personal_Business</th>\n",
       "      <th>Pla_Time</th>\n",
       "      <th>Con_Time</th>\n",
       "      <th>Arr_Pic_Time</th>\n",
       "      <th>Pickup_Time</th>\n",
       "      <th>Distance(km)</th>\n",
       "      <th>Temperature</th>\n",
       "      <th>Precipitation(mm)</th>\n",
       "      <th>Pickup_Lat</th>\n",
       "      <th>Pickup_Lon</th>\n",
       "      <th>Destination_Lat</th>\n",
       "      <th>Destination_Lon</th>\n",
       "      <th>Rider_Id</th>\n",
       "      <th>Time_Pic_Arr</th>\n",
       "      <th>Day_of_Month</th>\n",
       "      <th>Day_of_Week</th>\n",
       "    </tr>\n",
       "  </thead>\n",
       "  <tbody>\n",
       "    <tr>\n",
       "      <th>0</th>\n",
       "      <td>Order_No_4211</td>\n",
       "      <td>User_Id_633</td>\n",
       "      <td>3</td>\n",
       "      <td>Business</td>\n",
       "      <td>09:35:46</td>\n",
       "      <td>09:40:10</td>\n",
       "      <td>10:04:47</td>\n",
       "      <td>10:27:30</td>\n",
       "      <td>4</td>\n",
       "      <td>20.400000</td>\n",
       "      <td>7.573502</td>\n",
       "      <td>-1.317755</td>\n",
       "      <td>36.830370</td>\n",
       "      <td>-1.300406</td>\n",
       "      <td>36.829741</td>\n",
       "      <td>Rider_Id_432</td>\n",
       "      <td>745.0</td>\n",
       "      <td>9</td>\n",
       "      <td>5</td>\n",
       "    </tr>\n",
       "    <tr>\n",
       "      <th>1</th>\n",
       "      <td>Order_No_25375</td>\n",
       "      <td>User_Id_2285</td>\n",
       "      <td>3</td>\n",
       "      <td>Personal</td>\n",
       "      <td>11:16:16</td>\n",
       "      <td>11:23:21</td>\n",
       "      <td>11:40:22</td>\n",
       "      <td>11:44:09</td>\n",
       "      <td>16</td>\n",
       "      <td>26.400000</td>\n",
       "      <td>7.573502</td>\n",
       "      <td>-1.351453</td>\n",
       "      <td>36.899315</td>\n",
       "      <td>-1.295004</td>\n",
       "      <td>36.814358</td>\n",
       "      <td>Rider_Id_856</td>\n",
       "      <td>1993.0</td>\n",
       "      <td>12</td>\n",
       "      <td>5</td>\n",
       "    </tr>\n",
       "    <tr>\n",
       "      <th>2</th>\n",
       "      <td>Order_No_1899</td>\n",
       "      <td>User_Id_265</td>\n",
       "      <td>3</td>\n",
       "      <td>Business</td>\n",
       "      <td>12:39:25</td>\n",
       "      <td>12:42:44</td>\n",
       "      <td>12:49:34</td>\n",
       "      <td>12:53:03</td>\n",
       "      <td>3</td>\n",
       "      <td>23.255689</td>\n",
       "      <td>7.573502</td>\n",
       "      <td>-1.308284</td>\n",
       "      <td>36.843419</td>\n",
       "      <td>-1.300921</td>\n",
       "      <td>36.828195</td>\n",
       "      <td>Rider_Id_155</td>\n",
       "      <td>455.0</td>\n",
       "      <td>30</td>\n",
       "      <td>2</td>\n",
       "    </tr>\n",
       "  </tbody>\n",
       "</table>\n",
       "</div>"
      ],
      "text/plain": [
       "         Order_No       User_Id  Platform_Type Personal_Business  Pla_Time  \\\n",
       "0   Order_No_4211   User_Id_633              3          Business  09:35:46   \n",
       "1  Order_No_25375  User_Id_2285              3          Personal  11:16:16   \n",
       "2   Order_No_1899   User_Id_265              3          Business  12:39:25   \n",
       "\n",
       "   Con_Time Arr_Pic_Time Pickup_Time  Distance(km)  Temperature  \\\n",
       "0  09:40:10     10:04:47    10:27:30             4    20.400000   \n",
       "1  11:23:21     11:40:22    11:44:09            16    26.400000   \n",
       "2  12:42:44     12:49:34    12:53:03             3    23.255689   \n",
       "\n",
       "   Precipitation(mm)  Pickup_Lat  Pickup_Lon  Destination_Lat  \\\n",
       "0           7.573502   -1.317755   36.830370        -1.300406   \n",
       "1           7.573502   -1.351453   36.899315        -1.295004   \n",
       "2           7.573502   -1.308284   36.843419        -1.300921   \n",
       "\n",
       "   Destination_Lon      Rider_Id  Time_Pic_Arr  Day_of_Month  Day_of_Week  \n",
       "0        36.829741  Rider_Id_432         745.0             9            5  \n",
       "1        36.814358  Rider_Id_856        1993.0            12            5  \n",
       "2        36.828195  Rider_Id_155         455.0            30            2  "
      ]
     },
     "execution_count": 155,
     "metadata": {},
     "output_type": "execute_result"
    }
   ],
   "source": [
    "#All Vehicle types are Bikes, Vehicle Type is not necessary.\n",
    "#Day & Weekday values are repeated in all rows except 2, we retain only one\n",
    "full_df.drop(month_cols+weekday_cols, axis=1, inplace=True)\n",
    "full_df.drop('Vehicle_Type', axis=1, inplace=True)\n",
    "\n",
    "full_df.head(3)"
   ]
  },
  {
   "cell_type": "code",
   "execution_count": 156,
   "metadata": {},
   "outputs": [
    {
     "data": {
      "text/html": [
       "<div>\n",
       "<style scoped>\n",
       "    .dataframe tbody tr th:only-of-type {\n",
       "        vertical-align: middle;\n",
       "    }\n",
       "\n",
       "    .dataframe tbody tr th {\n",
       "        vertical-align: top;\n",
       "    }\n",
       "\n",
       "    .dataframe thead th {\n",
       "        text-align: right;\n",
       "    }\n",
       "</style>\n",
       "<table border=\"1\" class=\"dataframe\">\n",
       "  <thead>\n",
       "    <tr style=\"text-align: right;\">\n",
       "      <th></th>\n",
       "      <th>Order_No</th>\n",
       "      <th>User_Id</th>\n",
       "      <th>Platform_Type</th>\n",
       "      <th>Personal_Business</th>\n",
       "      <th>Pla_Time</th>\n",
       "      <th>Con_Time</th>\n",
       "      <th>Arr_Pic_Time</th>\n",
       "      <th>Pickup_Time</th>\n",
       "      <th>Distance(km)</th>\n",
       "      <th>Temperature</th>\n",
       "      <th>Precipitation(mm)</th>\n",
       "      <th>Pickup_Lat</th>\n",
       "      <th>Pickup_Lon</th>\n",
       "      <th>Destination_Lat</th>\n",
       "      <th>Destination_Lon</th>\n",
       "      <th>Rider_Id</th>\n",
       "      <th>Time_Pic_Arr</th>\n",
       "      <th>Day_of_Month</th>\n",
       "      <th>Day_of_Week</th>\n",
       "    </tr>\n",
       "  </thead>\n",
       "  <tbody>\n",
       "    <tr>\n",
       "      <th>0</th>\n",
       "      <td>Order_No_4211</td>\n",
       "      <td>User_Id_633</td>\n",
       "      <td>3</td>\n",
       "      <td>Business</td>\n",
       "      <td>09:35:46</td>\n",
       "      <td>09:40:10</td>\n",
       "      <td>10:04:47</td>\n",
       "      <td>10:27:30</td>\n",
       "      <td>4</td>\n",
       "      <td>20.400000</td>\n",
       "      <td>7.573502</td>\n",
       "      <td>-1.317755</td>\n",
       "      <td>36.830370</td>\n",
       "      <td>-1.300406</td>\n",
       "      <td>36.829741</td>\n",
       "      <td>Rider_Id_432</td>\n",
       "      <td>745.0</td>\n",
       "      <td>9</td>\n",
       "      <td>5</td>\n",
       "    </tr>\n",
       "    <tr>\n",
       "      <th>1</th>\n",
       "      <td>Order_No_25375</td>\n",
       "      <td>User_Id_2285</td>\n",
       "      <td>3</td>\n",
       "      <td>Personal</td>\n",
       "      <td>11:16:16</td>\n",
       "      <td>11:23:21</td>\n",
       "      <td>11:40:22</td>\n",
       "      <td>11:44:09</td>\n",
       "      <td>16</td>\n",
       "      <td>26.400000</td>\n",
       "      <td>7.573502</td>\n",
       "      <td>-1.351453</td>\n",
       "      <td>36.899315</td>\n",
       "      <td>-1.295004</td>\n",
       "      <td>36.814358</td>\n",
       "      <td>Rider_Id_856</td>\n",
       "      <td>1993.0</td>\n",
       "      <td>12</td>\n",
       "      <td>5</td>\n",
       "    </tr>\n",
       "    <tr>\n",
       "      <th>2</th>\n",
       "      <td>Order_No_1899</td>\n",
       "      <td>User_Id_265</td>\n",
       "      <td>3</td>\n",
       "      <td>Business</td>\n",
       "      <td>12:39:25</td>\n",
       "      <td>12:42:44</td>\n",
       "      <td>12:49:34</td>\n",
       "      <td>12:53:03</td>\n",
       "      <td>3</td>\n",
       "      <td>23.255689</td>\n",
       "      <td>7.573502</td>\n",
       "      <td>-1.308284</td>\n",
       "      <td>36.843419</td>\n",
       "      <td>-1.300921</td>\n",
       "      <td>36.828195</td>\n",
       "      <td>Rider_Id_155</td>\n",
       "      <td>455.0</td>\n",
       "      <td>30</td>\n",
       "      <td>2</td>\n",
       "    </tr>\n",
       "    <tr>\n",
       "      <th>3</th>\n",
       "      <td>Order_No_9336</td>\n",
       "      <td>User_Id_1402</td>\n",
       "      <td>3</td>\n",
       "      <td>Business</td>\n",
       "      <td>09:25:34</td>\n",
       "      <td>09:26:05</td>\n",
       "      <td>09:37:56</td>\n",
       "      <td>09:43:06</td>\n",
       "      <td>9</td>\n",
       "      <td>19.200000</td>\n",
       "      <td>7.573502</td>\n",
       "      <td>-1.281301</td>\n",
       "      <td>36.832396</td>\n",
       "      <td>-1.257147</td>\n",
       "      <td>36.795063</td>\n",
       "      <td>Rider_Id_855</td>\n",
       "      <td>1341.0</td>\n",
       "      <td>15</td>\n",
       "      <td>5</td>\n",
       "    </tr>\n",
       "    <tr>\n",
       "      <th>4</th>\n",
       "      <td>Order_No_27883</td>\n",
       "      <td>User_Id_1737</td>\n",
       "      <td>1</td>\n",
       "      <td>Personal</td>\n",
       "      <td>09:55:18</td>\n",
       "      <td>09:56:18</td>\n",
       "      <td>10:03:53</td>\n",
       "      <td>10:05:23</td>\n",
       "      <td>9</td>\n",
       "      <td>15.400000</td>\n",
       "      <td>7.573502</td>\n",
       "      <td>-1.266597</td>\n",
       "      <td>36.792118</td>\n",
       "      <td>-1.295041</td>\n",
       "      <td>36.809817</td>\n",
       "      <td>Rider_Id_770</td>\n",
       "      <td>1214.0</td>\n",
       "      <td>13</td>\n",
       "      <td>1</td>\n",
       "    </tr>\n",
       "  </tbody>\n",
       "</table>\n",
       "</div>"
      ],
      "text/plain": [
       "         Order_No       User_Id  Platform_Type Personal_Business  Pla_Time  \\\n",
       "0   Order_No_4211   User_Id_633              3          Business  09:35:46   \n",
       "1  Order_No_25375  User_Id_2285              3          Personal  11:16:16   \n",
       "2   Order_No_1899   User_Id_265              3          Business  12:39:25   \n",
       "3   Order_No_9336  User_Id_1402              3          Business  09:25:34   \n",
       "4  Order_No_27883  User_Id_1737              1          Personal  09:55:18   \n",
       "\n",
       "   Con_Time Arr_Pic_Time Pickup_Time  Distance(km)  Temperature  \\\n",
       "0  09:40:10     10:04:47    10:27:30             4    20.400000   \n",
       "1  11:23:21     11:40:22    11:44:09            16    26.400000   \n",
       "2  12:42:44     12:49:34    12:53:03             3    23.255689   \n",
       "3  09:26:05     09:37:56    09:43:06             9    19.200000   \n",
       "4  09:56:18     10:03:53    10:05:23             9    15.400000   \n",
       "\n",
       "   Precipitation(mm)  Pickup_Lat  Pickup_Lon  Destination_Lat  \\\n",
       "0           7.573502   -1.317755   36.830370        -1.300406   \n",
       "1           7.573502   -1.351453   36.899315        -1.295004   \n",
       "2           7.573502   -1.308284   36.843419        -1.300921   \n",
       "3           7.573502   -1.281301   36.832396        -1.257147   \n",
       "4           7.573502   -1.266597   36.792118        -1.295041   \n",
       "\n",
       "   Destination_Lon      Rider_Id  Time_Pic_Arr  Day_of_Month  Day_of_Week  \n",
       "0        36.829741  Rider_Id_432         745.0             9            5  \n",
       "1        36.814358  Rider_Id_856        1993.0            12            5  \n",
       "2        36.828195  Rider_Id_155         455.0            30            2  \n",
       "3        36.795063  Rider_Id_855        1341.0            15            5  \n",
       "4        36.809817  Rider_Id_770        1214.0            13            1  "
      ]
     },
     "execution_count": 156,
     "metadata": {},
     "output_type": "execute_result"
    }
   ],
   "source": [
    "full_df.head()"
   ]
  },
  {
   "cell_type": "code",
   "execution_count": 157,
   "metadata": {},
   "outputs": [
    {
     "data": {
      "text/plain": [
       "Index(['Order_No', 'User_Id', 'Platform_Type', 'Personal_Business', 'Pla_Time',\n",
       "       'Con_Time', 'Arr_Pic_Time', 'Pickup_Time', 'Distance(km)',\n",
       "       'Temperature', 'Precipitation(mm)', 'Pickup_Lat', 'Pickup_Lon',\n",
       "       'Destination_Lat', 'Destination_Lon', 'Rider_Id', 'Time_Pic_Arr',\n",
       "       'Day_of_Month', 'Day_of_Week'],\n",
       "      dtype='object')"
      ]
     },
     "execution_count": 157,
     "metadata": {},
     "output_type": "execute_result"
    }
   ],
   "source": [
    "full_df.columns"
   ]
  },
  {
   "cell_type": "markdown",
   "metadata": {},
   "source": [
    "#### Variable Datatypes"
   ]
  },
  {
   "cell_type": "code",
   "execution_count": 158,
   "metadata": {},
   "outputs": [
    {
     "data": {
      "text/html": [
       "<div>\n",
       "<style scoped>\n",
       "    .dataframe tbody tr th:only-of-type {\n",
       "        vertical-align: middle;\n",
       "    }\n",
       "\n",
       "    .dataframe tbody tr th {\n",
       "        vertical-align: top;\n",
       "    }\n",
       "\n",
       "    .dataframe thead th {\n",
       "        text-align: right;\n",
       "    }\n",
       "</style>\n",
       "<table border=\"1\" class=\"dataframe\">\n",
       "  <thead>\n",
       "    <tr style=\"text-align: right;\">\n",
       "      <th></th>\n",
       "      <th>Platform_Type</th>\n",
       "      <th>Distance(km)</th>\n",
       "      <th>Temperature</th>\n",
       "      <th>Precipitation(mm)</th>\n",
       "      <th>Pickup_Lat</th>\n",
       "      <th>Pickup_Lon</th>\n",
       "      <th>Destination_Lat</th>\n",
       "      <th>Destination_Lon</th>\n",
       "      <th>Day_of_Month</th>\n",
       "      <th>Day_of_Week</th>\n",
       "    </tr>\n",
       "  </thead>\n",
       "  <tbody>\n",
       "    <tr>\n",
       "      <th>0</th>\n",
       "      <td>3</td>\n",
       "      <td>4</td>\n",
       "      <td>20.400000</td>\n",
       "      <td>7.573502</td>\n",
       "      <td>-1.317755</td>\n",
       "      <td>36.830370</td>\n",
       "      <td>-1.300406</td>\n",
       "      <td>36.829741</td>\n",
       "      <td>9</td>\n",
       "      <td>5</td>\n",
       "    </tr>\n",
       "    <tr>\n",
       "      <th>1</th>\n",
       "      <td>3</td>\n",
       "      <td>16</td>\n",
       "      <td>26.400000</td>\n",
       "      <td>7.573502</td>\n",
       "      <td>-1.351453</td>\n",
       "      <td>36.899315</td>\n",
       "      <td>-1.295004</td>\n",
       "      <td>36.814358</td>\n",
       "      <td>12</td>\n",
       "      <td>5</td>\n",
       "    </tr>\n",
       "    <tr>\n",
       "      <th>2</th>\n",
       "      <td>3</td>\n",
       "      <td>3</td>\n",
       "      <td>23.255689</td>\n",
       "      <td>7.573502</td>\n",
       "      <td>-1.308284</td>\n",
       "      <td>36.843419</td>\n",
       "      <td>-1.300921</td>\n",
       "      <td>36.828195</td>\n",
       "      <td>30</td>\n",
       "      <td>2</td>\n",
       "    </tr>\n",
       "  </tbody>\n",
       "</table>\n",
       "</div>"
      ],
      "text/plain": [
       "   Platform_Type  Distance(km)  Temperature  Precipitation(mm)  Pickup_Lat  \\\n",
       "0              3             4    20.400000           7.573502   -1.317755   \n",
       "1              3            16    26.400000           7.573502   -1.351453   \n",
       "2              3             3    23.255689           7.573502   -1.308284   \n",
       "\n",
       "   Pickup_Lon  Destination_Lat  Destination_Lon  Day_of_Month  Day_of_Week  \n",
       "0   36.830370        -1.300406        36.829741             9            5  \n",
       "1   36.899315        -1.295004        36.814358            12            5  \n",
       "2   36.843419        -1.300921        36.828195            30            2  "
      ]
     },
     "execution_count": 158,
     "metadata": {},
     "output_type": "execute_result"
    }
   ],
   "source": [
    "numeric_cols = []\n",
    "object_cols = []\n",
    "time_cols = []\n",
    "for k, v in full_df.dtypes.items():\n",
    "    if (v != object):\n",
    "        if (k != \"Time_Pic_Arr\"):\n",
    "            numeric_cols.append(k)\n",
    "    elif k.endswith(\"Time\"):\n",
    "        time_cols.append(k)\n",
    "    else:\n",
    "        object_cols.append(k)\n",
    "full_df[numeric_cols].head(3) "
   ]
  },
  {
   "cell_type": "code",
   "execution_count": 159,
   "metadata": {},
   "outputs": [
    {
     "data": {
      "text/html": [
       "<div>\n",
       "<style scoped>\n",
       "    .dataframe tbody tr th:only-of-type {\n",
       "        vertical-align: middle;\n",
       "    }\n",
       "\n",
       "    .dataframe tbody tr th {\n",
       "        vertical-align: top;\n",
       "    }\n",
       "\n",
       "    .dataframe thead th {\n",
       "        text-align: right;\n",
       "    }\n",
       "</style>\n",
       "<table border=\"1\" class=\"dataframe\">\n",
       "  <thead>\n",
       "    <tr style=\"text-align: right;\">\n",
       "      <th></th>\n",
       "      <th>Pla_Time</th>\n",
       "      <th>Con_Time</th>\n",
       "      <th>Arr_Pic_Time</th>\n",
       "      <th>Pickup_Time</th>\n",
       "    </tr>\n",
       "  </thead>\n",
       "  <tbody>\n",
       "    <tr>\n",
       "      <th>0</th>\n",
       "      <td>09:35:46</td>\n",
       "      <td>09:40:10</td>\n",
       "      <td>10:04:47</td>\n",
       "      <td>10:27:30</td>\n",
       "    </tr>\n",
       "    <tr>\n",
       "      <th>1</th>\n",
       "      <td>11:16:16</td>\n",
       "      <td>11:23:21</td>\n",
       "      <td>11:40:22</td>\n",
       "      <td>11:44:09</td>\n",
       "    </tr>\n",
       "    <tr>\n",
       "      <th>2</th>\n",
       "      <td>12:39:25</td>\n",
       "      <td>12:42:44</td>\n",
       "      <td>12:49:34</td>\n",
       "      <td>12:53:03</td>\n",
       "    </tr>\n",
       "  </tbody>\n",
       "</table>\n",
       "</div>"
      ],
      "text/plain": [
       "   Pla_Time  Con_Time Arr_Pic_Time Pickup_Time\n",
       "0  09:35:46  09:40:10     10:04:47    10:27:30\n",
       "1  11:16:16  11:23:21     11:40:22    11:44:09\n",
       "2  12:39:25  12:42:44     12:49:34    12:53:03"
      ]
     },
     "execution_count": 159,
     "metadata": {},
     "output_type": "execute_result"
    }
   ],
   "source": [
    "full_df[time_cols].head(3)"
   ]
  },
  {
   "cell_type": "code",
   "execution_count": 160,
   "metadata": {},
   "outputs": [
    {
     "data": {
      "text/html": [
       "<div>\n",
       "<style scoped>\n",
       "    .dataframe tbody tr th:only-of-type {\n",
       "        vertical-align: middle;\n",
       "    }\n",
       "\n",
       "    .dataframe tbody tr th {\n",
       "        vertical-align: top;\n",
       "    }\n",
       "\n",
       "    .dataframe thead th {\n",
       "        text-align: right;\n",
       "    }\n",
       "</style>\n",
       "<table border=\"1\" class=\"dataframe\">\n",
       "  <thead>\n",
       "    <tr style=\"text-align: right;\">\n",
       "      <th></th>\n",
       "      <th>Order_No</th>\n",
       "      <th>User_Id</th>\n",
       "      <th>Personal_Business</th>\n",
       "      <th>Rider_Id</th>\n",
       "    </tr>\n",
       "  </thead>\n",
       "  <tbody>\n",
       "    <tr>\n",
       "      <th>0</th>\n",
       "      <td>Order_No_4211</td>\n",
       "      <td>User_Id_633</td>\n",
       "      <td>Business</td>\n",
       "      <td>Rider_Id_432</td>\n",
       "    </tr>\n",
       "    <tr>\n",
       "      <th>1</th>\n",
       "      <td>Order_No_25375</td>\n",
       "      <td>User_Id_2285</td>\n",
       "      <td>Personal</td>\n",
       "      <td>Rider_Id_856</td>\n",
       "    </tr>\n",
       "    <tr>\n",
       "      <th>2</th>\n",
       "      <td>Order_No_1899</td>\n",
       "      <td>User_Id_265</td>\n",
       "      <td>Business</td>\n",
       "      <td>Rider_Id_155</td>\n",
       "    </tr>\n",
       "  </tbody>\n",
       "</table>\n",
       "</div>"
      ],
      "text/plain": [
       "         Order_No       User_Id Personal_Business      Rider_Id\n",
       "0   Order_No_4211   User_Id_633          Business  Rider_Id_432\n",
       "1  Order_No_25375  User_Id_2285          Personal  Rider_Id_856\n",
       "2   Order_No_1899   User_Id_265          Business  Rider_Id_155"
      ]
     },
     "execution_count": 160,
     "metadata": {},
     "output_type": "execute_result"
    }
   ],
   "source": [
    "full_df[object_cols].head(3)"
   ]
  },
  {
   "cell_type": "markdown",
   "metadata": {},
   "source": [
    "#### Convert an object to numeric"
   ]
  },
  {
   "cell_type": "code",
   "execution_count": 161,
   "metadata": {},
   "outputs": [
    {
     "data": {
      "text/plain": [
       "0    0\n",
       "1    1\n",
       "Name: Personal_Business, dtype: int32"
      ]
     },
     "execution_count": 161,
     "metadata": {},
     "output_type": "execute_result"
    }
   ],
   "source": [
    "#Convert an object to numeric (encoding)\n",
    "\n",
    "le = LabelEncoder()\n",
    "le.fit(full_df['Personal_Business'])\n",
    "full_df['Personal_Business'] = le.transform(full_df['Personal_Business'])\n",
    "full_df['Personal_Business'][:2]\n"
   ]
  },
  {
   "cell_type": "code",
   "execution_count": 162,
   "metadata": {},
   "outputs": [
    {
     "data": {
      "text/html": [
       "<div>\n",
       "<style scoped>\n",
       "    .dataframe tbody tr th:only-of-type {\n",
       "        vertical-align: middle;\n",
       "    }\n",
       "\n",
       "    .dataframe tbody tr th {\n",
       "        vertical-align: top;\n",
       "    }\n",
       "\n",
       "    .dataframe thead th {\n",
       "        text-align: right;\n",
       "    }\n",
       "</style>\n",
       "<table border=\"1\" class=\"dataframe\">\n",
       "  <thead>\n",
       "    <tr style=\"text-align: right;\">\n",
       "      <th></th>\n",
       "      <th>Order_No</th>\n",
       "      <th>User_Id</th>\n",
       "      <th>Platform_Type</th>\n",
       "      <th>Personal_Business</th>\n",
       "      <th>Pla_Time</th>\n",
       "      <th>Con_Time</th>\n",
       "      <th>Arr_Pic_Time</th>\n",
       "      <th>Pickup_Time</th>\n",
       "      <th>Distance(km)</th>\n",
       "      <th>Temperature</th>\n",
       "      <th>Precipitation(mm)</th>\n",
       "      <th>Pickup_Lat</th>\n",
       "      <th>Pickup_Lon</th>\n",
       "      <th>Destination_Lat</th>\n",
       "      <th>Destination_Lon</th>\n",
       "      <th>Rider_Id</th>\n",
       "      <th>Time_Pic_Arr</th>\n",
       "      <th>Day_of_Month</th>\n",
       "      <th>Day_of_Week</th>\n",
       "    </tr>\n",
       "  </thead>\n",
       "  <tbody>\n",
       "    <tr>\n",
       "      <th>0</th>\n",
       "      <td>Order_No_4211</td>\n",
       "      <td>User_Id_633</td>\n",
       "      <td>3</td>\n",
       "      <td>0</td>\n",
       "      <td>09:35:46</td>\n",
       "      <td>09:40:10</td>\n",
       "      <td>10:04:47</td>\n",
       "      <td>10:27:30</td>\n",
       "      <td>4</td>\n",
       "      <td>20.400000</td>\n",
       "      <td>7.573502</td>\n",
       "      <td>-1.317755</td>\n",
       "      <td>36.830370</td>\n",
       "      <td>-1.300406</td>\n",
       "      <td>36.829741</td>\n",
       "      <td>Rider_Id_432</td>\n",
       "      <td>745.0</td>\n",
       "      <td>9</td>\n",
       "      <td>5</td>\n",
       "    </tr>\n",
       "    <tr>\n",
       "      <th>1</th>\n",
       "      <td>Order_No_25375</td>\n",
       "      <td>User_Id_2285</td>\n",
       "      <td>3</td>\n",
       "      <td>1</td>\n",
       "      <td>11:16:16</td>\n",
       "      <td>11:23:21</td>\n",
       "      <td>11:40:22</td>\n",
       "      <td>11:44:09</td>\n",
       "      <td>16</td>\n",
       "      <td>26.400000</td>\n",
       "      <td>7.573502</td>\n",
       "      <td>-1.351453</td>\n",
       "      <td>36.899315</td>\n",
       "      <td>-1.295004</td>\n",
       "      <td>36.814358</td>\n",
       "      <td>Rider_Id_856</td>\n",
       "      <td>1993.0</td>\n",
       "      <td>12</td>\n",
       "      <td>5</td>\n",
       "    </tr>\n",
       "    <tr>\n",
       "      <th>2</th>\n",
       "      <td>Order_No_1899</td>\n",
       "      <td>User_Id_265</td>\n",
       "      <td>3</td>\n",
       "      <td>0</td>\n",
       "      <td>12:39:25</td>\n",
       "      <td>12:42:44</td>\n",
       "      <td>12:49:34</td>\n",
       "      <td>12:53:03</td>\n",
       "      <td>3</td>\n",
       "      <td>23.255689</td>\n",
       "      <td>7.573502</td>\n",
       "      <td>-1.308284</td>\n",
       "      <td>36.843419</td>\n",
       "      <td>-1.300921</td>\n",
       "      <td>36.828195</td>\n",
       "      <td>Rider_Id_155</td>\n",
       "      <td>455.0</td>\n",
       "      <td>30</td>\n",
       "      <td>2</td>\n",
       "    </tr>\n",
       "    <tr>\n",
       "      <th>3</th>\n",
       "      <td>Order_No_9336</td>\n",
       "      <td>User_Id_1402</td>\n",
       "      <td>3</td>\n",
       "      <td>0</td>\n",
       "      <td>09:25:34</td>\n",
       "      <td>09:26:05</td>\n",
       "      <td>09:37:56</td>\n",
       "      <td>09:43:06</td>\n",
       "      <td>9</td>\n",
       "      <td>19.200000</td>\n",
       "      <td>7.573502</td>\n",
       "      <td>-1.281301</td>\n",
       "      <td>36.832396</td>\n",
       "      <td>-1.257147</td>\n",
       "      <td>36.795063</td>\n",
       "      <td>Rider_Id_855</td>\n",
       "      <td>1341.0</td>\n",
       "      <td>15</td>\n",
       "      <td>5</td>\n",
       "    </tr>\n",
       "    <tr>\n",
       "      <th>4</th>\n",
       "      <td>Order_No_27883</td>\n",
       "      <td>User_Id_1737</td>\n",
       "      <td>1</td>\n",
       "      <td>1</td>\n",
       "      <td>09:55:18</td>\n",
       "      <td>09:56:18</td>\n",
       "      <td>10:03:53</td>\n",
       "      <td>10:05:23</td>\n",
       "      <td>9</td>\n",
       "      <td>15.400000</td>\n",
       "      <td>7.573502</td>\n",
       "      <td>-1.266597</td>\n",
       "      <td>36.792118</td>\n",
       "      <td>-1.295041</td>\n",
       "      <td>36.809817</td>\n",
       "      <td>Rider_Id_770</td>\n",
       "      <td>1214.0</td>\n",
       "      <td>13</td>\n",
       "      <td>1</td>\n",
       "    </tr>\n",
       "  </tbody>\n",
       "</table>\n",
       "</div>"
      ],
      "text/plain": [
       "         Order_No       User_Id  Platform_Type  Personal_Business  Pla_Time  \\\n",
       "0   Order_No_4211   User_Id_633              3                  0  09:35:46   \n",
       "1  Order_No_25375  User_Id_2285              3                  1  11:16:16   \n",
       "2   Order_No_1899   User_Id_265              3                  0  12:39:25   \n",
       "3   Order_No_9336  User_Id_1402              3                  0  09:25:34   \n",
       "4  Order_No_27883  User_Id_1737              1                  1  09:55:18   \n",
       "\n",
       "   Con_Time Arr_Pic_Time Pickup_Time  Distance(km)  Temperature  \\\n",
       "0  09:40:10     10:04:47    10:27:30             4    20.400000   \n",
       "1  11:23:21     11:40:22    11:44:09            16    26.400000   \n",
       "2  12:42:44     12:49:34    12:53:03             3    23.255689   \n",
       "3  09:26:05     09:37:56    09:43:06             9    19.200000   \n",
       "4  09:56:18     10:03:53    10:05:23             9    15.400000   \n",
       "\n",
       "   Precipitation(mm)  Pickup_Lat  Pickup_Lon  Destination_Lat  \\\n",
       "0           7.573502   -1.317755   36.830370        -1.300406   \n",
       "1           7.573502   -1.351453   36.899315        -1.295004   \n",
       "2           7.573502   -1.308284   36.843419        -1.300921   \n",
       "3           7.573502   -1.281301   36.832396        -1.257147   \n",
       "4           7.573502   -1.266597   36.792118        -1.295041   \n",
       "\n",
       "   Destination_Lon      Rider_Id  Time_Pic_Arr  Day_of_Month  Day_of_Week  \n",
       "0        36.829741  Rider_Id_432         745.0             9            5  \n",
       "1        36.814358  Rider_Id_856        1993.0            12            5  \n",
       "2        36.828195  Rider_Id_155         455.0            30            2  \n",
       "3        36.795063  Rider_Id_855        1341.0            15            5  \n",
       "4        36.809817  Rider_Id_770        1214.0            13            1  "
      ]
     },
     "execution_count": 162,
     "metadata": {},
     "output_type": "execute_result"
    }
   ],
   "source": [
    "full_df.head()"
   ]
  },
  {
   "cell_type": "markdown",
   "metadata": {},
   "source": [
    "#### Feature Selection"
   ]
  },
  {
   "cell_type": "code",
   "execution_count": 163,
   "metadata": {},
   "outputs": [
    {
     "data": {
      "text/html": [
       "<div>\n",
       "<style scoped>\n",
       "    .dataframe tbody tr th:only-of-type {\n",
       "        vertical-align: middle;\n",
       "    }\n",
       "\n",
       "    .dataframe tbody tr th {\n",
       "        vertical-align: top;\n",
       "    }\n",
       "\n",
       "    .dataframe thead th {\n",
       "        text-align: right;\n",
       "    }\n",
       "</style>\n",
       "<table border=\"1\" class=\"dataframe\">\n",
       "  <thead>\n",
       "    <tr style=\"text-align: right;\">\n",
       "      <th></th>\n",
       "      <th>Platform_Type</th>\n",
       "      <th>Distance(km)</th>\n",
       "      <th>Temperature</th>\n",
       "      <th>Precipitation(mm)</th>\n",
       "      <th>Pickup_Lat</th>\n",
       "      <th>Pickup_Lon</th>\n",
       "      <th>Destination_Lat</th>\n",
       "      <th>Destination_Lon</th>\n",
       "      <th>Day_of_Month</th>\n",
       "      <th>Day_of_Week</th>\n",
       "      <th>Personal_Business</th>\n",
       "      <th>Order_No</th>\n",
       "    </tr>\n",
       "  </thead>\n",
       "  <tbody>\n",
       "    <tr>\n",
       "      <th>0</th>\n",
       "      <td>3</td>\n",
       "      <td>4</td>\n",
       "      <td>20.400000</td>\n",
       "      <td>7.573502</td>\n",
       "      <td>-1.317755</td>\n",
       "      <td>36.830370</td>\n",
       "      <td>-1.300406</td>\n",
       "      <td>36.829741</td>\n",
       "      <td>9</td>\n",
       "      <td>5</td>\n",
       "      <td>0</td>\n",
       "      <td>Order_No_4211</td>\n",
       "    </tr>\n",
       "    <tr>\n",
       "      <th>1</th>\n",
       "      <td>3</td>\n",
       "      <td>16</td>\n",
       "      <td>26.400000</td>\n",
       "      <td>7.573502</td>\n",
       "      <td>-1.351453</td>\n",
       "      <td>36.899315</td>\n",
       "      <td>-1.295004</td>\n",
       "      <td>36.814358</td>\n",
       "      <td>12</td>\n",
       "      <td>5</td>\n",
       "      <td>1</td>\n",
       "      <td>Order_No_25375</td>\n",
       "    </tr>\n",
       "    <tr>\n",
       "      <th>2</th>\n",
       "      <td>3</td>\n",
       "      <td>3</td>\n",
       "      <td>23.255689</td>\n",
       "      <td>7.573502</td>\n",
       "      <td>-1.308284</td>\n",
       "      <td>36.843419</td>\n",
       "      <td>-1.300921</td>\n",
       "      <td>36.828195</td>\n",
       "      <td>30</td>\n",
       "      <td>2</td>\n",
       "      <td>0</td>\n",
       "      <td>Order_No_1899</td>\n",
       "    </tr>\n",
       "    <tr>\n",
       "      <th>3</th>\n",
       "      <td>3</td>\n",
       "      <td>9</td>\n",
       "      <td>19.200000</td>\n",
       "      <td>7.573502</td>\n",
       "      <td>-1.281301</td>\n",
       "      <td>36.832396</td>\n",
       "      <td>-1.257147</td>\n",
       "      <td>36.795063</td>\n",
       "      <td>15</td>\n",
       "      <td>5</td>\n",
       "      <td>0</td>\n",
       "      <td>Order_No_9336</td>\n",
       "    </tr>\n",
       "    <tr>\n",
       "      <th>4</th>\n",
       "      <td>1</td>\n",
       "      <td>9</td>\n",
       "      <td>15.400000</td>\n",
       "      <td>7.573502</td>\n",
       "      <td>-1.266597</td>\n",
       "      <td>36.792118</td>\n",
       "      <td>-1.295041</td>\n",
       "      <td>36.809817</td>\n",
       "      <td>13</td>\n",
       "      <td>1</td>\n",
       "      <td>1</td>\n",
       "      <td>Order_No_27883</td>\n",
       "    </tr>\n",
       "  </tbody>\n",
       "</table>\n",
       "</div>"
      ],
      "text/plain": [
       "   Platform_Type  Distance(km)  Temperature  Precipitation(mm)  Pickup_Lat  \\\n",
       "0              3             4    20.400000           7.573502   -1.317755   \n",
       "1              3            16    26.400000           7.573502   -1.351453   \n",
       "2              3             3    23.255689           7.573502   -1.308284   \n",
       "3              3             9    19.200000           7.573502   -1.281301   \n",
       "4              1             9    15.400000           7.573502   -1.266597   \n",
       "\n",
       "   Pickup_Lon  Destination_Lat  Destination_Lon  Day_of_Month  Day_of_Week  \\\n",
       "0   36.830370        -1.300406        36.829741             9            5   \n",
       "1   36.899315        -1.295004        36.814358            12            5   \n",
       "2   36.843419        -1.300921        36.828195            30            2   \n",
       "3   36.832396        -1.257147        36.795063            15            5   \n",
       "4   36.792118        -1.295041        36.809817            13            1   \n",
       "\n",
       "   Personal_Business        Order_No  \n",
       "0                  0   Order_No_4211  \n",
       "1                  1  Order_No_25375  \n",
       "2                  0   Order_No_1899  \n",
       "3                  0   Order_No_9336  \n",
       "4                  1  Order_No_27883  "
      ]
     },
     "execution_count": 163,
     "metadata": {},
     "output_type": "execute_result"
    }
   ],
   "source": [
    "features = numeric_cols + ['Personal_Business'] + ['Order_No']\n",
    "\n",
    "data_df = full_df[features]\n",
    "\n",
    "y = full_df[:border]['Time_Pic_Arr']\n",
    "train = data_df[:border]\n",
    "test = data_df[border:]\n",
    "\n",
    "train.head()"
   ]
  },
  {
   "cell_type": "code",
   "execution_count": 164,
   "metadata": {},
   "outputs": [
    {
     "name": "stdout",
     "output_type": "stream",
     "text": [
      "(28269, 19) (28269, 12) (21201, 12) (7068, 12) (21201,)\n"
     ]
    }
   ],
   "source": [
    "print(full_df.shape,data_df.shape,train.shape,test.shape,y.shape)"
   ]
  },
  {
   "cell_type": "markdown",
   "metadata": {},
   "source": [
    "#### Prep for split"
   ]
  },
  {
   "cell_type": "code",
   "execution_count": 165,
   "metadata": {},
   "outputs": [
    {
     "data": {
      "text/plain": [
       "(21201, 11)"
      ]
     },
     "execution_count": 165,
     "metadata": {},
     "output_type": "execute_result"
    }
   ],
   "source": [
    "train_new = train.drop('Order_No',axis=1)\n",
    "test_new = test.drop('Order_No',axis=1)\n",
    "train_new.shape"
   ]
  },
  {
   "cell_type": "code",
   "execution_count": 168,
   "metadata": {},
   "outputs": [
    {
     "data": {
      "text/plain": [
       "(7068, 11)"
      ]
     },
     "execution_count": 168,
     "metadata": {},
     "output_type": "execute_result"
    }
   ],
   "source": [
    "test_new.shape"
   ]
  },
  {
   "cell_type": "markdown",
   "metadata": {},
   "source": [
    "#### train_test_split"
   ]
  },
  {
   "cell_type": "code",
   "execution_count": 166,
   "metadata": {},
   "outputs": [
    {
     "name": "stdout",
     "output_type": "stream",
     "text": [
      "(16960, 11) (4241, 11) (16960,) (4241,)\n"
     ]
    }
   ],
   "source": [
    "X_train, X_test, y_train, y_test = train_test_split(train_new, y, test_size=0.2, random_state = 1, shuffle=False)\n",
    "print(X_train.shape, X_test.shape, y_train.shape, y_test.shape)"
   ]
  },
  {
   "cell_type": "markdown",
   "metadata": {},
   "source": [
    "### Linear Regression"
   ]
  },
  {
   "cell_type": "code",
   "execution_count": 167,
   "metadata": {},
   "outputs": [
    {
     "data": {
      "text/plain": [
       "778.5641538562762"
      ]
     },
     "execution_count": 167,
     "metadata": {},
     "output_type": "execute_result"
    }
   ],
   "source": [
    "lr = LinearRegression()\n",
    "lr.fit(X_train, y_train)\n",
    "test_pred = lr.predict(X_test)\n",
    "from sklearn.metrics import mean_squared_error\n",
    "def rmse(y_test,y_predict):\n",
    "    return np.sqrt(mean_squared_error(y_test,y_predict))\n",
    "rmse(y_test,test_pred)"
   ]
  },
  {
   "cell_type": "code",
   "execution_count": 169,
   "metadata": {},
   "outputs": [],
   "source": [
    "y_pred = lr.predict(test_new)"
   ]
  },
  {
   "cell_type": "code",
   "execution_count": 176,
   "metadata": {},
   "outputs": [],
   "source": [
    "submission_df = test_df1[['Order No']]\n",
    "submission_df['Time_Pic_Arr'] = y_pred"
   ]
  },
  {
   "cell_type": "code",
   "execution_count": 177,
   "metadata": {},
   "outputs": [],
   "source": [
    "submission_df.to_csv('D:/Temp/LRImproved.csv', index = False)"
   ]
  },
  {
   "cell_type": "markdown",
   "metadata": {},
   "source": [
    "### LR with Scailing"
   ]
  },
  {
   "cell_type": "code",
   "execution_count": 172,
   "metadata": {},
   "outputs": [
    {
     "data": {
      "text/html": [
       "<div>\n",
       "<style scoped>\n",
       "    .dataframe tbody tr th:only-of-type {\n",
       "        vertical-align: middle;\n",
       "    }\n",
       "\n",
       "    .dataframe tbody tr th {\n",
       "        vertical-align: top;\n",
       "    }\n",
       "\n",
       "    .dataframe thead th {\n",
       "        text-align: right;\n",
       "    }\n",
       "</style>\n",
       "<table border=\"1\" class=\"dataframe\">\n",
       "  <thead>\n",
       "    <tr style=\"text-align: right;\">\n",
       "      <th></th>\n",
       "      <th>Platform_Type</th>\n",
       "      <th>Distance(km)</th>\n",
       "      <th>Temperature</th>\n",
       "      <th>Precipitation(mm)</th>\n",
       "      <th>Pickup_Lat</th>\n",
       "      <th>Pickup_Lon</th>\n",
       "      <th>Destination_Lat</th>\n",
       "      <th>Destination_Lon</th>\n",
       "      <th>Day_of_Month</th>\n",
       "      <th>Day_of_Week</th>\n",
       "      <th>Personal_Business</th>\n",
       "    </tr>\n",
       "  </thead>\n",
       "  <tbody>\n",
       "    <tr>\n",
       "      <th>0</th>\n",
       "      <td>0.396406</td>\n",
       "      <td>-0.971370</td>\n",
       "      <td>-0.887117</td>\n",
       "      <td>-0.00314</td>\n",
       "      <td>-1.189424</td>\n",
       "      <td>0.509897</td>\n",
       "      <td>-0.511888</td>\n",
       "      <td>0.414159</td>\n",
       "      <td>-0.756213</td>\n",
       "      <td>1.122927</td>\n",
       "      <td>-0.468583</td>\n",
       "    </tr>\n",
       "    <tr>\n",
       "      <th>1</th>\n",
       "      <td>0.396406</td>\n",
       "      <td>1.145469</td>\n",
       "      <td>0.975120</td>\n",
       "      <td>-0.00314</td>\n",
       "      <td>-2.294056</td>\n",
       "      <td>2.349813</td>\n",
       "      <td>-0.356757</td>\n",
       "      <td>0.070177</td>\n",
       "      <td>-0.415254</td>\n",
       "      <td>1.122927</td>\n",
       "      <td>2.134095</td>\n",
       "    </tr>\n",
       "    <tr>\n",
       "      <th>2</th>\n",
       "      <td>0.396406</td>\n",
       "      <td>-1.147774</td>\n",
       "      <td>-0.000789</td>\n",
       "      <td>-0.00314</td>\n",
       "      <td>-0.878981</td>\n",
       "      <td>0.858136</td>\n",
       "      <td>-0.526672</td>\n",
       "      <td>0.379588</td>\n",
       "      <td>1.630501</td>\n",
       "      <td>-0.791244</td>\n",
       "      <td>-0.468583</td>\n",
       "    </tr>\n",
       "    <tr>\n",
       "      <th>3</th>\n",
       "      <td>0.396406</td>\n",
       "      <td>-0.089354</td>\n",
       "      <td>-1.259565</td>\n",
       "      <td>-0.00314</td>\n",
       "      <td>0.005523</td>\n",
       "      <td>0.563962</td>\n",
       "      <td>0.730374</td>\n",
       "      <td>-0.361289</td>\n",
       "      <td>-0.074294</td>\n",
       "      <td>1.122927</td>\n",
       "      <td>-0.468583</td>\n",
       "    </tr>\n",
       "    <tr>\n",
       "      <th>4</th>\n",
       "      <td>-2.802759</td>\n",
       "      <td>-0.089354</td>\n",
       "      <td>-2.438982</td>\n",
       "      <td>-0.00314</td>\n",
       "      <td>0.487515</td>\n",
       "      <td>-0.510932</td>\n",
       "      <td>-0.357811</td>\n",
       "      <td>-0.031369</td>\n",
       "      <td>-0.301601</td>\n",
       "      <td>-1.429301</td>\n",
       "      <td>2.134095</td>\n",
       "    </tr>\n",
       "  </tbody>\n",
       "</table>\n",
       "</div>"
      ],
      "text/plain": [
       "   Platform_Type  Distance(km)  Temperature  Precipitation(mm)  Pickup_Lat  \\\n",
       "0       0.396406     -0.971370    -0.887117           -0.00314   -1.189424   \n",
       "1       0.396406      1.145469     0.975120           -0.00314   -2.294056   \n",
       "2       0.396406     -1.147774    -0.000789           -0.00314   -0.878981   \n",
       "3       0.396406     -0.089354    -1.259565           -0.00314    0.005523   \n",
       "4      -2.802759     -0.089354    -2.438982           -0.00314    0.487515   \n",
       "\n",
       "   Pickup_Lon  Destination_Lat  Destination_Lon  Day_of_Month  Day_of_Week  \\\n",
       "0    0.509897        -0.511888         0.414159     -0.756213     1.122927   \n",
       "1    2.349813        -0.356757         0.070177     -0.415254     1.122927   \n",
       "2    0.858136        -0.526672         0.379588      1.630501    -0.791244   \n",
       "3    0.563962         0.730374        -0.361289     -0.074294     1.122927   \n",
       "4   -0.510932        -0.357811        -0.031369     -0.301601    -1.429301   \n",
       "\n",
       "   Personal_Business  \n",
       "0          -0.468583  \n",
       "1           2.134095  \n",
       "2          -0.468583  \n",
       "3          -0.468583  \n",
       "4           2.134095  "
      ]
     },
     "execution_count": 172,
     "metadata": {},
     "output_type": "execute_result"
    }
   ],
   "source": [
    "from sklearn.preprocessing import StandardScaler\n",
    "scaler = StandardScaler()\n",
    "train_new_scaled = scaler.fit_transform(train_new)\n",
    "train_new_standardise = pd.DataFrame(train_new_scaled,columns=train_new.columns)\n",
    "train_new_standardise.head()"
   ]
  },
  {
   "cell_type": "code",
   "execution_count": 173,
   "metadata": {},
   "outputs": [
    {
     "name": "stdout",
     "output_type": "stream",
     "text": [
      "(16960, 11) (4241, 11) (16960,) (4241,)\n"
     ]
    }
   ],
   "source": [
    "X_train, X_test, y_train, y_test = train_test_split(train_new_standardise, y, test_size=0.2, random_state = 1, shuffle=False)\n",
    "print(X_train.shape, X_test.shape, y_train.shape, y_test.shape)"
   ]
  },
  {
   "cell_type": "code",
   "execution_count": 174,
   "metadata": {},
   "outputs": [
    {
     "data": {
      "text/plain": [
       "778.564153856276"
      ]
     },
     "execution_count": 174,
     "metadata": {},
     "output_type": "execute_result"
    }
   ],
   "source": [
    "lr = LinearRegression()\n",
    "lr.fit(X_train, y_train)\n",
    "test_pred = lr.predict(X_test)\n",
    "from sklearn.metrics import mean_squared_error\n",
    "def rmse(y_test,y_predict):\n",
    "    return np.sqrt(mean_squared_error(y_test,y_predict))\n",
    "rmse(y_test,test_pred)"
   ]
  },
  {
   "cell_type": "code",
   "execution_count": 175,
   "metadata": {},
   "outputs": [],
   "source": [
    "y_pred = lr.predict(test_new)"
   ]
  },
  {
   "cell_type": "markdown",
   "metadata": {},
   "source": [
    "#### Ridge"
   ]
  },
  {
   "cell_type": "code",
   "execution_count": 178,
   "metadata": {},
   "outputs": [
    {
     "data": {
      "text/plain": [
       "778.564153856276"
      ]
     },
     "execution_count": 178,
     "metadata": {},
     "output_type": "execute_result"
    }
   ],
   "source": [
    "X_train, X_test, y_train, y_test = train_test_split(train_new_standardise, \n",
    "                                                    y, \n",
    "                                                    test_size=0.2, \n",
    "                                                    shuffle=False)\n",
    "from sklearn.linear_model import Ridge\n",
    "ridge = Ridge()\n",
    "ridge.fit(X_train, y_train)\n",
    "test_pred = lr.predict(X_test)\n",
    "from sklearn.metrics import mean_squared_error\n",
    "def rmse(y_test,y_predict):\n",
    "    return np.sqrt(mean_squared_error(y_test,y_predict))\n",
    "rmse(y_test,test_pred)"
   ]
  },
  {
   "cell_type": "code",
   "execution_count": 179,
   "metadata": {},
   "outputs": [],
   "source": [
    "y_pred = lr.predict(test_new)"
   ]
  },
  {
   "cell_type": "code",
   "execution_count": 180,
   "metadata": {},
   "outputs": [],
   "source": [
    "submission_df = test_df1[['Order No']]\n",
    "submission_df['Time_Pic_Arr'] = y_pred"
   ]
  },
  {
   "cell_type": "code",
   "execution_count": 181,
   "metadata": {},
   "outputs": [],
   "source": [
    "submission_df.to_csv('D:/Temp/LRRidge.csv', index = False)"
   ]
  },
  {
   "cell_type": "markdown",
   "metadata": {},
   "source": [
    "#### Lasso"
   ]
  },
  {
   "cell_type": "code",
   "execution_count": 184,
   "metadata": {},
   "outputs": [
    {
     "data": {
      "text/plain": [
       "778.564153856276"
      ]
     },
     "execution_count": 184,
     "metadata": {},
     "output_type": "execute_result"
    }
   ],
   "source": [
    "# split dataset into train and test sets\n",
    "X_train, X_test, y_train, y_test = train_test_split(train_new_standardise, \n",
    "                                                    y, \n",
    "                                                    test_size=0.20,\n",
    "                                                    random_state=1,\n",
    "                                                    shuffle=False)\n",
    "from sklearn.linear_model import Lasso\n",
    "lasso = Lasso(alpha=0.01)\n",
    "lasso.fit(X_train, y_train)\n",
    "test_pred = lr.predict(X_test)\n",
    "def rmse(y_test,y_predict):\n",
    "    return np.sqrt(mean_squared_error(y_test,y_predict))\n",
    "rmse(y_test,test_pred)"
   ]
  },
  {
   "cell_type": "code",
   "execution_count": null,
   "metadata": {},
   "outputs": [],
   "source": []
  }
 ],
 "metadata": {
  "kernelspec": {
   "display_name": "Python 3",
   "language": "python",
   "name": "python3"
  },
  "language_info": {
   "codemirror_mode": {
    "name": "ipython",
    "version": 3
   },
   "file_extension": ".py",
   "mimetype": "text/x-python",
   "name": "python",
   "nbconvert_exporter": "python",
   "pygments_lexer": "ipython3",
   "version": "3.7.6"
  }
 },
 "nbformat": 4,
 "nbformat_minor": 4
}
